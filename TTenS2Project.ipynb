{
 "cells": [
  {
   "cell_type": "markdown",
   "id": "65ba202e",
   "metadata": {},
   "source": [
    "\n",
    "<div style=\"border-radius: 15px; border: 3px solid indigo; padding: 15px;\">\n",
    "<b> Reviewer's comment 3</b>\n",
    "\n",
    "\n",
    "Everything is correct now, thank you so much! I do not have any questions, so the project can be accepted. Good luck! \n",
    "    \n",
    "\n",
    "    \n",
    "</div>"
   ]
  },
  {
   "cell_type": "markdown",
   "id": "f770a6ac",
   "metadata": {},
   "source": [
    "\n",
    "<div style=\"border-radius: 15px; border: 3px solid indigo; padding: 15px;\">\n",
    "<b> Reviewer's comment 2</b>\n",
    "\n",
    "\n",
    "Thank you for sending a new version of the project 😊 I've left a few comments titled as **Reviewer's comment 2**. Please take a look :) There's only one issue this time.\n",
    "\n",
    "    \n",
    "\n",
    "    \n",
    "</div>"
   ]
  },
  {
   "cell_type": "markdown",
   "id": "091187ac",
   "metadata": {},
   "source": [
    "<div style=\"border-radius: 15px; border: 3px solid indigo; padding: 15px;\">\n",
    "<b> Reviewer's comment</b>\n",
    "    \n",
    "Hi, I am a reviewer on this project. Glad to see you here! \n",
    "    \n",
    "\n",
    "Before we start, I want to pay your attention to the color marking:\n",
    "    \n",
    "<div class=\"alert alert-success\" style=\"border-radius: 15px; box-shadow: 4px 4px 4px; border: 1px solid \">\n",
    "<b> Reviewer's comment ✔️</b>\n",
    "    \n",
    "Great solutions and ideas that can and should be used in the future are in green comments.   \n",
    "</div>    \n",
    "    \n",
    "    \n",
    "<div class=\"alert alert-warning\" style=\"border-radius: 15px; box-shadow: 4px 4px 4px; border: 1px solid \">\n",
    "<b> Reviewer's comment ⚠️</b>\n",
    "\n",
    "Yellow color indicates what should be optimized. This is not necessary, but it will be great if you make changes to this project.\n",
    "</div>      \n",
    "    \n",
    "    \n",
    "<div class=\"alert alert-danger\" style=\"border-radius: 15px; box-shadow: 4px 4px 4px; border: 1px solid \">\n",
    "<b> Reviewer's comment ❌</b>\n",
    "\n",
    "Issues that need to be corrected to get right results are indicated in red comments. Note that the project cannot be accepted until these issues are resolved.\n",
    "</div>    \n",
    "\n",
    "<hr>\n",
    "    \n",
    "**Please, use some color other than those listed to highlight answers to my comments.**\n",
    "I would also ask you **not to change, move or delete my comments** so that it would be easier for me to navigate during the next review.\n",
    "    \n",
    "In addition, my comments are defined as headings. \n",
    "They can mess up the content; however, they are convenient, since you can immediately go to them. I will remove the headings from my comments in the next review. \n",
    "   \n",
    "    \n",
    "    \n",
    "<hr>\n",
    "    \n",
    "<font color='dodgerblue'>**A few words about the project:**</font> you did a good job, everything is clear and neat. The project is easy to read, which is definitely a plus. There are a lot graphs. It is good, visualization never hurts. I still have some questions that I've written in my comments.    \n",
    "    \n",
    "I've also left there some recommendations for improving the project.  I will wait for the project for the second review :)\n",
    "    \n",
    "    \n",
    "<hr>\n",
    "    \n",
    "Please feel free to schedule a 1:1 with our tutors or TAs, join daily coworking sessions, or ask questions in the sprint channels on Discord if you need assistance. \n",
    "\n",
    "    \n",
    "<hr>    \n",
    "📌 Here are some hints that may help you with Markdown cells:    \n",
    "<hr style=\"border-top: 3px solid purple; \"></hr>\n",
    "\n",
    "You can leave comments using this code inside a Markdown cell:\n",
    "    \n",
    "    \n",
    "    <div class=\"alert alert-info\">\n",
    "    <h2> Student's comment</h2>\n",
    "\n",
    "    Your text here. \n",
    "    </div>\n",
    "\n",
    "    \n",
    "    \n",
    "    <font color='red'> This code is used to change text color. </font>     \n",
    "\n",
    "<font color='red'> It will look like this. </font> \n",
    "    \n",
    "If you don't want your comments to be headings, replace **h2** with **b** or just add `<a class=\"tocSkip\">` after the phrase *Student's comment*.\n",
    "\n",
    "\n",
    "You can find out how to **format text** in a Markdown cell or how to **add links** [here](https://sqlbak.com/blog/jupyter-notebook-markdown-cheatsheet). \n",
    "</div>"
   ]
  },
  {
   "cell_type": "markdown",
   "id": "18dbf19a",
   "metadata": {},
   "source": [
    "<div class=\"alert alert-danger\" style=\"border-radius: 15px; box-shadow: 4px 4px 4px; border: 1px solid \">\n",
    "<b>   Reviewer's comment ❌</b>\n",
    "    \n",
    "First things first. The introduction is the initial paragraph that each project, each essay or any article should have. It is important to write an introductory part, because it gives an idea about the content of the project. \n",
    "    \n",
    "    \n",
    "Please add a title and project description. \n",
    "\n",
    "</div>\n",
    "<div class=\"alert alert-success\" style=\"border-radius: 15px; box-shadow: 4px 4px 4px; border: 1px solid \">\n",
    "<h2> Reviewer's comment 2 ✔️</h2>\n",
    "    \n",
    "Great! :) It's a good habit actually. I have about 200 notebooks on my laptop with different tasks. Without a good intro it would be hard to remember what a particular notebook is about.\n",
    "\n",
    "</div>"
   ]
  },
  {
   "cell_type": "markdown",
   "id": "70a13813",
   "metadata": {},
   "source": [
    "<div class=\"alert alert-info\">\n",
    "<h2> Introduction </h2>\n",
    "\n",
    "This data analysis project is based  on data from Instacart, a goods delivery platform similar to Uber Eats and Door Dash but specifically for groceries. Prior to answering important questions about the data, the data must first be checked, cleaned and processed. This is to ensure that there are no issues with the data such as missing or duplicate values, that may negatively impact the results later on.\n",
    "\n",
    "The aim of this project is to figure out important trends with the customer's ordering habits.\n",
    "\n",
    "Questions we aim to answer by the end of the project:\n",
    "    \n",
    "    1. Are the order_hour_of_day and order_dow values in the orders dataframe sensible? (i.e. hour  of day ranges from 0 to 23 and order day of the week ranges from 0 to 6)\n",
    "    2. What time of day do most people shop for groceries?\n",
    "    3. What day do most people shop for groceries?\n",
    "    4. How long do customers typically wait before placing another order\n",
    "    5. Is there a difference in 'order_hour_of_day' distributions on Wednesdays and Saturdays?\n",
    "    6. How many orders are most customers placing?\n",
    "    7. What are the top 20 most popular products?\n",
    "    8. How many items do people typically buy?\n",
    "    9. What are the top 20 most reordered products?\n",
    "    10. What proportion of products are reordered for each customer?\n",
    "</div>\n"
   ]
  },
  {
   "cell_type": "code",
   "execution_count": 1,
   "id": "fbf1adab",
   "metadata": {},
   "outputs": [],
   "source": [
    "# importing pandas\n",
    "import pandas as pd\n",
    "import matplotlib.pyplot as plt"
   ]
  },
  {
   "cell_type": "markdown",
   "id": "5e9547c8",
   "metadata": {},
   "source": [
    "<div class=\"alert alert-warning\" style=\"border-radius: 15px; box-shadow: 4px 4px 4px; border: 1px solid \">\n",
    "<b>  Reviewer's comment ⚠️</b>\n",
    "    \n",
    "Since you read the data again in the cell below, the cell above can be removed. </div>\n",
    "<div class=\"alert alert-success\" style=\"border-radius: 15px; box-shadow: 4px 4px 4px; border: 1px solid \">\n",
    "<h2> Reviewer's comment 2 ✔️</h2>\n",
    "    \n",
    "Good. \n",
    "</div>"
   ]
  },
  {
   "cell_type": "code",
   "execution_count": 2,
   "id": "ad6a1efa",
   "metadata": {},
   "outputs": [],
   "source": [
    "# reading files and storing them to df\n",
    "df_orders = pd.read_csv('/datasets/instacart_orders.csv', sep=';')\n",
    "df_products = pd.read_csv('/datasets/products.csv', sep=';')\n",
    "df_aisles = pd.read_csv('/datasets/aisles.csv', sep=';')\n",
    "df_departments = pd.read_csv('/datasets/departments.csv', sep=';')\n",
    "df_order_products = pd.read_csv('/datasets/order_products.csv', sep=';')"
   ]
  },
  {
   "cell_type": "code",
   "execution_count": 3,
   "id": "5130e05e",
   "metadata": {
    "scrolled": false
   },
   "outputs": [
    {
     "data": {
      "text/plain": [
       "'Orders DataFrame:'"
      ]
     },
     "metadata": {},
     "output_type": "display_data"
    },
    {
     "data": {
      "text/html": [
       "<div>\n",
       "<style scoped>\n",
       "    .dataframe tbody tr th:only-of-type {\n",
       "        vertical-align: middle;\n",
       "    }\n",
       "\n",
       "    .dataframe tbody tr th {\n",
       "        vertical-align: top;\n",
       "    }\n",
       "\n",
       "    .dataframe thead th {\n",
       "        text-align: right;\n",
       "    }\n",
       "</style>\n",
       "<table border=\"1\" class=\"dataframe\">\n",
       "  <thead>\n",
       "    <tr style=\"text-align: right;\">\n",
       "      <th></th>\n",
       "      <th>order_id</th>\n",
       "      <th>user_id</th>\n",
       "      <th>order_number</th>\n",
       "      <th>order_dow</th>\n",
       "      <th>order_hour_of_day</th>\n",
       "      <th>days_since_prior_order</th>\n",
       "    </tr>\n",
       "  </thead>\n",
       "  <tbody>\n",
       "    <tr>\n",
       "      <th>0</th>\n",
       "      <td>1515936</td>\n",
       "      <td>183418</td>\n",
       "      <td>11</td>\n",
       "      <td>6</td>\n",
       "      <td>13</td>\n",
       "      <td>30.0</td>\n",
       "    </tr>\n",
       "    <tr>\n",
       "      <th>1</th>\n",
       "      <td>1690866</td>\n",
       "      <td>163593</td>\n",
       "      <td>5</td>\n",
       "      <td>5</td>\n",
       "      <td>12</td>\n",
       "      <td>9.0</td>\n",
       "    </tr>\n",
       "    <tr>\n",
       "      <th>2</th>\n",
       "      <td>1454967</td>\n",
       "      <td>39980</td>\n",
       "      <td>4</td>\n",
       "      <td>5</td>\n",
       "      <td>19</td>\n",
       "      <td>2.0</td>\n",
       "    </tr>\n",
       "    <tr>\n",
       "      <th>3</th>\n",
       "      <td>1768857</td>\n",
       "      <td>82516</td>\n",
       "      <td>56</td>\n",
       "      <td>0</td>\n",
       "      <td>20</td>\n",
       "      <td>10.0</td>\n",
       "    </tr>\n",
       "    <tr>\n",
       "      <th>4</th>\n",
       "      <td>3007858</td>\n",
       "      <td>196724</td>\n",
       "      <td>2</td>\n",
       "      <td>4</td>\n",
       "      <td>12</td>\n",
       "      <td>17.0</td>\n",
       "    </tr>\n",
       "  </tbody>\n",
       "</table>\n",
       "</div>"
      ],
      "text/plain": [
       "   order_id  user_id  order_number  order_dow  order_hour_of_day  \\\n",
       "0   1515936   183418            11          6                 13   \n",
       "1   1690866   163593             5          5                 12   \n",
       "2   1454967    39980             4          5                 19   \n",
       "3   1768857    82516            56          0                 20   \n",
       "4   3007858   196724             2          4                 12   \n",
       "\n",
       "   days_since_prior_order  \n",
       "0                    30.0  \n",
       "1                     9.0  \n",
       "2                     2.0  \n",
       "3                    10.0  \n",
       "4                    17.0  "
      ]
     },
     "metadata": {},
     "output_type": "display_data"
    },
    {
     "data": {
      "text/plain": [
       "'Products DataFrame:'"
      ]
     },
     "metadata": {},
     "output_type": "display_data"
    },
    {
     "data": {
      "text/html": [
       "<div>\n",
       "<style scoped>\n",
       "    .dataframe tbody tr th:only-of-type {\n",
       "        vertical-align: middle;\n",
       "    }\n",
       "\n",
       "    .dataframe tbody tr th {\n",
       "        vertical-align: top;\n",
       "    }\n",
       "\n",
       "    .dataframe thead th {\n",
       "        text-align: right;\n",
       "    }\n",
       "</style>\n",
       "<table border=\"1\" class=\"dataframe\">\n",
       "  <thead>\n",
       "    <tr style=\"text-align: right;\">\n",
       "      <th></th>\n",
       "      <th>product_id</th>\n",
       "      <th>product_name</th>\n",
       "      <th>aisle_id</th>\n",
       "      <th>department_id</th>\n",
       "    </tr>\n",
       "  </thead>\n",
       "  <tbody>\n",
       "    <tr>\n",
       "      <th>0</th>\n",
       "      <td>1</td>\n",
       "      <td>Chocolate Sandwich Cookies</td>\n",
       "      <td>61</td>\n",
       "      <td>19</td>\n",
       "    </tr>\n",
       "    <tr>\n",
       "      <th>1</th>\n",
       "      <td>2</td>\n",
       "      <td>All-Seasons Salt</td>\n",
       "      <td>104</td>\n",
       "      <td>13</td>\n",
       "    </tr>\n",
       "    <tr>\n",
       "      <th>2</th>\n",
       "      <td>3</td>\n",
       "      <td>Robust Golden Unsweetened Oolong Tea</td>\n",
       "      <td>94</td>\n",
       "      <td>7</td>\n",
       "    </tr>\n",
       "    <tr>\n",
       "      <th>3</th>\n",
       "      <td>4</td>\n",
       "      <td>Smart Ones Classic Favorites Mini Rigatoni Wit...</td>\n",
       "      <td>38</td>\n",
       "      <td>1</td>\n",
       "    </tr>\n",
       "    <tr>\n",
       "      <th>4</th>\n",
       "      <td>5</td>\n",
       "      <td>Green Chile Anytime Sauce</td>\n",
       "      <td>5</td>\n",
       "      <td>13</td>\n",
       "    </tr>\n",
       "  </tbody>\n",
       "</table>\n",
       "</div>"
      ],
      "text/plain": [
       "   product_id                                       product_name  aisle_id  \\\n",
       "0           1                         Chocolate Sandwich Cookies        61   \n",
       "1           2                                   All-Seasons Salt       104   \n",
       "2           3               Robust Golden Unsweetened Oolong Tea        94   \n",
       "3           4  Smart Ones Classic Favorites Mini Rigatoni Wit...        38   \n",
       "4           5                          Green Chile Anytime Sauce         5   \n",
       "\n",
       "   department_id  \n",
       "0             19  \n",
       "1             13  \n",
       "2              7  \n",
       "3              1  \n",
       "4             13  "
      ]
     },
     "metadata": {},
     "output_type": "display_data"
    },
    {
     "data": {
      "text/plain": [
       "'Aisles DataFrame:'"
      ]
     },
     "metadata": {},
     "output_type": "display_data"
    },
    {
     "data": {
      "text/html": [
       "<div>\n",
       "<style scoped>\n",
       "    .dataframe tbody tr th:only-of-type {\n",
       "        vertical-align: middle;\n",
       "    }\n",
       "\n",
       "    .dataframe tbody tr th {\n",
       "        vertical-align: top;\n",
       "    }\n",
       "\n",
       "    .dataframe thead th {\n",
       "        text-align: right;\n",
       "    }\n",
       "</style>\n",
       "<table border=\"1\" class=\"dataframe\">\n",
       "  <thead>\n",
       "    <tr style=\"text-align: right;\">\n",
       "      <th></th>\n",
       "      <th>aisle_id</th>\n",
       "      <th>aisle</th>\n",
       "    </tr>\n",
       "  </thead>\n",
       "  <tbody>\n",
       "    <tr>\n",
       "      <th>0</th>\n",
       "      <td>1</td>\n",
       "      <td>prepared soups salads</td>\n",
       "    </tr>\n",
       "    <tr>\n",
       "      <th>1</th>\n",
       "      <td>2</td>\n",
       "      <td>specialty cheeses</td>\n",
       "    </tr>\n",
       "    <tr>\n",
       "      <th>2</th>\n",
       "      <td>3</td>\n",
       "      <td>energy granola bars</td>\n",
       "    </tr>\n",
       "    <tr>\n",
       "      <th>3</th>\n",
       "      <td>4</td>\n",
       "      <td>instant foods</td>\n",
       "    </tr>\n",
       "    <tr>\n",
       "      <th>4</th>\n",
       "      <td>5</td>\n",
       "      <td>marinades meat preparation</td>\n",
       "    </tr>\n",
       "  </tbody>\n",
       "</table>\n",
       "</div>"
      ],
      "text/plain": [
       "   aisle_id                       aisle\n",
       "0         1       prepared soups salads\n",
       "1         2           specialty cheeses\n",
       "2         3         energy granola bars\n",
       "3         4               instant foods\n",
       "4         5  marinades meat preparation"
      ]
     },
     "metadata": {},
     "output_type": "display_data"
    },
    {
     "data": {
      "text/plain": [
       "'Departments DataFrame:'"
      ]
     },
     "metadata": {},
     "output_type": "display_data"
    },
    {
     "data": {
      "text/html": [
       "<div>\n",
       "<style scoped>\n",
       "    .dataframe tbody tr th:only-of-type {\n",
       "        vertical-align: middle;\n",
       "    }\n",
       "\n",
       "    .dataframe tbody tr th {\n",
       "        vertical-align: top;\n",
       "    }\n",
       "\n",
       "    .dataframe thead th {\n",
       "        text-align: right;\n",
       "    }\n",
       "</style>\n",
       "<table border=\"1\" class=\"dataframe\">\n",
       "  <thead>\n",
       "    <tr style=\"text-align: right;\">\n",
       "      <th></th>\n",
       "      <th>department_id</th>\n",
       "      <th>department</th>\n",
       "    </tr>\n",
       "  </thead>\n",
       "  <tbody>\n",
       "    <tr>\n",
       "      <th>0</th>\n",
       "      <td>1</td>\n",
       "      <td>frozen</td>\n",
       "    </tr>\n",
       "    <tr>\n",
       "      <th>1</th>\n",
       "      <td>2</td>\n",
       "      <td>other</td>\n",
       "    </tr>\n",
       "    <tr>\n",
       "      <th>2</th>\n",
       "      <td>3</td>\n",
       "      <td>bakery</td>\n",
       "    </tr>\n",
       "    <tr>\n",
       "      <th>3</th>\n",
       "      <td>4</td>\n",
       "      <td>produce</td>\n",
       "    </tr>\n",
       "    <tr>\n",
       "      <th>4</th>\n",
       "      <td>5</td>\n",
       "      <td>alcohol</td>\n",
       "    </tr>\n",
       "  </tbody>\n",
       "</table>\n",
       "</div>"
      ],
      "text/plain": [
       "   department_id department\n",
       "0              1     frozen\n",
       "1              2      other\n",
       "2              3     bakery\n",
       "3              4    produce\n",
       "4              5    alcohol"
      ]
     },
     "metadata": {},
     "output_type": "display_data"
    },
    {
     "data": {
      "text/plain": [
       "'Order Products DataFrame:'"
      ]
     },
     "metadata": {},
     "output_type": "display_data"
    },
    {
     "data": {
      "text/html": [
       "<div>\n",
       "<style scoped>\n",
       "    .dataframe tbody tr th:only-of-type {\n",
       "        vertical-align: middle;\n",
       "    }\n",
       "\n",
       "    .dataframe tbody tr th {\n",
       "        vertical-align: top;\n",
       "    }\n",
       "\n",
       "    .dataframe thead th {\n",
       "        text-align: right;\n",
       "    }\n",
       "</style>\n",
       "<table border=\"1\" class=\"dataframe\">\n",
       "  <thead>\n",
       "    <tr style=\"text-align: right;\">\n",
       "      <th></th>\n",
       "      <th>order_id</th>\n",
       "      <th>product_id</th>\n",
       "      <th>add_to_cart_order</th>\n",
       "      <th>reordered</th>\n",
       "    </tr>\n",
       "  </thead>\n",
       "  <tbody>\n",
       "    <tr>\n",
       "      <th>0</th>\n",
       "      <td>2141543</td>\n",
       "      <td>11440</td>\n",
       "      <td>17.0</td>\n",
       "      <td>0</td>\n",
       "    </tr>\n",
       "    <tr>\n",
       "      <th>1</th>\n",
       "      <td>567889</td>\n",
       "      <td>1560</td>\n",
       "      <td>1.0</td>\n",
       "      <td>1</td>\n",
       "    </tr>\n",
       "    <tr>\n",
       "      <th>2</th>\n",
       "      <td>2261212</td>\n",
       "      <td>26683</td>\n",
       "      <td>1.0</td>\n",
       "      <td>1</td>\n",
       "    </tr>\n",
       "    <tr>\n",
       "      <th>3</th>\n",
       "      <td>491251</td>\n",
       "      <td>8670</td>\n",
       "      <td>35.0</td>\n",
       "      <td>1</td>\n",
       "    </tr>\n",
       "    <tr>\n",
       "      <th>4</th>\n",
       "      <td>2571142</td>\n",
       "      <td>1940</td>\n",
       "      <td>5.0</td>\n",
       "      <td>1</td>\n",
       "    </tr>\n",
       "  </tbody>\n",
       "</table>\n",
       "</div>"
      ],
      "text/plain": [
       "   order_id  product_id  add_to_cart_order  reordered\n",
       "0   2141543       11440               17.0          0\n",
       "1    567889        1560                1.0          1\n",
       "2   2261212       26683                1.0          1\n",
       "3    491251        8670               35.0          1\n",
       "4   2571142        1940                5.0          1"
      ]
     },
     "metadata": {},
     "output_type": "display_data"
    }
   ],
   "source": [
    "# Verify and fix data types\n",
    "def preprocess_data(df_orders, df_products, df_aisles, df_departments, df_order_products):\n",
    "    # Convert ID columns to integers\n",
    "    df_orders[['order_id', 'user_id']] = df_orders[['order_id', 'user_id']].astype(int)\n",
    "    df_products[['product_id', 'aisle_id', 'department_id']] = df_products[['product_id', 'aisle_id', 'department_id']].astype(int)\n",
    "    df_aisles['aisle_id'] = df_aisles['aisle_id'].astype(int)\n",
    "    df_departments['department_id'] = df_departments['department_id'].astype(int)\n",
    "    df_order_products[['order_id', 'product_id']] = df_order_products[['order_id', 'product_id']].astype(int)\n",
    "    \n",
    "# Displaying the first few rows of each DataFrame\n",
    "display(\"Orders DataFrame:\")\n",
    "display(df_orders.head())\n",
    "\n",
    "\n",
    "display(\"Products DataFrame:\")\n",
    "display(df_products.head())\n",
    "\n",
    "display(\"Aisles DataFrame:\")\n",
    "display(df_aisles.head())\n",
    "\n",
    "display(\"Departments DataFrame:\")\n",
    "display(df_departments.head())\n",
    "\n",
    "display(\"Order Products DataFrame:\")\n",
    "display(df_order_products.head())\n",
    "\n",
    "preprocess_data(df_orders, df_products, df_aisles, df_departments, df_order_products)"
   ]
  },
  {
   "cell_type": "markdown",
   "id": "a7fc0a86",
   "metadata": {},
   "source": [
    "<div class=\"alert alert-success\" style=\"border-radius: 15px; box-shadow: 4px 4px 4px; border: 1px solid \">\n",
    "<h2> Reviewer's comment 2 ✔️</h2>\n",
    "    \n",
    "Looks good! \n",
    "</div>\n",
    "<div class=\"alert alert-warning\" style=\"border-radius: 15px; box-shadow: 4px 4px 4px; border: 1px solid \">\n",
    "<b>  Reviewer's comment ⚠️</b>\n",
    "    \n",
    "\n",
    "Try to use **display** instead of **print** for the dataframes :) \n",
    "\n",
    "\n",
    "Display is a great thing. However, jupyter notebook is an interactive environment that already includes display. When we call a dataframe (see the code below), jupyter prints this dataframe like we do with the display method:\n",
    "\n",
    "</div>"
   ]
  },
  {
   "cell_type": "code",
   "execution_count": 4,
   "id": "853f93dc",
   "metadata": {
    "scrolled": true
   },
   "outputs": [
    {
     "data": {
      "text/html": [
       "<div>\n",
       "<style scoped>\n",
       "    .dataframe tbody tr th:only-of-type {\n",
       "        vertical-align: middle;\n",
       "    }\n",
       "\n",
       "    .dataframe tbody tr th {\n",
       "        vertical-align: top;\n",
       "    }\n",
       "\n",
       "    .dataframe thead th {\n",
       "        text-align: right;\n",
       "    }\n",
       "</style>\n",
       "<table border=\"1\" class=\"dataframe\">\n",
       "  <thead>\n",
       "    <tr style=\"text-align: right;\">\n",
       "      <th></th>\n",
       "      <th>order_id</th>\n",
       "      <th>user_id</th>\n",
       "      <th>order_number</th>\n",
       "      <th>order_dow</th>\n",
       "      <th>order_hour_of_day</th>\n",
       "      <th>days_since_prior_order</th>\n",
       "    </tr>\n",
       "  </thead>\n",
       "  <tbody>\n",
       "    <tr>\n",
       "      <th>0</th>\n",
       "      <td>1515936</td>\n",
       "      <td>183418</td>\n",
       "      <td>11</td>\n",
       "      <td>6</td>\n",
       "      <td>13</td>\n",
       "      <td>30.0</td>\n",
       "    </tr>\n",
       "    <tr>\n",
       "      <th>1</th>\n",
       "      <td>1690866</td>\n",
       "      <td>163593</td>\n",
       "      <td>5</td>\n",
       "      <td>5</td>\n",
       "      <td>12</td>\n",
       "      <td>9.0</td>\n",
       "    </tr>\n",
       "    <tr>\n",
       "      <th>2</th>\n",
       "      <td>1454967</td>\n",
       "      <td>39980</td>\n",
       "      <td>4</td>\n",
       "      <td>5</td>\n",
       "      <td>19</td>\n",
       "      <td>2.0</td>\n",
       "    </tr>\n",
       "  </tbody>\n",
       "</table>\n",
       "</div>"
      ],
      "text/plain": [
       "   order_id  user_id  order_number  order_dow  order_hour_of_day  \\\n",
       "0   1515936   183418            11          6                 13   \n",
       "1   1690866   163593             5          5                 12   \n",
       "2   1454967    39980             4          5                 19   \n",
       "\n",
       "   days_since_prior_order  \n",
       "0                    30.0  \n",
       "1                     9.0  \n",
       "2                     2.0  "
      ]
     },
     "metadata": {},
     "output_type": "display_data"
    },
    {
     "data": {
      "text/html": [
       "<div>\n",
       "<style scoped>\n",
       "    .dataframe tbody tr th:only-of-type {\n",
       "        vertical-align: middle;\n",
       "    }\n",
       "\n",
       "    .dataframe tbody tr th {\n",
       "        vertical-align: top;\n",
       "    }\n",
       "\n",
       "    .dataframe thead th {\n",
       "        text-align: right;\n",
       "    }\n",
       "</style>\n",
       "<table border=\"1\" class=\"dataframe\">\n",
       "  <thead>\n",
       "    <tr style=\"text-align: right;\">\n",
       "      <th></th>\n",
       "      <th>order_id</th>\n",
       "      <th>user_id</th>\n",
       "      <th>order_number</th>\n",
       "      <th>order_dow</th>\n",
       "      <th>order_hour_of_day</th>\n",
       "      <th>days_since_prior_order</th>\n",
       "    </tr>\n",
       "  </thead>\n",
       "  <tbody>\n",
       "    <tr>\n",
       "      <th>478964</th>\n",
       "      <td>885349</td>\n",
       "      <td>82944</td>\n",
       "      <td>16</td>\n",
       "      <td>2</td>\n",
       "      <td>11</td>\n",
       "      <td>6.0</td>\n",
       "    </tr>\n",
       "    <tr>\n",
       "      <th>478965</th>\n",
       "      <td>216274</td>\n",
       "      <td>4391</td>\n",
       "      <td>3</td>\n",
       "      <td>3</td>\n",
       "      <td>8</td>\n",
       "      <td>8.0</td>\n",
       "    </tr>\n",
       "    <tr>\n",
       "      <th>478966</th>\n",
       "      <td>2071924</td>\n",
       "      <td>1730</td>\n",
       "      <td>18</td>\n",
       "      <td>1</td>\n",
       "      <td>14</td>\n",
       "      <td>15.0</td>\n",
       "    </tr>\n",
       "  </tbody>\n",
       "</table>\n",
       "</div>"
      ],
      "text/plain": [
       "        order_id  user_id  order_number  order_dow  order_hour_of_day  \\\n",
       "478964    885349    82944            16          2                 11   \n",
       "478965    216274     4391             3          3                  8   \n",
       "478966   2071924     1730            18          1                 14   \n",
       "\n",
       "        days_since_prior_order  \n",
       "478964                     6.0  \n",
       "478965                     8.0  \n",
       "478966                    15.0  "
      ]
     },
     "execution_count": 4,
     "metadata": {},
     "output_type": "execute_result"
    }
   ],
   "source": [
    "# Reviewer's code\n",
    "\n",
    "display(df_orders.head(3))\n",
    "\n",
    "df_orders.tail(3)"
   ]
  },
  {
   "cell_type": "code",
   "execution_count": 5,
   "id": "ac8b0b5e",
   "metadata": {},
   "outputs": [
    {
     "name": "stdout",
     "output_type": "stream",
     "text": [
      "Missing values before filling:\n"
     ]
    },
    {
     "data": {
      "text/plain": [
       "order_id                      0\n",
       "user_id                       0\n",
       "order_number                  0\n",
       "order_dow                     0\n",
       "order_hour_of_day             0\n",
       "days_since_prior_order    28819\n",
       "dtype: int64"
      ]
     },
     "metadata": {},
     "output_type": "display_data"
    },
    {
     "data": {
      "text/plain": [
       "'\\n'"
      ]
     },
     "metadata": {},
     "output_type": "display_data"
    },
    {
     "data": {
      "text/plain": [
       "product_id          0\n",
       "product_name     1258\n",
       "aisle_id            0\n",
       "department_id       0\n",
       "dtype: int64"
      ]
     },
     "metadata": {},
     "output_type": "display_data"
    },
    {
     "data": {
      "text/plain": [
       "'\\n'"
      ]
     },
     "metadata": {},
     "output_type": "display_data"
    },
    {
     "data": {
      "text/plain": [
       "aisle_id    0\n",
       "aisle       0\n",
       "dtype: int64"
      ]
     },
     "metadata": {},
     "output_type": "display_data"
    },
    {
     "data": {
      "text/plain": [
       "'\\n'"
      ]
     },
     "metadata": {},
     "output_type": "display_data"
    },
    {
     "data": {
      "text/plain": [
       "department_id    0\n",
       "department       0\n",
       "dtype: int64"
      ]
     },
     "metadata": {},
     "output_type": "display_data"
    },
    {
     "data": {
      "text/plain": [
       "'\\n'"
      ]
     },
     "metadata": {},
     "output_type": "display_data"
    },
    {
     "data": {
      "text/plain": [
       "order_id               0\n",
       "product_id             0\n",
       "add_to_cart_order    836\n",
       "reordered              0\n",
       "dtype: int64"
      ]
     },
     "metadata": {},
     "output_type": "display_data"
    },
    {
     "data": {
      "text/plain": [
       "'\\n'"
      ]
     },
     "metadata": {},
     "output_type": "display_data"
    }
   ],
   "source": [
    "# Check for missing values in each DataFrame\n",
    "print('Missing values before filling:')\n",
    "display(df_orders.isna().sum(), \"\\n\")\n",
    "display(df_products.isna().sum(), \"\\n\")\n",
    "display(df_aisles.isna().sum(), \"\\n\")\n",
    "display(df_departments.isna().sum(), \"\\n\")\n",
    "display(df_order_products.isna().sum(), \"\\n\")"
   ]
  },
  {
   "cell_type": "markdown",
   "id": "c06068bc",
   "metadata": {},
   "source": [
    "<div class=\"alert alert-info\">\n",
    "<h2> Student's comment </h2>\n",
    "\n",
    "1. Found missing values in rows 'days_since_prior_order', 'product_name', and 'add_to_cart_order'.\n",
    "2. Filled missing values with '0' using fill.na()\n",
    "\n",
    "Some possible reasons for the missing values:\n",
    "1. Data entry errors\n",
    "2. Data gathered from multiple sources resulting in inconsistencies\n",
    "3. Limited dataset that may lack certain information\n",
    "</div>"
   ]
  },
  {
   "cell_type": "markdown",
   "id": "f75decee",
   "metadata": {},
   "source": [
    "<div class=\"alert alert-success\" style=\"border-radius: 15px; box-shadow: 4px 4px 4px; border: 1px solid \">\n",
    "<h2>   Reviewer's comment ✔️</h2>\n",
    "    \n",
    "The data was successfully read, good. \n",
    "\n",
    "</div>"
   ]
  },
  {
   "cell_type": "markdown",
   "id": "07357848-dc64-4156-9cc3-01ff4365226d",
   "metadata": {},
   "source": [
    "## Find and remove duplicate values (and describe why you make your choices)"
   ]
  },
  {
   "cell_type": "markdown",
   "id": "f179f0a9",
   "metadata": {},
   "source": [
    "### `orders` data frame"
   ]
  },
  {
   "cell_type": "code",
   "execution_count": 6,
   "id": "b99297a5-405a-463d-8535-9adc3da4ad74",
   "metadata": {},
   "outputs": [
    {
     "data": {
      "text/plain": [
       "15"
      ]
     },
     "execution_count": 6,
     "metadata": {},
     "output_type": "execute_result"
    }
   ],
   "source": [
    "# Check for fully duplicated rows\n",
    "df_orders.duplicated().sum()"
   ]
  },
  {
   "cell_type": "code",
   "execution_count": 7,
   "id": "32ed442c",
   "metadata": {},
   "outputs": [
    {
     "data": {
      "text/plain": [
       "15"
      ]
     },
     "execution_count": 7,
     "metadata": {},
     "output_type": "execute_result"
    }
   ],
   "source": [
    "# Check for duplicated 'order_id' values specifically\n",
    "df_orders['order_id'].duplicated().sum()"
   ]
  },
  {
   "cell_type": "markdown",
   "id": "3db8f239",
   "metadata": {},
   "source": [
    "<div class=\"alert alert-success\" style=\"border-radius: 15px; box-shadow: 4px 4px 4px; border: 1px solid \">\n",
    "<h2> Reviewer's comment ✔️</h2>\n",
    "    \n",
    "\n",
    "It's very important to check for the duplicates because sometimes they can impair the quality of the analysis.\n",
    "\n",
    "</div>\n",
    "<div class=\"alert alert-warning\" style=\"border-radius: 15px; box-shadow: 4px 4px 4px; border: 1px solid \">\n",
    "<b>  Reviewer's comment ⚠️</b>\n",
    "  \n",
    "    \n",
    "You do not need to create a new variable though. \n",
    "    \n",
    "</div>"
   ]
  },
  {
   "cell_type": "code",
   "execution_count": 8,
   "id": "0d44de5d",
   "metadata": {},
   "outputs": [
    {
     "name": "stdout",
     "output_type": "stream",
     "text": [
      "Number of orders placed on Wednesday at 2:00 AM: 121\n"
     ]
    }
   ],
   "source": [
    "# Check for all orders placed Wednesday at 2:00 AM\n",
    "wednesday_2am_orders = df_orders[(df_orders['order_dow'] == 3) & (df_orders['order_hour_of_day'] == 2)]\n",
    "\n",
    "print(\"Number of orders placed on Wednesday at 2:00 AM:\", len(wednesday_2am_orders))"
   ]
  },
  {
   "cell_type": "code",
   "execution_count": 9,
   "id": "480563c7",
   "metadata": {},
   "outputs": [
    {
     "data": {
      "text/plain": [
       "0"
      ]
     },
     "execution_count": 9,
     "metadata": {},
     "output_type": "execute_result"
    }
   ],
   "source": [
    "# Remove duplicate orders\n",
    "df_orders.drop_duplicates(inplace=True)\n",
    "\n",
    "# Verifying duplicate removal\n",
    "df_orders.duplicated().sum()"
   ]
  },
  {
   "cell_type": "code",
   "execution_count": 10,
   "id": "41a95216",
   "metadata": {},
   "outputs": [
    {
     "data": {
      "text/plain": [
       "0"
      ]
     },
     "execution_count": 10,
     "metadata": {},
     "output_type": "execute_result"
    }
   ],
   "source": [
    "# Remove duplicated values in 'order_id'\n",
    "df_orders.drop_duplicates(subset='order_id', inplace=True)\n",
    "\n",
    "# Check for duplicated 'order_id' values specifically\n",
    "df_orders['order_id'].duplicated().sum()"
   ]
  },
  {
   "cell_type": "markdown",
   "id": "a581f5da",
   "metadata": {},
   "source": [
    "<div class=\"alert alert-danger\" style=\"border-radius: 15px; box-shadow: 4px 4px 4px; border: 1px solid \">\n",
    "<b> Reviewer's comment  ❌</b>\n",
    "    \n",
    "Please keep in mind that we delete duplicates in order to, well, delete them. It means we are not supposed to have them in the data we are working with. If you save the result in a new dataframe, please make sure in the project below you use `df_orders_cleaned` or `df_order_id_cleaned` (it depends on which of them does not have any duplicates) instead of `df_orders` because you do not delete any duplicates from `df_orders` but keep working with this dataframe below. \n",
    "</div>\n",
    "<div class=\"alert alert-success\" style=\"border-radius: 15px; box-shadow: 4px 4px 4px; border: 1px solid \">\n",
    "<h2>   Reviewer's comment 2 ✔️</h2>\n",
    "    \n",
    "Correct! \n",
    "    \n",
    "</div>"
   ]
  },
  {
   "cell_type": "markdown",
   "id": "ae6ad5bd",
   "metadata": {},
   "source": [
    "<div class=\"alert alert-warning\" style=\"border-radius: 15px; box-shadow: 4px 4px 4px; border: 1px solid \">\n",
    "<b> Reviewer's comment ⚠️</b>\n",
    "    \n",
    "The \"after removal\" phrase is not quite correct. We did not remove duplicates but just saved the dataframe without duplicates (the `drop_duplicates()` method returns us a copy without duplicates) in a new variable. If we really want to verify the removal, we should check the `df_orders` dataframe because this is the dataframe we are using the tasks below.\n",
    "\n",
    "\n",
    "</div>"
   ]
  },
  {
   "cell_type": "code",
   "execution_count": 11,
   "id": "08b89331",
   "metadata": {},
   "outputs": [
    {
     "data": {
      "text/plain": [
       "0"
      ]
     },
     "execution_count": 11,
     "metadata": {},
     "output_type": "execute_result"
    }
   ],
   "source": [
    "# Reviewer's code \n",
    "\n",
    "df_orders.duplicated().sum()"
   ]
  },
  {
   "cell_type": "markdown",
   "id": "68a00c43",
   "metadata": {},
   "source": [
    "<div class=\"alert alert-warning\" style=\"border-radius: 15px; box-shadow: 4px 4px 4px; border: 1px solid \">\n",
    "<b> Reviewer's comment ⚠️</b>\n",
    "    \n",
    "So we did not delete anything but created two new dataframes that are not even used in the project :) \n",
    "\n",
    "</div>"
   ]
  },
  {
   "cell_type": "markdown",
   "id": "38391c13",
   "metadata": {},
   "source": [
    "<div class=\"alert alert-info\">\n",
    "<h2> Student's comment </h2>\n",
    "\n",
    "1. Checked for duplicate rows and order ID values using .duplicated()\n",
    "2. Counted orders placed Wednesday at 2:00 AM\n",
    "3. Removed duplicates using .drop_duplicates() and inplace=True to modify the actual dataframe and not store it to a new variable\n",
    "4. Checked number of duplicates again to verify removal\n",
    "</div>"
   ]
  },
  {
   "cell_type": "markdown",
   "id": "9e0a9f53",
   "metadata": {},
   "source": [
    "<div class=\"alert alert-success\" style=\"border-radius: 15px; box-shadow: 4px 4px 4px; border: 1px solid \">\n",
    "<h2>   Reviewer's comment 2 ✔️</h2>\n",
    "    \n",
    "Well done!     \n",
    "</div>"
   ]
  },
  {
   "cell_type": "markdown",
   "id": "45e6bc46",
   "metadata": {},
   "source": [
    "### `products` data frame"
   ]
  },
  {
   "cell_type": "code",
   "execution_count": 12,
   "id": "5f526b5b-8175-46fa-a0fd-441767d50e64",
   "metadata": {},
   "outputs": [
    {
     "data": {
      "text/plain": [
       "0"
      ]
     },
     "execution_count": 12,
     "metadata": {},
     "output_type": "execute_result"
    }
   ],
   "source": [
    "# Check for fully duplicate rows\n",
    "df_products.duplicated().sum()"
   ]
  },
  {
   "cell_type": "code",
   "execution_count": 13,
   "id": "88daa4f4",
   "metadata": {},
   "outputs": [
    {
     "data": {
      "text/plain": [
       "0"
      ]
     },
     "execution_count": 13,
     "metadata": {},
     "output_type": "execute_result"
    }
   ],
   "source": [
    "# Check for duplicated 'product_id' values specifically\n",
    "df_products['product_id'].duplicated().sum()"
   ]
  },
  {
   "cell_type": "code",
   "execution_count": 14,
   "id": "c773f0bf",
   "metadata": {},
   "outputs": [
    {
     "data": {
      "text/html": [
       "<div>\n",
       "<style scoped>\n",
       "    .dataframe tbody tr th:only-of-type {\n",
       "        vertical-align: middle;\n",
       "    }\n",
       "\n",
       "    .dataframe tbody tr th {\n",
       "        vertical-align: top;\n",
       "    }\n",
       "\n",
       "    .dataframe thead th {\n",
       "        text-align: right;\n",
       "    }\n",
       "</style>\n",
       "<table border=\"1\" class=\"dataframe\">\n",
       "  <thead>\n",
       "    <tr style=\"text-align: right;\">\n",
       "      <th></th>\n",
       "      <th>product_id</th>\n",
       "      <th>product_name</th>\n",
       "      <th>aisle_id</th>\n",
       "      <th>department_id</th>\n",
       "    </tr>\n",
       "  </thead>\n",
       "  <tbody>\n",
       "    <tr>\n",
       "      <th>37</th>\n",
       "      <td>38</td>\n",
       "      <td>NaN</td>\n",
       "      <td>100</td>\n",
       "      <td>21</td>\n",
       "    </tr>\n",
       "    <tr>\n",
       "      <th>41</th>\n",
       "      <td>42</td>\n",
       "      <td>biotin 1000 mcg</td>\n",
       "      <td>47</td>\n",
       "      <td>11</td>\n",
       "    </tr>\n",
       "    <tr>\n",
       "      <th>71</th>\n",
       "      <td>72</td>\n",
       "      <td>NaN</td>\n",
       "      <td>100</td>\n",
       "      <td>21</td>\n",
       "    </tr>\n",
       "    <tr>\n",
       "      <th>109</th>\n",
       "      <td>110</td>\n",
       "      <td>NaN</td>\n",
       "      <td>100</td>\n",
       "      <td>21</td>\n",
       "    </tr>\n",
       "    <tr>\n",
       "      <th>185</th>\n",
       "      <td>186</td>\n",
       "      <td>fresh scent dishwasher detergent with dawn</td>\n",
       "      <td>74</td>\n",
       "      <td>17</td>\n",
       "    </tr>\n",
       "    <tr>\n",
       "      <th>...</th>\n",
       "      <td>...</td>\n",
       "      <td>...</td>\n",
       "      <td>...</td>\n",
       "      <td>...</td>\n",
       "    </tr>\n",
       "    <tr>\n",
       "      <th>49689</th>\n",
       "      <td>49690</td>\n",
       "      <td>high performance energy drink</td>\n",
       "      <td>64</td>\n",
       "      <td>7</td>\n",
       "    </tr>\n",
       "    <tr>\n",
       "      <th>49690</th>\n",
       "      <td>49691</td>\n",
       "      <td>original pancake &amp; waffle mix</td>\n",
       "      <td>130</td>\n",
       "      <td>14</td>\n",
       "    </tr>\n",
       "    <tr>\n",
       "      <th>49691</th>\n",
       "      <td>49692</td>\n",
       "      <td>organic instant oatmeal light maple brown sugar</td>\n",
       "      <td>130</td>\n",
       "      <td>14</td>\n",
       "    </tr>\n",
       "    <tr>\n",
       "      <th>49692</th>\n",
       "      <td>49693</td>\n",
       "      <td>spring water body wash</td>\n",
       "      <td>127</td>\n",
       "      <td>11</td>\n",
       "    </tr>\n",
       "    <tr>\n",
       "      <th>49693</th>\n",
       "      <td>49694</td>\n",
       "      <td>burrito- steak &amp; cheese</td>\n",
       "      <td>38</td>\n",
       "      <td>1</td>\n",
       "    </tr>\n",
       "  </tbody>\n",
       "</table>\n",
       "<p>1465 rows × 4 columns</p>\n",
       "</div>"
      ],
      "text/plain": [
       "       product_id                                     product_name  aisle_id  \\\n",
       "37             38                                              NaN       100   \n",
       "41             42                                  biotin 1000 mcg        47   \n",
       "71             72                                              NaN       100   \n",
       "109           110                                              NaN       100   \n",
       "185           186       fresh scent dishwasher detergent with dawn        74   \n",
       "...           ...                                              ...       ...   \n",
       "49689       49690                    high performance energy drink        64   \n",
       "49690       49691                    original pancake & waffle mix       130   \n",
       "49691       49692  organic instant oatmeal light maple brown sugar       130   \n",
       "49692       49693                           spring water body wash       127   \n",
       "49693       49694                          burrito- steak & cheese        38   \n",
       "\n",
       "       department_id  \n",
       "37                21  \n",
       "41                11  \n",
       "71                21  \n",
       "109               21  \n",
       "185               17  \n",
       "...              ...  \n",
       "49689              7  \n",
       "49690             14  \n",
       "49691             14  \n",
       "49692             11  \n",
       "49693              1  \n",
       "\n",
       "[1465 rows x 4 columns]"
      ]
     },
     "metadata": {},
     "output_type": "display_data"
    },
    {
     "data": {
      "text/html": [
       "<div>\n",
       "<style scoped>\n",
       "    .dataframe tbody tr th:only-of-type {\n",
       "        vertical-align: middle;\n",
       "    }\n",
       "\n",
       "    .dataframe tbody tr th {\n",
       "        vertical-align: top;\n",
       "    }\n",
       "\n",
       "    .dataframe thead th {\n",
       "        text-align: right;\n",
       "    }\n",
       "</style>\n",
       "<table border=\"1\" class=\"dataframe\">\n",
       "  <thead>\n",
       "    <tr style=\"text-align: right;\">\n",
       "      <th></th>\n",
       "      <th>product_id</th>\n",
       "      <th>product_name</th>\n",
       "      <th>aisle_id</th>\n",
       "      <th>department_id</th>\n",
       "    </tr>\n",
       "  </thead>\n",
       "  <tbody>\n",
       "    <tr>\n",
       "      <th>37</th>\n",
       "      <td>38</td>\n",
       "      <td>NaN</td>\n",
       "      <td>100</td>\n",
       "      <td>21</td>\n",
       "    </tr>\n",
       "    <tr>\n",
       "      <th>71</th>\n",
       "      <td>72</td>\n",
       "      <td>NaN</td>\n",
       "      <td>100</td>\n",
       "      <td>21</td>\n",
       "    </tr>\n",
       "    <tr>\n",
       "      <th>109</th>\n",
       "      <td>110</td>\n",
       "      <td>NaN</td>\n",
       "      <td>100</td>\n",
       "      <td>21</td>\n",
       "    </tr>\n",
       "    <tr>\n",
       "      <th>296</th>\n",
       "      <td>297</td>\n",
       "      <td>NaN</td>\n",
       "      <td>100</td>\n",
       "      <td>21</td>\n",
       "    </tr>\n",
       "    <tr>\n",
       "      <th>416</th>\n",
       "      <td>417</td>\n",
       "      <td>NaN</td>\n",
       "      <td>100</td>\n",
       "      <td>21</td>\n",
       "    </tr>\n",
       "    <tr>\n",
       "      <th>...</th>\n",
       "      <td>...</td>\n",
       "      <td>...</td>\n",
       "      <td>...</td>\n",
       "      <td>...</td>\n",
       "    </tr>\n",
       "    <tr>\n",
       "      <th>49552</th>\n",
       "      <td>49553</td>\n",
       "      <td>NaN</td>\n",
       "      <td>100</td>\n",
       "      <td>21</td>\n",
       "    </tr>\n",
       "    <tr>\n",
       "      <th>49574</th>\n",
       "      <td>49575</td>\n",
       "      <td>NaN</td>\n",
       "      <td>100</td>\n",
       "      <td>21</td>\n",
       "    </tr>\n",
       "    <tr>\n",
       "      <th>49640</th>\n",
       "      <td>49641</td>\n",
       "      <td>NaN</td>\n",
       "      <td>100</td>\n",
       "      <td>21</td>\n",
       "    </tr>\n",
       "    <tr>\n",
       "      <th>49663</th>\n",
       "      <td>49664</td>\n",
       "      <td>NaN</td>\n",
       "      <td>100</td>\n",
       "      <td>21</td>\n",
       "    </tr>\n",
       "    <tr>\n",
       "      <th>49668</th>\n",
       "      <td>49669</td>\n",
       "      <td>NaN</td>\n",
       "      <td>100</td>\n",
       "      <td>21</td>\n",
       "    </tr>\n",
       "  </tbody>\n",
       "</table>\n",
       "<p>1258 rows × 4 columns</p>\n",
       "</div>"
      ],
      "text/plain": [
       "       product_id product_name  aisle_id  department_id\n",
       "37             38          NaN       100             21\n",
       "71             72          NaN       100             21\n",
       "109           110          NaN       100             21\n",
       "296           297          NaN       100             21\n",
       "416           417          NaN       100             21\n",
       "...           ...          ...       ...            ...\n",
       "49552       49553          NaN       100             21\n",
       "49574       49575          NaN       100             21\n",
       "49640       49641          NaN       100             21\n",
       "49663       49664          NaN       100             21\n",
       "49668       49669          NaN       100             21\n",
       "\n",
       "[1258 rows x 4 columns]"
      ]
     },
     "metadata": {},
     "output_type": "display_data"
    }
   ],
   "source": [
    "# Check for just duplicate product names (convert names to lowercase to compare better)\n",
    "# Convert product name to lowercase\n",
    "df_products['product_name'] = df_products['product_name'].str.lower()\n",
    "\n",
    "# Check for duplicates in product names\n",
    "display(df_products[df_products.duplicated(subset=['product_name'], keep=False)])\n",
    "\n",
    "# Check for missing values in product_name and display them\n",
    "display(df_products[df_products['product_name'].isna()])"
   ]
  },
  {
   "cell_type": "markdown",
   "id": "29bc177c",
   "metadata": {},
   "source": [
    "<div class=\"alert alert-danger\" style=\"border-radius: 15px; box-shadow: 4px 4px 4px; border: 1px solid \">\n",
    "<b> Reviewer's comment 2 ❌</b>\n",
    "    \n",
    "We are not asked to delete them. Why did you decide to drop these missing values? These rows have id values, which is enough. However, if we delete them, we may change the distribution of orders. \n",
    "</div>"
   ]
  },
  {
   "cell_type": "code",
   "execution_count": 15,
   "id": "01efd02e",
   "metadata": {
    "scrolled": true
   },
   "outputs": [
    {
     "data": {
      "text/plain": [
       "1361"
      ]
     },
     "execution_count": 15,
     "metadata": {},
     "output_type": "execute_result"
    }
   ],
   "source": [
    "# Check duplicate amount in 'product_name'\n",
    "df_products['product_name'].duplicated().sum()"
   ]
  },
  {
   "cell_type": "code",
   "execution_count": 16,
   "id": "eaf699dc",
   "metadata": {
    "scrolled": true
   },
   "outputs": [
    {
     "data": {
      "text/plain": [
       "0"
      ]
     },
     "execution_count": 16,
     "metadata": {},
     "output_type": "execute_result"
    }
   ],
   "source": [
    "# Drop duplicates based on the 'product_name_lower' column\n",
    "df_products = df_products.drop_duplicates(subset='product_name', keep='first')\n",
    "\n",
    "# Check duplicate amount in 'product_name'\n",
    "df_products['product_name'].duplicated().sum()"
   ]
  },
  {
   "cell_type": "markdown",
   "id": "c337b164",
   "metadata": {},
   "source": [
    "<div class=\"alert alert-danger\" style=\"border-radius: 15px; box-shadow: 4px 4px 4px; border: 1px solid \">\n",
    "<b> Reviewer's comment ❌</b>\n",
    "    \n",
    "Please try to use `isna` method here to take product names that are not missing. Then apply `str.lower()` and find duplicates. Do not forget about the conclusion please.\n",
    "\n",
    "</div>"
   ]
  },
  {
   "cell_type": "markdown",
   "id": "f5491c0a",
   "metadata": {},
   "source": [
    "<div class=\"alert alert-info\">\n",
    "<h2> Student's comment </h2>\n",
    "\n",
    "Found missing and duplicate values in product_name column which needed to be fixed.\n",
    "\n",
    "Steps:\n",
    "1. Convert product_name to lowercase for easier comparison\n",
    "2. Filter out rows where product names are missing using drop.na()\n",
    "3. Checked again for duplicate product names that aren't missing\n",
    "4. Drop duplicatesby using the drop_duplicates() method to remove any duplicated product names in the product_name_lower column while keeping the first occurrence.\n",
    "5. Verify by printing the updated DataFrame without duplicates to verify that the operation was successful.\n",
    "\n",
    "We can see that the code was successful as the number of rows have decreased by the amount of missing and duplicate values.    \n",
    "</div>"
   ]
  },
  {
   "cell_type": "markdown",
   "id": "104fb705",
   "metadata": {},
   "source": [
    "<div class=\"alert alert-success\" style=\"border-radius: 15px; box-shadow: 4px 4px 4px; border: 1px solid \">\n",
    "<h2>Reviewer's comment 2 ✔️</h2>\n",
    "    \n",
    "\n",
    "They have different `product_id`, so I am not sure whether we should treat them as duplicates. It's a good habit to always analyze the result :) \n",
    "    \n",
    "    \n",
    "</div>"
   ]
  },
  {
   "cell_type": "markdown",
   "id": "60f30db1",
   "metadata": {},
   "source": [
    "### `departments` data frame"
   ]
  },
  {
   "cell_type": "code",
   "execution_count": 17,
   "id": "fb410ad4-0fbf-4b80-bb09-23fdea79afe3",
   "metadata": {},
   "outputs": [
    {
     "data": {
      "text/plain": [
       "0"
      ]
     },
     "execution_count": 17,
     "metadata": {},
     "output_type": "execute_result"
    }
   ],
   "source": [
    "# Check for fully duplicate rows\n",
    "df_departments.duplicated().sum()"
   ]
  },
  {
   "cell_type": "code",
   "execution_count": 18,
   "id": "332b12bb",
   "metadata": {},
   "outputs": [
    {
     "data": {
      "text/plain": [
       "0"
      ]
     },
     "execution_count": 18,
     "metadata": {},
     "output_type": "execute_result"
    }
   ],
   "source": [
    "# Check for just duplicate department IDs\n",
    "df_departments['department_id'].duplicated().sum()"
   ]
  },
  {
   "cell_type": "markdown",
   "id": "0e28f493",
   "metadata": {},
   "source": [
    "<div class=\"alert alert-success\" style=\"border-radius: 15px; box-shadow: 4px 4px 4px; border: 1px solid \">\n",
    "<h2>Reviewer's comment ✔️</h2>\n",
    "    \n",
    "\n",
    "Correct!     \n",
    "    \n",
    "</div>\n",
    "<div class=\"alert alert-warning\" style=\"border-radius: 15px; box-shadow: 4px 4px 4px; border: 1px solid \">\n",
    "<h2>  Reviewer's comment ⚠️</h2>\n",
    "    \n",
    "\n",
    "Do you need so much code here? Take a look:    \n",
    "    \n",
    "</div>"
   ]
  },
  {
   "cell_type": "code",
   "execution_count": 19,
   "id": "4443df2f",
   "metadata": {},
   "outputs": [
    {
     "data": {
      "text/plain": [
       "0"
      ]
     },
     "execution_count": 19,
     "metadata": {},
     "output_type": "execute_result"
    }
   ],
   "source": [
    "# Reviewer's code \n",
    "\n",
    "df_departments['department_id'].duplicated().sum()"
   ]
  },
  {
   "cell_type": "markdown",
   "id": "d9ead259",
   "metadata": {},
   "source": [
    "<div class=\"alert alert-warning\" style=\"border-radius: 15px; box-shadow: 4px 4px 4px; border: 1px solid \">\n",
    "<h2>  Reviewer's comment ⚠️</h2>\n",
    "    \n",
    "\n",
    "Since there are no id duplicates, there cannot be any fully duplicated rows. That's all, just one line of code :)     \n",
    "</div>"
   ]
  },
  {
   "cell_type": "markdown",
   "id": "1cd9fd58",
   "metadata": {},
   "source": [
    "<div class=\"alert alert-info\">\n",
    "<h2> Student's comment </h2>\n",
    "\n",
    "Steps:\n",
    "1. Checked for fully duplicate rows in df_departments using .duplicated().sum()\n",
    "2. Checked for just duplicate department_id using duplicate().unique() and len()\n",
    "\n",
    "There are no duplicate values in df_departments that may cause issues.\n",
    "</div>"
   ]
  },
  {
   "cell_type": "markdown",
   "id": "77b54d8c",
   "metadata": {},
   "source": [
    "<div class=\"alert alert-success\" style=\"border-radius: 15px; box-shadow: 4px 4px 4px; border: 1px solid \">\n",
    "<h2>Reviewer's comment 2 ✔️</h2>\n",
    "    \n",
    "\n",
    "Good.     \n",
    "    \n",
    "</div>"
   ]
  },
  {
   "cell_type": "markdown",
   "id": "889349c1",
   "metadata": {},
   "source": [
    "### `aisles` data frame"
   ]
  },
  {
   "cell_type": "code",
   "execution_count": 20,
   "id": "9da89fb9-4679-40f5-ad0d-c34df753a3f8",
   "metadata": {},
   "outputs": [
    {
     "data": {
      "text/plain": [
       "0"
      ]
     },
     "execution_count": 20,
     "metadata": {},
     "output_type": "execute_result"
    }
   ],
   "source": [
    "# Check for fully duplicate rows\n",
    "df_aisles.duplicated().sum()"
   ]
  },
  {
   "cell_type": "code",
   "execution_count": 21,
   "id": "da7c2822",
   "metadata": {},
   "outputs": [
    {
     "data": {
      "text/plain": [
       "0"
      ]
     },
     "execution_count": 21,
     "metadata": {},
     "output_type": "execute_result"
    }
   ],
   "source": [
    "# Check for just duplicate aisle IDs\n",
    "df_aisles['aisle_id'].duplicated().sum()"
   ]
  },
  {
   "cell_type": "markdown",
   "id": "b67099a2",
   "metadata": {},
   "source": [
    "<div class=\"alert alert-info\">\n",
    "<h2> Student's comment </h2>\n",
    "\n",
    "Steps:\n",
    "    \n",
    "1. Checked for fully duplicate rows in df_aisles using .duplicated().sum()\n",
    "2. Checked for just duplicate aisle_id using duplicate().unique() and len()\n",
    "\n",
    "There are no duplicate values in df_aisles that may cause issues.\n",
    "</div>"
   ]
  },
  {
   "cell_type": "markdown",
   "id": "e4d01f37",
   "metadata": {},
   "source": [
    "<div class=\"alert alert-success\" style=\"border-radius: 15px; box-shadow: 4px 4px 4px; border: 1px solid \">\n",
    "<h2>   Reviewer's comment ✔️</h2>\n",
    "    \n",
    "Correct. \n",
    "    \n",
    "</div>"
   ]
  },
  {
   "cell_type": "markdown",
   "id": "274cd06a",
   "metadata": {},
   "source": [
    "### `order_products` data frame"
   ]
  },
  {
   "cell_type": "code",
   "execution_count": 22,
   "id": "52326689-84a8-4b8f-a881-7c68780f62c9",
   "metadata": {},
   "outputs": [
    {
     "data": {
      "text/plain": [
       "0"
      ]
     },
     "metadata": {},
     "output_type": "display_data"
    }
   ],
   "source": [
    "# Check for fully duplicate rows\n",
    "display(df_order_products.duplicated().sum())"
   ]
  },
  {
   "cell_type": "code",
   "execution_count": 23,
   "id": "7b861391",
   "metadata": {
    "scrolled": true
   },
   "outputs": [
    {
     "data": {
      "text/plain": [
       "0"
      ]
     },
     "execution_count": 23,
     "metadata": {},
     "output_type": "execute_result"
    }
   ],
   "source": [
    "# Check for duplicates in 'order_id' and 'product_id'\n",
    "df_order_products.duplicated(subset=['order_id', 'product_id'], keep=False).sum()"
   ]
  },
  {
   "cell_type": "markdown",
   "id": "6a8fa541",
   "metadata": {},
   "source": [
    "<div class=\"alert alert-info\">\n",
    "<h2> Student's comment </h2>\n",
    "\n",
    "Steps:\n",
    "\n",
    "1. Checked for fully duplicate rows in df_order_products using .duplicated().sum()\n",
    "2. Checked for 'order_id' - 'product_id' duplicates using duplicated() and subset()\n",
    "\n",
    "There are no 'order_id' and 'product_id' duplicates or fully duplicate rows in 'order_products'\n",
    "</div>"
   ]
  },
  {
   "cell_type": "markdown",
   "id": "01a848f9",
   "metadata": {},
   "source": [
    "<div class=\"alert alert-danger\" style=\"border-radius: 15px; box-shadow: 4px 4px 4px; border: 1px solid \">\n",
    "<b> Reviewer's comment  ❌</b>\n",
    "    \n",
    "Are there any `'order_id'` - `'product_id'` duplicates?\n",
    "\n",
    "\n",
    "\n",
    "Imagine you are looking for the duplicates in the dataframe: \n",
    "\n",
    "```python\n",
    "    \n",
    "John Smith 35\n",
    "    \n",
    "John Smith 8\n",
    "    \n",
    "John Adams 21\n",
    "```\n",
    "\n",
    "\n",
    "There are three columns: first name, last name, and age. If we apply `duplicated` to this dataframe, we will not find any duplicates, since at least one of the values differs. However, if we try to find `'first name' - 'last name'` duplicates, we will notice that there are two people with the same full name, John Smith. \n",
    "\n",
    "\n",
    "Apply the same logic and try to look for the `'order_id'` - `'product_id'` duplicates. The `subset` parameter should help you. As a subset, use the list of columns: `subset=['order_id', 'product_id']`.</div>\n",
    "<div class=\"alert alert-success\" style=\"border-radius: 15px; box-shadow: 4px 4px 4px; border: 1px solid \">\n",
    "<h2>   Reviewer's comment 2 ✔️</h2>\n",
    "    \n",
    "Well done! You can also take two columns and then apply the `duplicated` method.   \n",
    "</div>"
   ]
  },
  {
   "cell_type": "markdown",
   "id": "1e46de76",
   "metadata": {},
   "source": [
    "## Find and remove missing values\n"
   ]
  },
  {
   "cell_type": "markdown",
   "id": "c0aebd78",
   "metadata": {},
   "source": [
    "### `products` data frame"
   ]
  },
  {
   "cell_type": "code",
   "execution_count": 24,
   "id": "fe4a8b0f",
   "metadata": {},
   "outputs": [
    {
     "name": "stdout",
     "output_type": "stream",
     "text": [
      "Missing values before filling:\n",
      "product_id       0\n",
      "product_name     1\n",
      "aisle_id         0\n",
      "department_id    0\n",
      "dtype: int64 \n",
      "\n"
     ]
    }
   ],
   "source": [
    "# check for missing values\n",
    "print(\"Missing values before filling:\")\n",
    "print(df_products.isna().sum(), \"\\n\")"
   ]
  },
  {
   "cell_type": "code",
   "execution_count": 25,
   "id": "e96167bc",
   "metadata": {},
   "outputs": [
    {
     "name": "stdout",
     "output_type": "stream",
     "text": [
      "All missing product_name values are associated with aisle ID 100.\n"
     ]
    }
   ],
   "source": [
    "# Are all of the missing product names associated with aisle ID 100?\n",
    "# Filter rows where 'product_name' is missing (NaN)\n",
    "missing_product_names = df_products[df_products['product_name'].isna()]\n",
    "\n",
    "# Check if all missing 'product_name' rows have 'aisle_id' equal to 100\n",
    "all_in_aisle_100 = (missing_product_names['aisle_id'] == 100).all()\n",
    "\n",
    "# Print the result\n",
    "if all_in_aisle_100:\n",
    "    print(\"All missing product_name values are associated with aisle ID 100.\")\n",
    "else:\n",
    "    print(\"Not all missing product_name values are associated with aisle ID 100.\")"
   ]
  },
  {
   "cell_type": "code",
   "execution_count": 26,
   "id": "8fd0a541",
   "metadata": {},
   "outputs": [
    {
     "name": "stdout",
     "output_type": "stream",
     "text": [
      "All missing product_name values are associated with department ID 21.\n"
     ]
    }
   ],
   "source": [
    "# Are all of the missing product names associated with department ID 21?\n",
    "# Filter rows where 'product_name' is missing (NaN)\n",
    "missing_product_names = df_products[df_products['product_name'].isna()]\n",
    "\n",
    "# Check if all missing 'product_name' rows have 'department_id' equal to 21\n",
    "all_in_department_21 = (missing_product_names['department_id'] == 21).all()\n",
    "\n",
    "# Print the result\n",
    "if all_in_department_21:\n",
    "    print(\"All missing product_name values are associated with department ID 21.\")\n",
    "else:\n",
    "    print(\"Not all missing product_name values are associated with department ID 21.\")"
   ]
  },
  {
   "cell_type": "markdown",
   "id": "6ffb68a1",
   "metadata": {},
   "source": [
    "<div class=\"alert alert-success\" style=\"border-radius: 15px; box-shadow: 4px 4px 4px; border: 1px solid \">\n",
    "<h2> Reviewer's comment ✔️</h2>\n",
    "    \n",
    "Correct. \n",
    "\n",
    "</div>\n",
    "<div class=\"alert alert-danger\" style=\"border-radius: 15px; box-shadow: 4px 4px 4px; border: 1px solid \">\n",
    "<b> Reviewer's comment ❌</b>\n",
    "\n",
    "    \n",
    "There was another cell here with the question `What is this ailse and department?`.\n",
    "    \n",
    "    \n",
    "Try to print department from `departments` dataframe where department_id is 21 and aisle from `aisles` dataframes where aisle_id is 100. That's what they ask us about. \n",
    "    \n",
    "\n",
    "</div>"
   ]
  },
  {
   "cell_type": "code",
   "execution_count": 27,
   "id": "a4c5b59a",
   "metadata": {},
   "outputs": [
    {
     "data": {
      "text/html": [
       "<div>\n",
       "<style scoped>\n",
       "    .dataframe tbody tr th:only-of-type {\n",
       "        vertical-align: middle;\n",
       "    }\n",
       "\n",
       "    .dataframe tbody tr th {\n",
       "        vertical-align: top;\n",
       "    }\n",
       "\n",
       "    .dataframe thead th {\n",
       "        text-align: right;\n",
       "    }\n",
       "</style>\n",
       "<table border=\"1\" class=\"dataframe\">\n",
       "  <thead>\n",
       "    <tr style=\"text-align: right;\">\n",
       "      <th></th>\n",
       "      <th>department_id</th>\n",
       "      <th>department</th>\n",
       "    </tr>\n",
       "  </thead>\n",
       "  <tbody>\n",
       "    <tr>\n",
       "      <th>20</th>\n",
       "      <td>21</td>\n",
       "      <td>missing</td>\n",
       "    </tr>\n",
       "  </tbody>\n",
       "</table>\n",
       "</div>"
      ],
      "text/plain": [
       "    department_id department\n",
       "20             21    missing"
      ]
     },
     "metadata": {},
     "output_type": "display_data"
    },
    {
     "data": {
      "text/html": [
       "<div>\n",
       "<style scoped>\n",
       "    .dataframe tbody tr th:only-of-type {\n",
       "        vertical-align: middle;\n",
       "    }\n",
       "\n",
       "    .dataframe tbody tr th {\n",
       "        vertical-align: top;\n",
       "    }\n",
       "\n",
       "    .dataframe thead th {\n",
       "        text-align: right;\n",
       "    }\n",
       "</style>\n",
       "<table border=\"1\" class=\"dataframe\">\n",
       "  <thead>\n",
       "    <tr style=\"text-align: right;\">\n",
       "      <th></th>\n",
       "      <th>aisle_id</th>\n",
       "      <th>aisle</th>\n",
       "    </tr>\n",
       "  </thead>\n",
       "  <tbody>\n",
       "    <tr>\n",
       "      <th>99</th>\n",
       "      <td>100</td>\n",
       "      <td>missing</td>\n",
       "    </tr>\n",
       "  </tbody>\n",
       "</table>\n",
       "</div>"
      ],
      "text/plain": [
       "    aisle_id    aisle\n",
       "99       100  missing"
      ]
     },
     "metadata": {},
     "output_type": "display_data"
    }
   ],
   "source": [
    "# What is this aisle and department?\n",
    "# Print rows from df_departments where department_id is 21\n",
    "display(df_departments[df_departments['department_id'] == 21])\n",
    "\n",
    "# Print rows from df_aisles where aisle_id is 100\n",
    "display(df_aisles[df_aisles['aisle_id'] == 100])"
   ]
  },
  {
   "cell_type": "markdown",
   "id": "52a41d00",
   "metadata": {},
   "source": [
    "<div class=\"alert alert-success\" style=\"border-radius: 15px; box-shadow: 4px 4px 4px; border: 1px solid \">\n",
    "<h2> Reviewer's comment 2 ✔️</h2>\n",
    "    \n",
    "Yes, each missing product name has `'missing'` label. \n",
    "</div>"
   ]
  },
  {
   "cell_type": "code",
   "execution_count": 28,
   "id": "6b295120",
   "metadata": {},
   "outputs": [],
   "source": [
    "# Fill missing product names with 'Unknown'\n",
    "df_products['product_name'] = df_products['product_name'].fillna('Unknown')"
   ]
  },
  {
   "cell_type": "markdown",
   "id": "40088d20",
   "metadata": {},
   "source": [
    "<div class=\"alert alert-info\">\n",
    "<h2> Student's comment </h2>\n",
    "\n",
    "Steps:\n",
    "\n",
    "1. Checked for missing values using .isna().sum()\n",
    "2. Filter rows with missing product name using .isna()\n",
    "3. Check if missing product name rows are all associated with aisle id 100\n",
    "4. Check if missing product name rows are all associated with department id 21\n",
    "\n",
    "Based on the results of the code, all missing product names are associated with aisle id 100 and department id 21. Printing ['aisle_id'] == 100 and ['department_id'] == 21 supports this as they are missing in the displayed results.\n",
    "</div>"
   ]
  },
  {
   "cell_type": "markdown",
   "id": "b3ab1bdd",
   "metadata": {},
   "source": [
    "<div class=\"alert alert-success\" style=\"border-radius: 15px; box-shadow: 4px 4px 4px; border: 1px solid \">\n",
    "<h2> Reviewer's comment ✔️</h2>\n",
    "    \n",
    "Yes, we should replace them with some unique value, as it's hard to figure out a safer replacement. \n",
    "</div>"
   ]
  },
  {
   "cell_type": "markdown",
   "id": "7eb45c86",
   "metadata": {},
   "source": [
    "### `orders` data frame"
   ]
  },
  {
   "cell_type": "code",
   "execution_count": 29,
   "id": "93e41d96",
   "metadata": {
    "scrolled": true
   },
   "outputs": [
    {
     "name": "stdout",
     "output_type": "stream",
     "text": [
      "Missing values before filling:\n",
      "order_id                      0\n",
      "user_id                       0\n",
      "order_number                  0\n",
      "order_dow                     0\n",
      "order_hour_of_day             0\n",
      "days_since_prior_order    28817\n",
      "dtype: int64 \n",
      "\n"
     ]
    }
   ],
   "source": [
    "# check for missing values\n",
    "print(\"Missing values before filling:\")\n",
    "print(df_orders.isna().sum(), \"\\n\")"
   ]
  },
  {
   "cell_type": "code",
   "execution_count": 30,
   "id": "2b78b789",
   "metadata": {},
   "outputs": [
    {
     "data": {
      "text/plain": [
       "order_id                  0\n",
       "user_id                   0\n",
       "order_number              0\n",
       "order_dow                 0\n",
       "order_hour_of_day         0\n",
       "days_since_prior_order    0\n",
       "dtype: int64"
      ]
     },
     "execution_count": 30,
     "metadata": {},
     "output_type": "execute_result"
    }
   ],
   "source": [
    "# Are there any missing values where it's not a customer's first order?\n",
    "# Check if there are missing values where it's not a customer's first order\n",
    "df_orders[(df_orders['order_number'] != 1)].isna().sum()"
   ]
  },
  {
   "cell_type": "markdown",
   "id": "7d174db9",
   "metadata": {},
   "source": [
    "<div class=\"alert alert-success\" style=\"border-radius: 15px; box-shadow: 4px 4px 4px; border: 1px solid \">\n",
    "<h2> Reviewer's comment ✔️</h2>\n",
    "    \n",
    "You can make it shorter: \n",
    "\n",
    "</div>\n",
    "\n",
    "```python\n",
    "\n",
    "df_orders[(df_orders['order_number'] != 1)].isna().sum()\n",
    "\n",
    "\n",
    "```\n",
    "<div class=\"alert alert-warning\" style=\"border-radius: 15px; box-shadow: 4px 4px 4px; border: 1px solid \">\n",
    "<b> Reviewer's comment ⚠️</b>\n",
    "    \n",
    "\n",
    "That's what I was writing about in the previous section. `df_orders` is used here, not the dataframe without duplicates. \n",
    "</div>"
   ]
  },
  {
   "cell_type": "markdown",
   "id": "fb2e2e6c",
   "metadata": {},
   "source": [
    "<div class=\"alert alert-info\">\n",
    "<h2> Student's comment </h2>\n",
    "\n",
    "Steps:\n",
    "\n",
    "1. Checked for missing values using .isna().sum()\n",
    "2. Check if there are missing values where it's not a customer's first order\n",
    "\n",
    "Based on the results, there are no missing values where it's not a customer's first order. This means that all of the missing data in 'days_since_prior_order' is because it is the customer's first time ordering.\n",
    "</div>"
   ]
  },
  {
   "cell_type": "markdown",
   "id": "69dc9ca4",
   "metadata": {},
   "source": [
    "### `order_products` data frame"
   ]
  },
  {
   "cell_type": "code",
   "execution_count": 31,
   "id": "b8240253",
   "metadata": {},
   "outputs": [
    {
     "name": "stdout",
     "output_type": "stream",
     "text": [
      "Missing values before filling:\n",
      "order_id               0\n",
      "product_id             0\n",
      "add_to_cart_order    836\n",
      "reordered              0\n",
      "dtype: int64 \n",
      "\n"
     ]
    }
   ],
   "source": [
    "# Check for missing values\n",
    "print(\"Missing values before filling:\")\n",
    "print(df_order_products.isna().sum(), \"\\n\")"
   ]
  },
  {
   "cell_type": "code",
   "execution_count": 32,
   "id": "9a78e5ee",
   "metadata": {},
   "outputs": [
    {
     "name": "stdout",
     "output_type": "stream",
     "text": [
      "Minimum value in 'add_to_cart_order': 1.0\n",
      "Maximum value in 'add_to_cart_order': 64.0\n"
     ]
    }
   ],
   "source": [
    "# What are the min and max values in this column?\n",
    "# Find the minimum value in 'add_to_cart_order' column\n",
    "min_value = df_order_products['add_to_cart_order'].min()\n",
    "\n",
    "# Find the maximum value in 'add_to_cart_order' column\n",
    "max_value = df_order_products['add_to_cart_order'].max()\n",
    "\n",
    "# Print the results\n",
    "print(f\"Minimum value in 'add_to_cart_order': {min_value}\")\n",
    "print(f\"Maximum value in 'add_to_cart_order': {max_value}\")"
   ]
  },
  {
   "cell_type": "code",
   "execution_count": 33,
   "id": "ab9d0c2b",
   "metadata": {},
   "outputs": [
    {
     "name": "stdout",
     "output_type": "stream",
     "text": [
      "Order IDs with at least one missing value in 'add_to_cart_order':\n",
      "[2449164, 1968313, 2926893, 1717990, 1959075, 844733, 61355, 936852, 264710, 1564093, 129627, 293169, 2849370, 1386261, 3308010, 903110, 2136777, 3347453, 1888628, 165801, 2094761, 1038146, 2997021, 813364, 2256933, 171934, 2409109, 1730767, 1169835, 733526, 404157, 3125735, 747668, 1800005, 1961723, 871281, 388234, 1648217, 1477139, 102236, 1021563, 1832957, 2721963, 678116, 1220886, 1673227, 2999801, 1633337, 2470674, 2625444, 1677118, 2479011, 3383594, 1183255, 1713430, 2652650, 1598369, 1916118, 854647, 1302315, 888470, 180546, 2621907, 1308785, 2729254, 9310, 2170451, 2979697, 1625713, 1529171]\n"
     ]
    }
   ],
   "source": [
    "# Save all order IDs with at least one missing value in 'add_to_cart_order'\n",
    "import numpy as np\n",
    "\n",
    "# Fill missing values with NaN\n",
    "df_order_products['add_to_cart_order'] = df_order_products['add_to_cart_order'].replace('', np.nan)\n",
    "\n",
    "# Filter rows where 'add_to_cart_order' is NaN\n",
    "orders_with_missing_add_to_cart = df_order_products[df_order_products['add_to_cart_order'].isna()]\n",
    "\n",
    "# Extract the unique 'order_id's with missing 'add_to_cart_order'\n",
    "order_ids_with_missing = orders_with_missing_add_to_cart['order_id'].unique()\n",
    "\n",
    "# Save the result to a list or variable\n",
    "order_ids_with_missing_list = order_ids_with_missing.tolist()\n",
    "\n",
    "# Print the list of order IDs\n",
    "print(\"Order IDs with at least one missing value in 'add_to_cart_order':\")\n",
    "print(order_ids_with_missing_list)"
   ]
  },
  {
   "cell_type": "code",
   "execution_count": 34,
   "id": "32ae1b59",
   "metadata": {},
   "outputs": [
    {
     "data": {
      "text/html": [
       "<div>\n",
       "<style scoped>\n",
       "    .dataframe tbody tr th:only-of-type {\n",
       "        vertical-align: middle;\n",
       "    }\n",
       "\n",
       "    .dataframe tbody tr th {\n",
       "        vertical-align: top;\n",
       "    }\n",
       "\n",
       "    .dataframe thead th {\n",
       "        text-align: right;\n",
       "    }\n",
       "</style>\n",
       "<table border=\"1\" class=\"dataframe\">\n",
       "  <thead>\n",
       "    <tr style=\"text-align: right;\">\n",
       "      <th></th>\n",
       "      <th>order_id</th>\n",
       "      <th>count</th>\n",
       "    </tr>\n",
       "  </thead>\n",
       "  <tbody>\n",
       "    <tr>\n",
       "      <th>0</th>\n",
       "      <td>9310</td>\n",
       "      <td>65</td>\n",
       "    </tr>\n",
       "    <tr>\n",
       "      <th>1</th>\n",
       "      <td>61355</td>\n",
       "      <td>127</td>\n",
       "    </tr>\n",
       "    <tr>\n",
       "      <th>2</th>\n",
       "      <td>102236</td>\n",
       "      <td>95</td>\n",
       "    </tr>\n",
       "    <tr>\n",
       "      <th>3</th>\n",
       "      <td>129627</td>\n",
       "      <td>69</td>\n",
       "    </tr>\n",
       "    <tr>\n",
       "      <th>4</th>\n",
       "      <td>165801</td>\n",
       "      <td>70</td>\n",
       "    </tr>\n",
       "    <tr>\n",
       "      <th>...</th>\n",
       "      <td>...</td>\n",
       "      <td>...</td>\n",
       "    </tr>\n",
       "    <tr>\n",
       "      <th>65</th>\n",
       "      <td>2999801</td>\n",
       "      <td>70</td>\n",
       "    </tr>\n",
       "    <tr>\n",
       "      <th>66</th>\n",
       "      <td>3125735</td>\n",
       "      <td>86</td>\n",
       "    </tr>\n",
       "    <tr>\n",
       "      <th>67</th>\n",
       "      <td>3308010</td>\n",
       "      <td>115</td>\n",
       "    </tr>\n",
       "    <tr>\n",
       "      <th>68</th>\n",
       "      <td>3347453</td>\n",
       "      <td>71</td>\n",
       "    </tr>\n",
       "    <tr>\n",
       "      <th>69</th>\n",
       "      <td>3383594</td>\n",
       "      <td>69</td>\n",
       "    </tr>\n",
       "  </tbody>\n",
       "</table>\n",
       "<p>70 rows × 2 columns</p>\n",
       "</div>"
      ],
      "text/plain": [
       "    order_id  count\n",
       "0       9310     65\n",
       "1      61355    127\n",
       "2     102236     95\n",
       "3     129627     69\n",
       "4     165801     70\n",
       "..       ...    ...\n",
       "65   2999801     70\n",
       "66   3125735     86\n",
       "67   3308010    115\n",
       "68   3347453     71\n",
       "69   3383594     69\n",
       "\n",
       "[70 rows x 2 columns]"
      ]
     },
     "metadata": {},
     "output_type": "display_data"
    }
   ],
   "source": [
    "# Filter rows in df_order_products where order_id is in the list\n",
    "filtered_orders = df_order_products[df_order_products['order_id'].isin(order_ids_with_missing_list)]\n",
    "\n",
    "# Group by order_id and count the number of occurrences\n",
    "order_counts = filtered_orders.groupby('order_id').size().reset_index(name='count')\n",
    "\n",
    "display(order_counts)"
   ]
  },
  {
   "cell_type": "code",
   "execution_count": 35,
   "id": "54c31695",
   "metadata": {},
   "outputs": [
    {
     "data": {
      "text/plain": [
       "True"
      ]
     },
     "metadata": {},
     "output_type": "display_data"
    }
   ],
   "source": [
    "# Check if all orders have more than 64 products\n",
    "all_orders_above_64 = (order_counts['count'] > 64).all()\n",
    "\n",
    "# Display the result\n",
    "display(all_orders_above_64)"
   ]
  },
  {
   "cell_type": "markdown",
   "id": "76afb222",
   "metadata": {},
   "source": [
    "<div class=\"alert alert-danger\" style=\"border-radius: 15px; box-shadow: 4px 4px 4px; border: 1px solid \">\n",
    "<b> Reviewer's comment ❌</b>\n",
    "    \n",
    "Reconsider this solution please. First, we need to take the unique `order_id` values from the dataframe where `add_to_cart_order` are Nan-s. You have successfully done that above and saved the list in the `order_ids_with_missing_list` variable. \n",
    "    \n",
    "    \n",
    "Then try to find rows in the `df_order_products` dataframe where `order_id` is in the list of unique values found before. Then group by `order_id` and count. Please do not count rows using the `add_to_cart_order` column, since this column has missing values. If you still want to use this column, try to use `size` instead of `count`. \n",
    "\n",
    "</div>\n",
    "<div class=\"alert alert-success\" style=\"border-radius: 15px; box-shadow: 4px 4px 4px; border: 1px solid \">\n",
    "<h2> Reviewer's comment 2 ✔️</h2>\n",
    "    \n",
    "Correct. You can also print the minimum value. </div>"
   ]
  },
  {
   "cell_type": "code",
   "execution_count": 36,
   "id": "7a987d08",
   "metadata": {},
   "outputs": [],
   "source": [
    "# Replace missing values with 999 and convert column to integer type\n",
    "# Replace missing values in 'add_to_cart_order' with 999\n",
    "df_order_products['add_to_cart_order'] = df_order_products['add_to_cart_order'].fillna(999).astype(int)"
   ]
  },
  {
   "cell_type": "markdown",
   "id": "b5114e1f",
   "metadata": {},
   "source": [
    "<div class=\"alert alert-success\" style=\"border-radius: 15px; box-shadow: 4px 4px 4px; border: 1px solid \">\n",
    "<h2> Reviewer's comment ✔️</h2>\n",
    "    \n",
    "Great! Now we are ready for the exploratory data analysis. \n",
    "\n",
    "</div>\n",
    "<div class=\"alert alert-warning\" style=\"border-radius: 15px; box-shadow: 4px 4px 4px; border: 1px solid \">\n",
    "<b> Reviewer's comment ⚠️</b>\n",
    "    \n",
    "`astype` can be applied right after `fillna`.\n",
    "    \n",
    "</div>\n",
    "<div class=\"alert alert-danger\" style=\"border-radius: 15px; box-shadow: 4px 4px 4px; border: 1px solid \">\n",
    "<b> Reviewer's comment  ❌</b>\n",
    "    \n",
    "Please add a conclusion about the whole data preprocessing part here. \n",
    "\n",
    "</div>"
   ]
  },
  {
   "cell_type": "markdown",
   "id": "9d455021",
   "metadata": {},
   "source": [
    "<div class=\"alert alert-info\">\n",
    "<h2> Student's comment </h2>\n",
    "\n",
    "Steps:\n",
    "\n",
    "1. Checked for missing values using .isna().sum()\n",
    "2. Found the minimum and maximum value in 'add_to_cart_order' using .min() and .max()\n",
    "3. Fill missing values with NaN using .replace()\n",
    "4. Filter rows where 'add_to_cart_order' is NaN using .isna()\n",
    "5. Extract the unique 'order_id's with missing 'add_to_cart_order' using .unique()\n",
    "6. Save the result to a list or variable\n",
    "7. Filter rows in df_order_products where order_id is in the list using .isin()\n",
    "8. Group by order_id and count the number of occurrences using .size()\n",
    "9. Replace missing values in 'add_to_cart_order' with 999 using .fillna() and .astype()\n",
    "\n",
    "Based on the results, all orders with at least one missing value contain more than 64 products.\n",
    "</div>"
   ]
  },
  {
   "cell_type": "markdown",
   "id": "c00afe81",
   "metadata": {},
   "source": [
    "<div class=\"alert alert-info\">\n",
    "<h2> Data Preprocessing Conclusion </h2>\n",
    "    \n",
    "As suspected, the data did have a few issues that needed to be addressed before moving on to the analysis. First, the data frames were seperated with ';'. Next, duplicate values were found in the orders data frame that had to be removed. There were no duplicate rows in the products data frame or duplicate values in product id, however there were missing values and duplicates in product name. These rows and duplicates were removed. The departments and aisles data frames had no concerning duplicates. Results for the products data frame show that the missing product name values are all associated with aisle id 100 and department id 21, these missing values were filled with 'Unknown'. The orders data frame did have missing values in days since prior order column but the findings show that these missing values are a result of customers ordering for the first time. For the order products dataframe, the results of the data preprocessing show that all orders with missing values contain more than 64 products.\n",
    "\n",
    "</div>"
   ]
  },
  {
   "cell_type": "markdown",
   "id": "8a534f85",
   "metadata": {},
   "source": [
    "<div class=\"alert alert-success\" style=\"border-radius: 15px; box-shadow: 4px 4px 4px; border: 1px solid \">\n",
    "<h2> Reviewer's comment 2 ✔️</h2>\n",
    "    \n",
    "Excellent! </div>"
   ]
  },
  {
   "cell_type": "markdown",
   "id": "turkish-kidney",
   "metadata": {},
   "source": [
    "# [A] Easy (must complete all to pass)"
   ]
  },
  {
   "cell_type": "markdown",
   "id": "short-capability",
   "metadata": {},
   "source": [
    "### [A1] Verify that the `'order_hour_of_day'` and `'order_dow'` values in the `orders` tables are sensible (i.e. `'order_hour_of_day'` ranges from 0 to 23 and `'order_dow'` ranges from 0 to 6)"
   ]
  },
  {
   "cell_type": "code",
   "execution_count": 37,
   "id": "growing-fruit",
   "metadata": {
    "scrolled": false
   },
   "outputs": [
    {
     "name": "stdout",
     "output_type": "stream",
     "text": [
      "All 'order_hour_of_day' values are sensible (0 to 23).\n",
      "All 'order_dow' values are sensible (0 to 6).\n"
     ]
    }
   ],
   "source": [
    "# Check if all values in 'order_hour_of_day' are between 0 and 23\n",
    "hour_valid = df_orders['order_hour_of_day'].between(0, 23).all()\n",
    "\n",
    "# Check if all values in 'order_dow' are between 0 and 6\n",
    "dow_valid = df_orders['order_dow'].between(0, 6).all()\n",
    "\n",
    "# Print the results\n",
    "if hour_valid:\n",
    "    print(\"All 'order_hour_of_day' values are sensible (0 to 23).\")\n",
    "else:\n",
    "    print(\"There are invalid 'order_hour_of_day' values outside the range of 0 to 23.\")\n",
    "\n",
    "if dow_valid:\n",
    "    print(\"All 'order_dow' values are sensible (0 to 6).\")\n",
    "else:\n",
    "    print(\"There are invalid 'order_dow' values outside the range of 0 to 6.\")"
   ]
  },
  {
   "cell_type": "markdown",
   "id": "9867c545",
   "metadata": {},
   "source": [
    "<div class=\"alert alert-info\">\n",
    "<h2> Student's comment </h2>\n",
    "\n",
    "Based on the results, the values in 'order_hour_of_day' and 'order_dow' are sensible.\n",
    "</div>"
   ]
  },
  {
   "cell_type": "markdown",
   "id": "65337915",
   "metadata": {},
   "source": [
    "<div class=\"alert alert-warning\" style=\"border-radius: 15px; box-shadow: 4px 4px 4px; border: 1px solid \">\n",
    "<b> Reviewer's comment ⚠️</b>\n",
    "    \n",
    "\n",
    "It will be great if you use Markdown cells for your conclusions.     \n",
    "</div>\n",
    "<div class=\"alert alert-success\" style=\"border-radius: 15px; box-shadow: 4px 4px 4px; border: 1px solid \">\n",
    "<h2> Reviewer's comment 2 ✔️</h2>\n",
    "    \n",
    "Good! </div>"
   ]
  },
  {
   "cell_type": "markdown",
   "id": "a6743a70",
   "metadata": {},
   "source": [
    "### [A2] What time of day do people shop for groceries?"
   ]
  },
  {
   "cell_type": "code",
   "execution_count": 38,
   "id": "a36cca27",
   "metadata": {},
   "outputs": [
    {
     "data": {
      "image/png": "[encoded data removed]",
      "text/plain": [
       "<Figure size 1200x600 with 1 Axes>"
      ]
     },
     "metadata": {},
     "output_type": "display_data"
    }
   ],
   "source": [
    "# Group by 'order_hour_of_day' and count the number of orders for each hour\n",
    "orders_by_hour = df_orders['order_hour_of_day'].value_counts().sort_index()\n",
    "\n",
    "# Plotting the results\n",
    "plt.figure(figsize=(12, 6))\n",
    "plt.bar(orders_by_hour.index, orders_by_hour.values, color='skyblue')\n",
    "plt.title('Number of Grocery Orders by Hour of the Day')\n",
    "plt.xlabel('Hour of Day')\n",
    "plt.ylabel('Number of Orders')\n",
    "plt.xticks(range(24))  # Show all hours from 0 to 23\n",
    "plt.grid(axis='y', linestyle='--')\n",
    "plt.show()"
   ]
  },
  {
   "cell_type": "markdown",
   "id": "623e0a69",
   "metadata": {},
   "source": [
    "<div class=\"alert alert-info\">\n",
    "<h2> Student's comment </h2>\n",
    "\n",
    "Based on the graph, most people shop for groceries at 9:00 AM\n",
    "</div>"
   ]
  },
  {
   "cell_type": "markdown",
   "id": "4b4182ee",
   "metadata": {},
   "source": [
    "<div class=\"alert alert-success\" style=\"border-radius: 15px; box-shadow: 4px 4px 4px; border: 1px solid \">\n",
    "<h2> Reviewer's comment ✔️</h2>\n",
    "    \n",
    "    \n",
    "It's great that you add a title and both axes labels 👍 So most orders occur between 9 AM and 5 PM.\n",
    "\n",
    "\n",
    "</div>\n",
    "<div class=\"alert alert-warning\" style=\"border-radius: 15px; box-shadow: 4px 4px 4px; border: 1px solid \">\n",
    "<b>  Reviewer's comment ⚠️</b>\n",
    "    \n",
    "\n",
    "[PEP8](https://peps.python.org/pep-0008/) states that one should always put imports at the top of the file. It's a good practice, since everyone who is going to read the project, can immediately figure out what modules need to be installed. Moreover, imports should be placed in a separate cell. \n",
    "\n",
    "</div>"
   ]
  },
  {
   "cell_type": "markdown",
   "id": "documented-command",
   "metadata": {},
   "source": [
    "### [A3] What day of the week do people shop for groceries?"
   ]
  },
  {
   "cell_type": "code",
   "execution_count": 39,
   "id": "chief-digit",
   "metadata": {},
   "outputs": [
    {
     "name": "stdout",
     "output_type": "stream",
     "text": [
      "0    84090\n",
      "1    82185\n",
      "2    65833\n",
      "3    60897\n",
      "4    59810\n",
      "5    63488\n",
      "6    62649\n",
      "Name: order_dow, dtype: int64\n"
     ]
    },
    {
     "data": {
      "image/png": "[encoded data removed]",
      "text/plain": [
       "<Figure size 1200x600 with 1 Axes>"
      ]
     },
     "metadata": {},
     "output_type": "display_data"
    }
   ],
   "source": [
    "# Group by 'order_dow' and count the number of orders for each day\n",
    "dow_orders = df_orders['order_dow'].value_counts().sort_index()\n",
    "\n",
    "# Print the counts of orders for each day\n",
    "print(dow_orders)\n",
    "\n",
    "# Define a list of days for better labeling\n",
    "days_of_week = ['Sunday', 'Monday', 'Tuesday', 'Wednesday', 'Thursday', 'Friday', 'Saturday']\n",
    "\n",
    "# Plotting the results\n",
    "plt.figure(figsize=(12, 6))\n",
    "plt.bar(days_of_week, dow_orders.values, color='lightgreen')\n",
    "plt.title('Number of Grocery Orders by Day of the Week')\n",
    "plt.xlabel('Day of the Week')\n",
    "plt.ylabel('Number of Orders')\n",
    "plt.xticks(rotation=45)  # Rotate x-axis labels for better readability\n",
    "plt.grid(axis='y', linestyle='--')\n",
    "plt.show()"
   ]
  },
  {
   "cell_type": "markdown",
   "id": "65693a9f",
   "metadata": {},
   "source": [
    "<div class=\"alert alert-info\">\n",
    "<h2> Student's comment </h2>\n",
    "    \n",
    "Based on the graph, most people shop for groceries on Sunday followed closely by Monday.\n",
    "</div>"
   ]
  },
  {
   "cell_type": "markdown",
   "id": "dominant-lightning",
   "metadata": {},
   "source": [
    "<div class=\"alert alert-success\" style=\"border-radius: 15px; box-shadow: 4px 4px 4px; border: 1px solid \">\n",
    "<h2> Reviewer's comment ✔️</h2>\n",
    "    \n",
    "    \n",
    "Correct.     \n",
    "</div>"
   ]
  },
  {
   "cell_type": "markdown",
   "id": "cutting-concert",
   "metadata": {},
   "source": [
    "### [A4] How long do people wait until placing another order?"
   ]
  },
  {
   "cell_type": "code",
   "execution_count": 40,
   "id": "c231f523",
   "metadata": {},
   "outputs": [
    {
     "data": {
      "image/png": "[encoded data removed]",
      "text/plain": [
       "<Figure size 1200x600 with 1 Axes>"
      ]
     },
     "metadata": {},
     "output_type": "display_data"
    },
    {
     "name": "stdout",
     "output_type": "stream",
     "text": [
      "count    478952.000000\n",
      "mean         10.433853\n",
      "std           9.292153\n",
      "min           0.000000\n",
      "25%           4.000000\n",
      "50%           7.000000\n",
      "75%          15.000000\n",
      "max          30.000000\n",
      "Name: days_since_prior_order, dtype: float64\n"
     ]
    }
   ],
   "source": [
    "# Fill missing values in 'days_since_prior_order' with 0 for analysis\n",
    "df_orders['days_since_prior_order'] = df_orders['days_since_prior_order'].fillna(0)\n",
    "\n",
    "# Plotting the distribution of days since the prior order\n",
    "plt.figure(figsize=(12, 6))\n",
    "plt.hist(df_orders['days_since_prior_order'], bins=30, color='coral', edgecolor='black', alpha=0.7)\n",
    "plt.title('Distribution of Days Since Prior Order')\n",
    "plt.xlabel('Days Since Prior Order')\n",
    "plt.ylabel('Number of Orders')\n",
    "plt.xticks(range(0, int(df_orders['days_since_prior_order'].max()) + 1, 2))  # Set x-ticks for clarity\n",
    "plt.grid(axis='y', linestyle='--')\n",
    "plt.show()\n",
    "\n",
    "# Print basic statistics about 'days_since_prior_order'\n",
    "print(df_orders['days_since_prior_order'].describe())"
   ]
  },
  {
   "cell_type": "markdown",
   "id": "d643e63a",
   "metadata": {},
   "source": [
    "<div class=\"alert alert-info\">\n",
    "<h2> Student's comment </h2>\n",
    "\n",
    "Most of the customers are waiting over 30 days to place another order based on the results of the graph.\n",
    "</div>"
   ]
  },
  {
   "cell_type": "markdown",
   "id": "de7f581a",
   "metadata": {},
   "source": [
    "<div class=\"alert alert-success\" style=\"border-radius: 15px; box-shadow: 4px 4px 4px; border: 1px solid \">\n",
    "<h2> Reviewer's comment ✔️</h2>\n",
    "    \n",
    "    \n",
    "Some people may make an order once a month.   \n",
    "</div>"
   ]
  },
  {
   "cell_type": "markdown",
   "id": "tight-staff",
   "metadata": {},
   "source": [
    "# [B] Medium (must complete all to pass)"
   ]
  },
  {
   "cell_type": "markdown",
   "id": "packed-classic",
   "metadata": {},
   "source": [
    "### [B1] Is there a difference in `'order_hour_of_day'` distributions on Wednesdays and Saturdays? Plot the histograms for both days and describe the differences that you see."
   ]
  },
  {
   "cell_type": "code",
   "execution_count": 41,
   "id": "d89b8403",
   "metadata": {},
   "outputs": [
    {
     "data": {
      "image/png": "[encoded data removed]",
      "text/plain": [
       "<Figure size 1400x600 with 2 Axes>"
      ]
     },
     "metadata": {},
     "output_type": "display_data"
    }
   ],
   "source": [
    "# Filter the orders for Wednesday (order_dow == 3) and Saturday (order_dow == 6)\n",
    "wednesday_orders = df_orders[df_orders['order_dow'] == 3]\n",
    "saturday_orders = df_orders[df_orders['order_dow'] == 6]\n",
    "\n",
    "# Plot histograms for 'order_hour_of_day' for both Wednesday and Saturday\n",
    "plt.figure(figsize=(14, 6))\n",
    "\n",
    "# Wednesday orders\n",
    "plt.subplot(1, 2, 1)  # First subplot\n",
    "plt.hist(wednesday_orders['order_hour_of_day'], bins=24, color='skyblue', edgecolor='black', alpha=0.7)\n",
    "plt.title('Orders on Wednesday by Hour of Day')\n",
    "plt.xlabel('Hour of Day')\n",
    "plt.ylabel('Number of Orders')\n",
    "plt.xticks(range(0, 24))  # Set x-ticks from 0 to 23\n",
    "plt.grid(axis='y', linestyle='--')\n",
    "\n",
    "# Saturday orders\n",
    "plt.subplot(1, 2, 2)  # Second subplot\n",
    "plt.hist(saturday_orders['order_hour_of_day'], bins=24, color='lightgreen', edgecolor='black', alpha=0.7)\n",
    "plt.title('Orders on Saturday by Hour of Day')\n",
    "plt.xlabel('Hour of Day')\n",
    "plt.ylabel('Number of Orders')\n",
    "plt.xticks(range(0, 24))  # Set x-ticks from 0 to 23\n",
    "plt.grid(axis='y', linestyle='--')\n",
    "\n",
    "# Display the plots\n",
    "plt.tight_layout()\n",
    "plt.show()"
   ]
  },
  {
   "cell_type": "code",
   "execution_count": 42,
   "id": "94e54e8a",
   "metadata": {},
   "outputs": [
    {
     "name": "stdout",
     "output_type": "stream",
     "text": [
      "Wednesday 'order_hour_of_day' description:\n",
      "count    60897.000000\n",
      "mean        13.531241\n",
      "std          4.258216\n",
      "min          0.000000\n",
      "25%         10.000000\n",
      "50%         13.000000\n",
      "75%         17.000000\n",
      "max         23.000000\n",
      "Name: order_hour_of_day, dtype: float64\n",
      "\n",
      "Saturday 'order_hour_of_day' description:\n",
      "count    62649.000000\n",
      "mean        13.536050\n",
      "std          4.263393\n",
      "min          0.000000\n",
      "25%         10.000000\n",
      "50%         13.000000\n",
      "75%         16.000000\n",
      "max         23.000000\n",
      "Name: order_hour_of_day, dtype: float64\n"
     ]
    }
   ],
   "source": [
    "# Describe the distributions statistically\n",
    "print(\"Wednesday 'order_hour_of_day' description:\")\n",
    "print(wednesday_orders['order_hour_of_day'].describe())\n",
    "print(\"\\nSaturday 'order_hour_of_day' description:\")\n",
    "print(saturday_orders['order_hour_of_day'].describe())"
   ]
  },
  {
   "cell_type": "markdown",
   "id": "33b0d5f3",
   "metadata": {},
   "source": [
    "<div class=\"alert alert-info\">\n",
    "<h2> Student's comment </h2>\n",
    "\n",
    "The distribution of orders based on the hour of the day for Wednesday and Sunday are very similar but there are slight differences.\n",
    "- The peak hour of day that received the most orders for Wednesday are at hour 16 or 4:00 PM\n",
    "- For Sunday, the peak hour of day that received the most orders are at hour 15 or 3:00 PM\n",
    "- Wednesday at 9:00 AM has around 5000 orders meanwhile, on Sunday at 9:00 AM there are only about 4300 orders\n",
    "\n",
    "Other than these minor differences the distribution of orders on both days are almost the same with both days having an average order of 13.53 to 13.54 orders per customer.\n",
    "The standard deviation, min, 25%, 50%, 75% and max are also practically the same between the two days.\n",
    "</div>"
   ]
  },
  {
   "cell_type": "markdown",
   "id": "7148a7bf",
   "metadata": {},
   "source": [
    "<div class=\"alert alert-success\" style=\"border-radius: 15px; box-shadow: 4px 4px 4px; border: 1px solid \">\n",
    "<h2> Reviewer's comment ✔️</h2>\n",
    "    \n",
    "    \n",
    "Very good. \n",
    "\n",
    "</div>\n",
    "<div class=\"alert alert-warning\" style=\"border-radius: 15px; box-shadow: 4px 4px 4px; border: 1px solid \">\n",
    "<h2>  Reviewer's comment ⚠️</h2>\n",
    "    \n",
    "\n",
    "Both charts can be displayed on one figure.\n",
    "\n",
    "</div>"
   ]
  },
  {
   "cell_type": "markdown",
   "id": "e3891143",
   "metadata": {},
   "source": [
    "### [B2] What's the distribution for the number of orders per customer?"
   ]
  },
  {
   "cell_type": "code",
   "execution_count": 43,
   "id": "d8c26c23",
   "metadata": {},
   "outputs": [
    {
     "data": {
      "image/png": "[encoded data removed]",
      "text/plain": [
       "<Figure size 1000x600 with 1 Axes>"
      ]
     },
     "metadata": {},
     "output_type": "display_data"
    },
    {
     "name": "stdout",
     "output_type": "stream",
     "text": [
      "count    157437.000000\n",
      "mean         15.577571\n",
      "std          17.215517\n",
      "min           1.000000\n",
      "25%           4.000000\n",
      "50%           9.000000\n",
      "75%          20.000000\n",
      "max         100.000000\n",
      "Name: order_number, dtype: float64\n"
     ]
    }
   ],
   "source": [
    "# Group by 'user_id' and get the maximum 'order_number' for each customer\n",
    "orders_per_customer = df_orders.groupby('user_id')['order_number'].max()\n",
    "\n",
    "# Plot the distribution of the number of orders per customer\n",
    "plt.figure(figsize=(10, 6))\n",
    "plt.hist(orders_per_customer, bins=30, color='skyblue', edgecolor='black', alpha=0.7)\n",
    "plt.title('Distribution of Number of Orders per Customer')\n",
    "plt.xlabel('Number of Orders')\n",
    "plt.ylabel('Number of Customers')\n",
    "plt.grid(axis='y', linestyle='--')\n",
    "\n",
    "# Show the plot\n",
    "plt.show()\n",
    "\n",
    "# Statistical description of the distribution\n",
    "print(orders_per_customer.describe())"
   ]
  },
  {
   "cell_type": "markdown",
   "id": "52e41799",
   "metadata": {},
   "source": [
    "<div class=\"alert alert-info\">\n",
    "<h2> Student's comment </h2>\n",
    "\n",
    "Based on the distribution on the graph, most customers are placing less than 10 orders with a large majority placing less than 6 orders.\n",
    "</div>"
   ]
  },
  {
   "cell_type": "markdown",
   "id": "bc755244",
   "metadata": {},
   "source": [
    "<div class=\"alert alert-success\" style=\"border-radius: 15px; box-shadow: 4px 4px 4px; border: 1px solid \">\n",
    "<h2> Reviewer's comment ✔️</h2>\n",
    "    \n",
    "    \n",
    "Seems like most people usually have no more than 10 orders. \n",
    "    \n",
    "</div>"
   ]
  },
  {
   "cell_type": "markdown",
   "id": "54a0319c",
   "metadata": {},
   "source": [
    "### [B3] What are the top 20 popular products (display their id and name)?"
   ]
  },
  {
   "cell_type": "code",
   "execution_count": 44,
   "id": "exterior-arizona",
   "metadata": {
    "scrolled": true
   },
   "outputs": [
    {
     "name": "stdout",
     "output_type": "stream",
     "text": [
      "    product_id              product_name\n",
      "0        24852                    banana\n",
      "1        13176    bag of organic bananas\n",
      "2        21137      organic strawberries\n",
      "3        21903      organic baby spinach\n",
      "4        47209      organic hass avocado\n",
      "5        47766           organic avocado\n",
      "6        47626               large lemon\n",
      "7        16797              strawberries\n",
      "8        26209                     limes\n",
      "9        27845        organic whole milk\n",
      "10       27966       organic raspberries\n",
      "11       22935      organic yellow onion\n",
      "12       24964            organic garlic\n",
      "13       45007          organic zucchini\n",
      "14       39275       organic blueberries\n",
      "15       49683            cucumber kirby\n",
      "16       28204        organic fuji apple\n",
      "17        5876             organic lemon\n",
      "18        8277  apple honeycrisp organic\n",
      "19       40706    organic grape tomatoes\n"
     ]
    }
   ],
   "source": [
    "# Count the occurrences of each product_id in the order_products DataFrame\n",
    "product_counts = df_order_products['product_id'].value_counts().head(20)\n",
    "\n",
    "# Merge the top 20 product counts with the products DataFrame to get product names\n",
    "top_products = pd.DataFrame(product_counts).reset_index()\n",
    "top_products.columns = ['product_id', 'count']\n",
    "\n",
    "# Merge with the products DataFrame to get product names\n",
    "top_products = top_products.merge(df_products[['product_id', 'product_name']], on='product_id')\n",
    "\n",
    "# Display top 20 popular products (id and name)\n",
    "print(top_products[['product_id', 'product_name']])"
   ]
  },
  {
   "cell_type": "markdown",
   "id": "bb243f72",
   "metadata": {},
   "source": [
    "<div class=\"alert alert-info\">\n",
    "<h2> Student's comment </h2>\n",
    "\n",
    "Based on the results, all of the top 20 popular products are produce whether that is fruit or vegetable. Most people also prefer organic products as 12 out of 20 of the popular products are organic produce.\n",
    "</div>"
   ]
  },
  {
   "cell_type": "markdown",
   "id": "63664d34",
   "metadata": {},
   "source": [
    "<div class=\"alert alert-success\" style=\"border-radius: 15px; box-shadow: 4px 4px 4px; border: 1px solid \">\n",
    "<h2> Reviewer's comment ✔️</h2>\n",
    "    \n",
    "    \n",
    "Correct! \n",
    "\n",
    "</div>\n",
    "<div class=\"alert alert-danger\" style=\"border-radius: 15px; box-shadow: 4px 4px 4px; border: 1px solid \">\n",
    "<b> Reviewer's comment ❌</b>\n",
    "    \n",
    "\n",
    "What can we say about these products? What do people usually prefer? \n",
    "</div>\n",
    "<div class=\"alert alert-success\" style=\"border-radius: 15px; box-shadow: 4px 4px 4px; border: 1px solid \">\n",
    "<h2> Reviewer's comment 2 ✔️</h2>\n",
    "    \n",
    "Correct. \n",
    "\n",
    "</div>"
   ]
  },
  {
   "cell_type": "markdown",
   "id": "gross-theme",
   "metadata": {},
   "source": [
    "# [C] Hard (must complete at least two to pass)"
   ]
  },
  {
   "cell_type": "markdown",
   "id": "romantic-deposit",
   "metadata": {},
   "source": [
    "### [C1] How many items do people typically buy in one order? What does the distribution look like?"
   ]
  },
  {
   "cell_type": "code",
   "execution_count": 45,
   "id": "virtual-punch",
   "metadata": {},
   "outputs": [
    {
     "data": {
      "image/png": "[encoded data removed]",
      "text/plain": [
       "<Figure size 1000x600 with 1 Axes>"
      ]
     },
     "metadata": {},
     "output_type": "display_data"
    },
    {
     "name": "stdout",
     "output_type": "stream",
     "text": [
      "count    450046.000000\n",
      "mean         10.098983\n",
      "std           7.540206\n",
      "min           1.000000\n",
      "25%           5.000000\n",
      "50%           8.000000\n",
      "75%          14.000000\n",
      "max         127.000000\n",
      "dtype: float64\n"
     ]
    }
   ],
   "source": [
    "# Count the number of items in each order\n",
    "items_per_order = df_order_products.groupby('order_id').size()\n",
    "\n",
    "# Plot the distribution of the number of items per order\n",
    "plt.figure(figsize=(10, 6))\n",
    "plt.hist(items_per_order, bins=30, color='lightgreen', edgecolor='black', alpha=0.7)\n",
    "plt.title('Distribution of Number of Items per Order')\n",
    "plt.xlabel('Number of Items')\n",
    "plt.ylabel('Number of Orders')\n",
    "plt.grid(axis='y', linestyle='--')\n",
    "\n",
    "# Show the plot\n",
    "plt.show()\n",
    "\n",
    "# Statistical description of the distribution\n",
    "print(items_per_order.describe())"
   ]
  },
  {
   "cell_type": "markdown",
   "id": "fd2fbc80",
   "metadata": {},
   "source": [
    "<div class=\"alert alert-info\">\n",
    "<h2> Student's comment </h2>\n",
    "\n",
    "Based on the distribution of the graph, most of the orders have 8 items or less.\n",
    "</div>"
   ]
  },
  {
   "cell_type": "markdown",
   "id": "29171e2e",
   "metadata": {},
   "source": [
    "<div class=\"alert alert-success\" style=\"border-radius: 15px; box-shadow: 4px 4px 4px; border: 1px solid \">\n",
    "<h2> Reviewer's comment ✔️</h2>\n",
    "    \n",
    "\n",
    "I agree with the conclusion: a typical order has approximately 5-8 items.\n",
    "\n",
    "</div>"
   ]
  },
  {
   "cell_type": "markdown",
   "id": "5e6b5537",
   "metadata": {},
   "source": [
    "### [C2] What are the top 20 items that are reordered most frequently (display their names and product IDs)?"
   ]
  },
  {
   "cell_type": "code",
   "execution_count": 46,
   "id": "9374e55a",
   "metadata": {},
   "outputs": [
    {
     "name": "stdout",
     "output_type": "stream",
     "text": [
      "    product_id              product_name  reordered\n",
      "0        24852                    banana      55763\n",
      "1        13176    bag of organic bananas      44450\n",
      "2        21137      organic strawberries      28639\n",
      "3        21903      organic baby spinach      26233\n",
      "4        47209      organic hass avocado      23629\n",
      "5        47766           organic avocado      18743\n",
      "6        27845        organic whole milk      16251\n",
      "7        47626               large lemon      15044\n",
      "8        27966       organic raspberries      14748\n",
      "9        16797              strawberries      13945\n",
      "10       26209                     limes      13327\n",
      "11       22935      organic yellow onion      11145\n",
      "12       24964            organic garlic      10411\n",
      "13       45007          organic zucchini      10076\n",
      "14       49683            cucumber kirby       9538\n",
      "15       28204        organic fuji apple       8989\n",
      "16        8277  apple honeycrisp organic       8836\n",
      "17       39275       organic blueberries       8799\n",
      "18        5876             organic lemon       8412\n",
      "19       49235       organic half & half       8389\n"
     ]
    }
   ],
   "source": [
    "# Group by 'product_id' and sum the 'reordered' column to get total reorders for each product\n",
    "product_reorders = df_order_products.groupby('product_id')['reordered'].sum().reset_index()\n",
    "\n",
    "# Sort by 'reordered' count in descending order\n",
    "product_reorders = product_reorders.sort_values(by='reordered', ascending=False)\n",
    "\n",
    "# Select the top 20 most reordered products\n",
    "top_20_reordered = product_reorders.head(20)\n",
    "\n",
    "# Merge with the 'products' DataFrame to get the product names\n",
    "top_20_reordered = pd.merge(top_20_reordered, df_products[['product_id', 'product_name']], on='product_id')\n",
    "\n",
    "# Display the top 20 reordered products with their product names and IDs\n",
    "print(top_20_reordered[['product_id', 'product_name', 'reordered']])"
   ]
  },
  {
   "cell_type": "markdown",
   "id": "c8d8907e",
   "metadata": {
    "scrolled": true
   },
   "source": [
    "<div class=\"alert alert-info\">\n",
    "<h2> Student's comment </h2>\n",
    "\n",
    "Based on the resulting table, the most reordered items are produce which makes sense as most of these items also showed up in the 20 most popular items in the previous cell.\n",
    "</div>"
   ]
  },
  {
   "cell_type": "markdown",
   "id": "9f63e21b",
   "metadata": {},
   "source": [
    "<div class=\"alert alert-danger\" style=\"border-radius: 15px; box-shadow: 4px 4px 4px; border: 1px solid \">\n",
    "<b> Reviewer's comment ❌</b>\n",
    "    \n",
    "Would you add a conclusion?\n",
    "\n",
    "</div>\n",
    "<div class=\"alert alert-success\" style=\"border-radius: 15px; box-shadow: 4px 4px 4px; border: 1px solid \">\n",
    "<h2> Reviewer's comment 2 ✔️</h2>\n",
    "    \n",
    "Good. </div>"
   ]
  },
  {
   "cell_type": "code",
   "execution_count": null,
   "id": "professional-surfing",
   "metadata": {
    "scrolled": true
   },
   "outputs": [],
   "source": []
  },
  {
   "cell_type": "code",
   "execution_count": null,
   "id": "48dd3658",
   "metadata": {},
   "outputs": [],
   "source": []
  },
  {
   "cell_type": "markdown",
   "id": "9d312b14",
   "metadata": {},
   "source": [
    "### [C3] For each product, what proportion of its orders are reorders?"
   ]
  },
  {
   "cell_type": "code",
   "execution_count": null,
   "id": "8ae9f4b1",
   "metadata": {},
   "outputs": [],
   "source": []
  },
  {
   "cell_type": "code",
   "execution_count": null,
   "id": "103e7fe1",
   "metadata": {},
   "outputs": [],
   "source": []
  },
  {
   "cell_type": "code",
   "execution_count": null,
   "id": "social-individual",
   "metadata": {},
   "outputs": [],
   "source": []
  },
  {
   "cell_type": "markdown",
   "id": "subject-boxing",
   "metadata": {},
   "source": [
    "### [C4] For each customer, what proportion of their products ordered are reorders?"
   ]
  },
  {
   "cell_type": "code",
   "execution_count": 47,
   "id": "medical-couple",
   "metadata": {
    "scrolled": false
   },
   "outputs": [
    {
     "data": {
      "text/html": [
       "<div>\n",
       "<style scoped>\n",
       "    .dataframe tbody tr th:only-of-type {\n",
       "        vertical-align: middle;\n",
       "    }\n",
       "\n",
       "    .dataframe tbody tr th {\n",
       "        vertical-align: top;\n",
       "    }\n",
       "\n",
       "    .dataframe thead th {\n",
       "        text-align: right;\n",
       "    }\n",
       "</style>\n",
       "<table border=\"1\" class=\"dataframe\">\n",
       "  <thead>\n",
       "    <tr style=\"text-align: right;\">\n",
       "      <th></th>\n",
       "      <th>total_products</th>\n",
       "      <th>total_reorders</th>\n",
       "      <th>reorder_proportion</th>\n",
       "    </tr>\n",
       "    <tr>\n",
       "      <th>user_id</th>\n",
       "      <th></th>\n",
       "      <th></th>\n",
       "      <th></th>\n",
       "    </tr>\n",
       "  </thead>\n",
       "  <tbody>\n",
       "    <tr>\n",
       "      <th>2</th>\n",
       "      <td>26</td>\n",
       "      <td>1</td>\n",
       "      <td>0.038462</td>\n",
       "    </tr>\n",
       "    <tr>\n",
       "      <th>4</th>\n",
       "      <td>2</td>\n",
       "      <td>0</td>\n",
       "      <td>0.000000</td>\n",
       "    </tr>\n",
       "    <tr>\n",
       "      <th>5</th>\n",
       "      <td>12</td>\n",
       "      <td>8</td>\n",
       "      <td>0.666667</td>\n",
       "    </tr>\n",
       "    <tr>\n",
       "      <th>6</th>\n",
       "      <td>4</td>\n",
       "      <td>0</td>\n",
       "      <td>0.000000</td>\n",
       "    </tr>\n",
       "    <tr>\n",
       "      <th>7</th>\n",
       "      <td>14</td>\n",
       "      <td>13</td>\n",
       "      <td>0.928571</td>\n",
       "    </tr>\n",
       "  </tbody>\n",
       "</table>\n",
       "</div>"
      ],
      "text/plain": [
       "         total_products  total_reorders  reorder_proportion\n",
       "user_id                                                    \n",
       "2                    26               1            0.038462\n",
       "4                     2               0            0.000000\n",
       "5                    12               8            0.666667\n",
       "6                     4               0            0.000000\n",
       "7                    14              13            0.928571"
      ]
     },
     "metadata": {},
     "output_type": "display_data"
    }
   ],
   "source": [
    "# Merge the order_products DataFrame with the orders DataFrame to connect orders with customers\n",
    "df_merged = pd.merge(df_order_products, df_orders[['order_id', 'user_id']], on='order_id')\n",
    "\n",
    "# Group by 'user_id' to calculate total orders and total reorders for each customer\n",
    "customer_reorders = df_merged.groupby('user_id').agg(\n",
    "    total_products=('reordered', 'size'),        # Total number of products ordered\n",
    "    total_reorders=('reordered', 'sum')          # Total number of reorders\n",
    ")\n",
    "\n",
    "# Calculate the proportion of reorders for each customer\n",
    "customer_reorders['reorder_proportion'] = customer_reorders['total_reorders'] / customer_reorders['total_products']\n",
    "\n",
    "# Display the result\n",
    "display(customer_reorders[['total_products', 'total_reorders', 'reorder_proportion']].head())"
   ]
  },
  {
   "cell_type": "markdown",
   "id": "2ad269ae",
   "metadata": {},
   "source": [
    "<div class=\"alert alert-info\">\n",
    "<h2> Student's comment </h2>\n",
    "\n",
    "Based on the results, there are a huge variety of reorder proportion with some customers such as user id 5 with a 66% reorder proportion and user id 4 with a 0% reorder proportion.\n",
    "</div>"
   ]
  },
  {
   "cell_type": "markdown",
   "id": "15ab78d1",
   "metadata": {},
   "source": [
    "<div class=\"alert alert-success\" style=\"border-radius: 15px; box-shadow: 4px 4px 4px; border: 1px solid \">\n",
    "<h2> Reviewer's comment ✔️</h2>\n",
    "    \n",
    "\n",
    "Correct.    \n",
    "</div>"
   ]
  },
  {
   "cell_type": "markdown",
   "id": "92d35137",
   "metadata": {},
   "source": [
    "### [C5] What are the top 20 items that people put in their carts first? "
   ]
  },
  {
   "cell_type": "code",
   "execution_count": null,
   "id": "0ae57274",
   "metadata": {
    "scrolled": true
   },
   "outputs": [],
   "source": []
  },
  {
   "cell_type": "code",
   "execution_count": null,
   "id": "forty-netherlands",
   "metadata": {
    "scrolled": true
   },
   "outputs": [],
   "source": []
  },
  {
   "cell_type": "code",
   "execution_count": null,
   "id": "08e41ec2",
   "metadata": {},
   "outputs": [],
   "source": []
  },
  {
   "cell_type": "markdown",
   "id": "28ce9872",
   "metadata": {},
   "source": [
    "<div class=\"alert alert-danger\" style=\"border-radius: 15px; box-shadow: 4px 4px 4px; border: 1px solid \">\n",
    "<b> Reviewer's comment  ❌</b>\n",
    "    \n",
    "Please don't forget to add the overall conclusion to your project: what has been done and what can be inferred from the results (average order size, something about time and so on). \n",
    "\n",
    "</div>"
   ]
  },
  {
   "cell_type": "markdown",
   "id": "8f94a6b6",
   "metadata": {},
   "source": [
    "<div class=\"alert alert-info\">\n",
    "<h2> Conclusion </h2>\n",
    "\n",
    "Based on the analysis, we can now answer all the questions posed in the introduction.\n",
    "    \n",
    "    1. Yes, the values for 'order_hour_of_day' and 'order_dow' in 'df_orders' are sensible as the   values fall between 0 to 23 and 0 to 6, respectively.\n",
    "    \n",
    "    2. The distribution of the data shows that most people shop for groceries at 9:00 AM\n",
    "    \n",
    "    3. Most people shop on Sunday followed closely by Monday with both of these days receiving over 80,000 orders.\n",
    "    \n",
    "    4. Customers typically order once a month so most people are waiting close to 30 days before    placing another order.\n",
    "    \n",
    "    5. There are minor differences between the distribution for Wednesday and Sunday: the peak hour of day that received the most orders for Wednesday are at 4:00 PM, for Sunday, the peak hour of day that received the most orders are at 3:00 PM, Wednesday at 9:00 AM has around 5000 orders meanwhile, on Sunday at 9:00 AM there are only about 4300 orders.\n",
    "    \n",
    "    6. Most customers are placing less than 10 orders with most customers placing less than 6.\n",
    "    \n",
    "    7. The 20 most popular products consist of different produce such as fruits or vegetables, with most of them being organic.\n",
    "    \n",
    "    8. People are typically buying 8 items or less.\n",
    "    \n",
    "    9. The 20 most reordered products were mostly the same items that were in the most popular products.\n",
    "    \n",
    "    10. There is a large variety between customers and their reordered proportion with some having over 50% reorder rate while others have 0%.\n",
    "    \n",
    " These findings are extremely important as they have huge implications for customer behavior that Instacart can utilize in order to better their service, which in turn can increase their revenue and profit.\n",
    "</div>"
   ]
  },
  {
   "cell_type": "markdown",
   "id": "7f7b144b",
   "metadata": {},
   "source": [
    "<div class=\"alert alert-success\" style=\"border-radius: 15px; box-shadow: 4px 4px 4px; border: 1px solid \">\n",
    "<h2> Reviewer's comment 2 ✔️</h2>\n",
    "    \n",
    "\n",
    "Excellent job, thank you so much!     \n",
    "</div>"
   ]
  }
 ],
 "metadata": {
  "ExecuteTimeLog": [
   {
    "duration": 335,
    "start_time": "2024-09-28T22:12:08.704Z"
   },
   {
    "duration": 2363,
    "start_time": "2024-09-28T22:17:15.064Z"
   },
   {
    "duration": 2343,
    "start_time": "2024-09-28T22:25:12.702Z"
   },
   {
    "duration": 2286,
    "start_time": "2024-09-28T22:25:48.187Z"
   },
   {
    "duration": 2278,
    "start_time": "2024-09-28T22:29:02.162Z"
   },
   {
    "duration": 925,
    "start_time": "2024-09-28T22:29:37.169Z"
   },
   {
    "duration": 855,
    "start_time": "2024-09-28T22:33:47.273Z"
   },
   {
    "duration": 827,
    "start_time": "2024-09-28T22:34:05.586Z"
   },
   {
    "duration": 809,
    "start_time": "2024-09-28T22:35:37.136Z"
   },
   {
    "duration": 4,
    "start_time": "2024-09-28T22:41:39.192Z"
   },
   {
    "duration": 24,
    "start_time": "2024-09-28T22:43:05.637Z"
   },
   {
    "duration": 3,
    "start_time": "2024-09-28T22:53:44.263Z"
   },
   {
    "duration": 2,
    "start_time": "2024-09-28T22:53:52.224Z"
   },
   {
    "duration": 5,
    "start_time": "2024-09-28T22:54:01.673Z"
   },
   {
    "duration": 3,
    "start_time": "2024-09-28T22:54:23.183Z"
   },
   {
    "duration": 4,
    "start_time": "2024-09-28T22:55:02.119Z"
   },
   {
    "duration": 3,
    "start_time": "2024-09-28T22:55:15.452Z"
   },
   {
    "duration": 176,
    "start_time": "2024-09-28T22:55:22.532Z"
   },
   {
    "duration": 7,
    "start_time": "2024-09-28T22:55:44.893Z"
   },
   {
    "duration": 3,
    "start_time": "2024-09-28T22:55:52.216Z"
   },
   {
    "duration": 5,
    "start_time": "2024-09-28T22:56:05.412Z"
   },
   {
    "duration": 6,
    "start_time": "2024-09-28T22:56:09.788Z"
   },
   {
    "duration": 13,
    "start_time": "2024-09-28T22:56:28.489Z"
   },
   {
    "duration": 5,
    "start_time": "2024-09-28T22:56:41.410Z"
   },
   {
    "duration": 3,
    "start_time": "2024-09-28T22:59:55.741Z"
   },
   {
    "duration": 4,
    "start_time": "2024-09-28T23:00:03.890Z"
   },
   {
    "duration": 3,
    "start_time": "2024-09-28T23:02:04.882Z"
   },
   {
    "duration": 12,
    "start_time": "2024-09-28T23:02:51.890Z"
   },
   {
    "duration": 4,
    "start_time": "2024-09-28T23:06:44.053Z"
   },
   {
    "duration": 81,
    "start_time": "2024-09-28T23:06:49.183Z"
   },
   {
    "duration": 4,
    "start_time": "2024-09-28T23:06:51.244Z"
   },
   {
    "duration": 80,
    "start_time": "2024-09-28T23:06:59.526Z"
   },
   {
    "duration": 4,
    "start_time": "2024-09-28T23:07:13.235Z"
   },
   {
    "duration": 5,
    "start_time": "2024-09-28T23:07:17.230Z"
   },
   {
    "duration": 75,
    "start_time": "2024-09-28T23:07:19.926Z"
   },
   {
    "duration": 73,
    "start_time": "2024-09-28T23:07:23.344Z"
   },
   {
    "duration": 5,
    "start_time": "2024-09-28T23:07:29.326Z"
   },
   {
    "duration": 4,
    "start_time": "2024-09-28T23:07:35.165Z"
   },
   {
    "duration": 39,
    "start_time": "2024-09-28T23:07:37.769Z"
   },
   {
    "duration": 4,
    "start_time": "2024-09-28T23:07:52.238Z"
   },
   {
    "duration": 4,
    "start_time": "2024-09-28T23:08:19.979Z"
   },
   {
    "duration": 3,
    "start_time": "2024-09-28T23:08:30.637Z"
   },
   {
    "duration": 6,
    "start_time": "2024-09-28T23:09:33.029Z"
   },
   {
    "duration": 5,
    "start_time": "2024-09-28T23:09:39.048Z"
   },
   {
    "duration": 3,
    "start_time": "2024-09-28T23:09:53.758Z"
   },
   {
    "duration": 4,
    "start_time": "2024-09-28T23:13:15.671Z"
   },
   {
    "duration": 3,
    "start_time": "2024-09-28T23:13:45.012Z"
   },
   {
    "duration": 162,
    "start_time": "2024-09-28T23:14:15.095Z"
   },
   {
    "duration": 307,
    "start_time": "2024-09-28T23:14:34.421Z"
   },
   {
    "duration": 2202,
    "start_time": "2024-09-28T23:14:38.390Z"
   },
   {
    "duration": 901,
    "start_time": "2024-09-28T23:14:44.531Z"
   },
   {
    "duration": 13,
    "start_time": "2024-09-28T23:14:53.599Z"
   },
   {
    "duration": 24,
    "start_time": "2024-09-28T23:14:59.810Z"
   },
   {
    "duration": 549,
    "start_time": "2024-09-28T23:15:02.301Z"
   },
   {
    "duration": 278,
    "start_time": "2024-09-28T23:17:08.864Z"
   },
   {
    "duration": 2168,
    "start_time": "2024-09-28T23:17:09.144Z"
   },
   {
    "duration": 908,
    "start_time": "2024-09-28T23:17:11.314Z"
   },
   {
    "duration": 12,
    "start_time": "2024-09-28T23:17:12.224Z"
   },
   {
    "duration": 25,
    "start_time": "2024-09-28T23:17:12.238Z"
   },
   {
    "duration": 558,
    "start_time": "2024-09-28T23:17:12.264Z"
   },
   {
    "duration": 0,
    "start_time": "2024-09-28T23:17:12.824Z"
   },
   {
    "duration": 0,
    "start_time": "2024-09-28T23:17:12.825Z"
   },
   {
    "duration": 0,
    "start_time": "2024-09-28T23:17:12.826Z"
   },
   {
    "duration": 0,
    "start_time": "2024-09-28T23:17:12.827Z"
   },
   {
    "duration": 0,
    "start_time": "2024-09-28T23:17:12.828Z"
   },
   {
    "duration": 0,
    "start_time": "2024-09-28T23:17:12.829Z"
   },
   {
    "duration": 0,
    "start_time": "2024-09-28T23:17:12.830Z"
   },
   {
    "duration": 0,
    "start_time": "2024-09-28T23:17:12.831Z"
   },
   {
    "duration": 0,
    "start_time": "2024-09-28T23:17:12.832Z"
   },
   {
    "duration": 0,
    "start_time": "2024-09-28T23:17:12.833Z"
   },
   {
    "duration": 0,
    "start_time": "2024-09-28T23:17:12.835Z"
   },
   {
    "duration": 0,
    "start_time": "2024-09-28T23:17:12.836Z"
   },
   {
    "duration": 0,
    "start_time": "2024-09-28T23:17:12.837Z"
   },
   {
    "duration": 0,
    "start_time": "2024-09-28T23:17:12.838Z"
   },
   {
    "duration": 0,
    "start_time": "2024-09-28T23:17:12.839Z"
   },
   {
    "duration": 0,
    "start_time": "2024-09-28T23:17:12.840Z"
   },
   {
    "duration": 0,
    "start_time": "2024-09-28T23:17:12.841Z"
   },
   {
    "duration": 0,
    "start_time": "2024-09-28T23:17:12.842Z"
   },
   {
    "duration": 0,
    "start_time": "2024-09-28T23:17:12.845Z"
   },
   {
    "duration": 0,
    "start_time": "2024-09-28T23:17:12.846Z"
   },
   {
    "duration": 307,
    "start_time": "2024-09-28T23:20:28.220Z"
   },
   {
    "duration": 2173,
    "start_time": "2024-09-28T23:20:34.619Z"
   },
   {
    "duration": 914,
    "start_time": "2024-09-28T23:20:47.459Z"
   },
   {
    "duration": 12,
    "start_time": "2024-09-28T23:20:52.763Z"
   },
   {
    "duration": 24,
    "start_time": "2024-09-28T23:21:30.713Z"
   },
   {
    "duration": 544,
    "start_time": "2024-09-28T23:21:48.884Z"
   },
   {
    "duration": 5,
    "start_time": "2024-09-28T23:22:02.807Z"
   },
   {
    "duration": 38,
    "start_time": "2024-09-28T23:22:35.817Z"
   },
   {
    "duration": 5,
    "start_time": "2024-09-28T23:22:56.984Z"
   },
   {
    "duration": 316,
    "start_time": "2024-09-28T23:27:18.792Z"
   },
   {
    "duration": 2238,
    "start_time": "2024-09-28T23:27:44.158Z"
   },
   {
    "duration": 3,
    "start_time": "2024-09-28T23:28:49.456Z"
   },
   {
    "duration": 280,
    "start_time": "2024-09-28T23:28:56.051Z"
   },
   {
    "duration": 2181,
    "start_time": "2024-09-28T23:28:59.765Z"
   },
   {
    "duration": 916,
    "start_time": "2024-09-28T23:30:27.849Z"
   },
   {
    "duration": 12,
    "start_time": "2024-09-28T23:30:54.147Z"
   },
   {
    "duration": 11,
    "start_time": "2024-09-28T23:31:16.629Z"
   },
   {
    "duration": 12,
    "start_time": "2024-09-28T23:31:43.652Z"
   },
   {
    "duration": 316,
    "start_time": "2024-09-28T23:31:56.719Z"
   },
   {
    "duration": 2179,
    "start_time": "2024-09-28T23:31:58.783Z"
   },
   {
    "duration": 918,
    "start_time": "2024-09-28T23:32:01.140Z"
   },
   {
    "duration": 13,
    "start_time": "2024-09-28T23:32:11.251Z"
   },
   {
    "duration": 24,
    "start_time": "2024-09-28T23:32:33.948Z"
   },
   {
    "duration": 173,
    "start_time": "2024-09-28T23:36:19.280Z"
   },
   {
    "duration": 379,
    "start_time": "2024-09-28T23:36:28.364Z"
   },
   {
    "duration": 17,
    "start_time": "2024-09-28T23:36:38.936Z"
   },
   {
    "duration": 7,
    "start_time": "2024-09-28T23:36:57.970Z"
   },
   {
    "duration": 26,
    "start_time": "2024-09-28T23:38:08.860Z"
   },
   {
    "duration": 295,
    "start_time": "2024-09-28T23:38:22.540Z"
   },
   {
    "duration": 2176,
    "start_time": "2024-09-28T23:38:24.888Z"
   },
   {
    "duration": 894,
    "start_time": "2024-09-28T23:38:30.303Z"
   },
   {
    "duration": 12,
    "start_time": "2024-09-28T23:38:35.243Z"
   },
   {
    "duration": 22,
    "start_time": "2024-09-28T23:38:39.615Z"
   },
   {
    "duration": 27,
    "start_time": "2024-09-28T23:38:44.323Z"
   },
   {
    "duration": 4,
    "start_time": "2024-09-28T23:39:21.186Z"
   },
   {
    "duration": 3,
    "start_time": "2024-09-28T23:40:07.548Z"
   },
   {
    "duration": 4,
    "start_time": "2024-09-28T23:41:15.208Z"
   },
   {
    "duration": 6,
    "start_time": "2024-09-28T23:41:43.388Z"
   },
   {
    "duration": 3,
    "start_time": "2024-09-28T23:48:42.723Z"
   },
   {
    "duration": 317,
    "start_time": "2024-09-28T23:50:18.710Z"
   },
   {
    "duration": 2206,
    "start_time": "2024-09-28T23:50:21.664Z"
   },
   {
    "duration": 916,
    "start_time": "2024-09-28T23:50:23.872Z"
   },
   {
    "duration": 12,
    "start_time": "2024-09-28T23:50:26.782Z"
   },
   {
    "duration": 24,
    "start_time": "2024-09-28T23:50:29.569Z"
   },
   {
    "duration": 26,
    "start_time": "2024-09-28T23:50:32.728Z"
   },
   {
    "duration": 300,
    "start_time": "2024-09-28T23:53:34.328Z"
   },
   {
    "duration": 2191,
    "start_time": "2024-09-28T23:53:36.285Z"
   },
   {
    "duration": 913,
    "start_time": "2024-09-28T23:53:43.576Z"
   },
   {
    "duration": 827,
    "start_time": "2024-09-28T23:54:29.890Z"
   },
   {
    "duration": 321,
    "start_time": "2024-09-28T23:54:36.825Z"
   },
   {
    "duration": 2165,
    "start_time": "2024-09-28T23:54:38.810Z"
   },
   {
    "duration": 919,
    "start_time": "2024-09-28T23:54:43.294Z"
   },
   {
    "duration": 63,
    "start_time": "2024-09-28T23:55:17.274Z"
   },
   {
    "duration": 22,
    "start_time": "2024-09-28T23:55:33.867Z"
   },
   {
    "duration": 26,
    "start_time": "2024-09-28T23:55:37.572Z"
   },
   {
    "duration": 72,
    "start_time": "2024-09-29T00:03:43.821Z"
   },
   {
    "duration": 97,
    "start_time": "2024-09-29T00:04:29.823Z"
   },
   {
    "duration": 10,
    "start_time": "2024-09-29T00:04:43.034Z"
   },
   {
    "duration": 95,
    "start_time": "2024-09-29T00:04:45.173Z"
   },
   {
    "duration": 91,
    "start_time": "2024-09-29T00:04:50.202Z"
   },
   {
    "duration": 25,
    "start_time": "2024-09-29T00:08:22.506Z"
   },
   {
    "duration": 24,
    "start_time": "2024-09-29T00:08:44.165Z"
   },
   {
    "duration": 27,
    "start_time": "2024-09-29T00:09:11.842Z"
   },
   {
    "duration": 328,
    "start_time": "2024-09-29T00:09:35.606Z"
   },
   {
    "duration": 2143,
    "start_time": "2024-09-29T00:09:37.898Z"
   },
   {
    "duration": 934,
    "start_time": "2024-09-29T00:09:42.815Z"
   },
   {
    "duration": 67,
    "start_time": "2024-09-29T00:09:48.623Z"
   },
   {
    "duration": 26,
    "start_time": "2024-09-29T00:09:51.686Z"
   },
   {
    "duration": 26,
    "start_time": "2024-09-29T00:09:54.576Z"
   },
   {
    "duration": 104,
    "start_time": "2024-09-29T00:09:59.513Z"
   },
   {
    "duration": 7,
    "start_time": "2024-09-29T00:10:03.093Z"
   },
   {
    "duration": 134,
    "start_time": "2024-09-29T00:11:35.888Z"
   },
   {
    "duration": 84,
    "start_time": "2024-09-29T00:11:38.268Z"
   },
   {
    "duration": 33,
    "start_time": "2024-09-29T00:11:42.142Z"
   },
   {
    "duration": 323,
    "start_time": "2024-09-29T00:12:24.307Z"
   },
   {
    "duration": 2217,
    "start_time": "2024-09-29T00:12:26.417Z"
   },
   {
    "duration": 903,
    "start_time": "2024-09-29T00:12:28.636Z"
   },
   {
    "duration": 71,
    "start_time": "2024-09-29T00:12:35.887Z"
   },
   {
    "duration": 25,
    "start_time": "2024-09-29T00:12:38.648Z"
   },
   {
    "duration": 26,
    "start_time": "2024-09-29T00:12:41.036Z"
   },
   {
    "duration": 104,
    "start_time": "2024-09-29T00:12:44.765Z"
   },
   {
    "duration": 5,
    "start_time": "2024-09-29T00:12:48.044Z"
   },
   {
    "duration": 133,
    "start_time": "2024-09-29T00:12:51.912Z"
   },
   {
    "duration": 95,
    "start_time": "2024-09-29T00:13:00.919Z"
   },
   {
    "duration": 28,
    "start_time": "2024-09-29T00:13:21.131Z"
   },
   {
    "duration": 84,
    "start_time": "2024-09-29T00:22:35.642Z"
   },
   {
    "duration": 275,
    "start_time": "2024-09-29T00:22:43.861Z"
   },
   {
    "duration": 2215,
    "start_time": "2024-09-29T00:22:47.328Z"
   },
   {
    "duration": 921,
    "start_time": "2024-09-29T00:22:49.758Z"
   },
   {
    "duration": 65,
    "start_time": "2024-09-29T00:22:54.077Z"
   },
   {
    "duration": 25,
    "start_time": "2024-09-29T00:22:56.827Z"
   },
   {
    "duration": 26,
    "start_time": "2024-09-29T00:22:59.402Z"
   },
   {
    "duration": 108,
    "start_time": "2024-09-29T00:23:01.667Z"
   },
   {
    "duration": 6,
    "start_time": "2024-09-29T00:23:04.056Z"
   },
   {
    "duration": 138,
    "start_time": "2024-09-29T00:23:07.141Z"
   },
   {
    "duration": 85,
    "start_time": "2024-09-29T00:23:09.612Z"
   },
   {
    "duration": 85,
    "start_time": "2024-09-29T00:23:12.870Z"
   },
   {
    "duration": 12,
    "start_time": "2024-09-29T03:36:18.266Z"
   },
   {
    "duration": 6,
    "start_time": "2024-09-29T03:43:48.131Z"
   },
   {
    "duration": 27,
    "start_time": "2024-09-29T03:46:59.060Z"
   },
   {
    "duration": 16,
    "start_time": "2024-09-29T03:48:16.025Z"
   },
   {
    "duration": 306,
    "start_time": "2024-09-29T05:38:01.289Z"
   },
   {
    "duration": 2283,
    "start_time": "2024-09-29T05:38:01.597Z"
   },
   {
    "duration": 930,
    "start_time": "2024-09-29T05:38:03.887Z"
   },
   {
    "duration": 75,
    "start_time": "2024-09-29T05:38:04.820Z"
   },
   {
    "duration": 24,
    "start_time": "2024-09-29T05:38:04.897Z"
   },
   {
    "duration": 25,
    "start_time": "2024-09-29T05:38:04.923Z"
   },
   {
    "duration": 120,
    "start_time": "2024-09-29T05:38:04.950Z"
   },
   {
    "duration": 14,
    "start_time": "2024-09-29T05:38:05.073Z"
   },
   {
    "duration": 144,
    "start_time": "2024-09-29T05:38:05.089Z"
   },
   {
    "duration": 97,
    "start_time": "2024-09-29T05:38:05.235Z"
   },
   {
    "duration": 89,
    "start_time": "2024-09-29T05:38:05.334Z"
   },
   {
    "duration": 13,
    "start_time": "2024-09-29T05:38:05.425Z"
   },
   {
    "duration": 4,
    "start_time": "2024-09-29T05:38:05.439Z"
   },
   {
    "duration": 46,
    "start_time": "2024-09-29T05:38:05.445Z"
   },
   {
    "duration": 18,
    "start_time": "2024-09-29T05:39:02.218Z"
   },
   {
    "duration": 16,
    "start_time": "2024-09-29T05:39:44.545Z"
   },
   {
    "duration": 25,
    "start_time": "2024-09-29T05:47:01.234Z"
   },
   {
    "duration": 2,
    "start_time": "2024-09-29T05:47:24.400Z"
   },
   {
    "duration": 2085,
    "start_time": "2024-09-29T05:47:24.407Z"
   },
   {
    "duration": 920,
    "start_time": "2024-09-29T05:47:26.494Z"
   },
   {
    "duration": 54,
    "start_time": "2024-09-29T05:47:27.416Z"
   },
   {
    "duration": 30,
    "start_time": "2024-09-29T05:47:27.471Z"
   },
   {
    "duration": 24,
    "start_time": "2024-09-29T05:47:27.504Z"
   },
   {
    "duration": 109,
    "start_time": "2024-09-29T05:47:27.530Z"
   },
   {
    "duration": 4,
    "start_time": "2024-09-29T05:47:27.641Z"
   },
   {
    "duration": 139,
    "start_time": "2024-09-29T05:47:27.647Z"
   },
   {
    "duration": 73,
    "start_time": "2024-09-29T05:47:27.788Z"
   },
   {
    "duration": 85,
    "start_time": "2024-09-29T05:47:27.863Z"
   },
   {
    "duration": 12,
    "start_time": "2024-09-29T05:47:27.950Z"
   },
   {
    "duration": 23,
    "start_time": "2024-09-29T05:47:27.964Z"
   },
   {
    "duration": 159,
    "start_time": "2024-09-29T05:47:44.280Z"
   },
   {
    "duration": 290,
    "start_time": "2024-09-29T05:47:51.482Z"
   },
   {
    "duration": 2247,
    "start_time": "2024-09-29T05:47:51.774Z"
   },
   {
    "duration": 923,
    "start_time": "2024-09-29T05:47:54.024Z"
   },
   {
    "duration": 74,
    "start_time": "2024-09-29T05:47:54.949Z"
   },
   {
    "duration": 24,
    "start_time": "2024-09-29T05:47:55.026Z"
   },
   {
    "duration": 43,
    "start_time": "2024-09-29T05:47:55.052Z"
   },
   {
    "duration": 106,
    "start_time": "2024-09-29T05:47:55.096Z"
   },
   {
    "duration": 5,
    "start_time": "2024-09-29T05:47:55.204Z"
   },
   {
    "duration": 158,
    "start_time": "2024-09-29T05:47:55.211Z"
   },
   {
    "duration": 99,
    "start_time": "2024-09-29T05:47:55.371Z"
   },
   {
    "duration": 106,
    "start_time": "2024-09-29T05:47:55.471Z"
   },
   {
    "duration": 18,
    "start_time": "2024-09-29T05:47:55.578Z"
   },
   {
    "duration": 4,
    "start_time": "2024-09-29T05:47:55.597Z"
   },
   {
    "duration": 24,
    "start_time": "2024-09-29T05:47:55.604Z"
   },
   {
    "duration": 25,
    "start_time": "2024-09-29T05:48:21.363Z"
   },
   {
    "duration": 302,
    "start_time": "2024-09-29T05:48:32.630Z"
   },
   {
    "duration": 2252,
    "start_time": "2024-09-29T05:48:32.934Z"
   },
   {
    "duration": 917,
    "start_time": "2024-09-29T05:48:35.190Z"
   },
   {
    "duration": 64,
    "start_time": "2024-09-29T05:48:36.109Z"
   },
   {
    "duration": 31,
    "start_time": "2024-09-29T05:48:36.175Z"
   },
   {
    "duration": 25,
    "start_time": "2024-09-29T05:48:36.208Z"
   },
   {
    "duration": 127,
    "start_time": "2024-09-29T05:48:36.235Z"
   },
   {
    "duration": 6,
    "start_time": "2024-09-29T05:48:36.364Z"
   },
   {
    "duration": 163,
    "start_time": "2024-09-29T05:48:36.373Z"
   },
   {
    "duration": 111,
    "start_time": "2024-09-29T05:48:36.539Z"
   },
   {
    "duration": 102,
    "start_time": "2024-09-29T05:48:36.653Z"
   },
   {
    "duration": 12,
    "start_time": "2024-09-29T05:48:36.757Z"
   },
   {
    "duration": 4,
    "start_time": "2024-09-29T05:48:36.770Z"
   },
   {
    "duration": 40,
    "start_time": "2024-09-29T05:48:36.775Z"
   },
   {
    "duration": 15,
    "start_time": "2024-09-29T05:49:56.692Z"
   },
   {
    "duration": 16,
    "start_time": "2024-09-29T05:50:26.383Z"
   },
   {
    "duration": 6,
    "start_time": "2024-09-29T06:00:53.791Z"
   },
   {
    "duration": 4,
    "start_time": "2024-09-29T09:27:11.406Z"
   },
   {
    "duration": 4,
    "start_time": "2024-09-29T09:27:13.941Z"
   },
   {
    "duration": 5,
    "start_time": "2024-09-29T09:43:25.489Z"
   },
   {
    "duration": 4,
    "start_time": "2024-09-29T09:43:30.158Z"
   },
   {
    "duration": 806,
    "start_time": "2024-09-29T09:52:44.067Z"
   },
   {
    "duration": 348,
    "start_time": "2024-10-01T03:51:12.818Z"
   },
   {
    "duration": 2425,
    "start_time": "2024-10-01T03:51:16.573Z"
   },
   {
    "duration": 971,
    "start_time": "2024-10-01T03:51:22.710Z"
   },
   {
    "duration": 66,
    "start_time": "2024-10-01T03:51:27.720Z"
   },
   {
    "duration": 24,
    "start_time": "2024-10-01T03:51:32.248Z"
   },
   {
    "duration": 115,
    "start_time": "2024-10-01T03:51:42.250Z"
   },
   {
    "duration": 6,
    "start_time": "2024-10-01T03:51:44.419Z"
   },
   {
    "duration": 160,
    "start_time": "2024-10-01T03:51:46.648Z"
   },
   {
    "duration": 104,
    "start_time": "2024-10-01T03:51:52.464Z"
   },
   {
    "duration": 100,
    "start_time": "2024-10-01T03:51:55.071Z"
   },
   {
    "duration": 15,
    "start_time": "2024-10-01T03:52:02.327Z"
   },
   {
    "duration": 5,
    "start_time": "2024-10-01T03:52:04.412Z"
   },
   {
    "duration": 24,
    "start_time": "2024-10-01T03:52:06.298Z"
   },
   {
    "duration": 14,
    "start_time": "2024-10-01T03:52:22.079Z"
   },
   {
    "duration": 17,
    "start_time": "2024-10-01T03:52:36.500Z"
   },
   {
    "duration": 4,
    "start_time": "2024-10-01T03:53:19.093Z"
   },
   {
    "duration": 4,
    "start_time": "2024-10-01T03:53:22.295Z"
   },
   {
    "duration": 4,
    "start_time": "2024-10-01T03:53:27.056Z"
   },
   {
    "duration": 4,
    "start_time": "2024-10-01T03:53:29.336Z"
   },
   {
    "duration": 816,
    "start_time": "2024-10-01T03:53:31.325Z"
   },
   {
    "duration": 542,
    "start_time": "2024-10-01T03:53:37.085Z"
   },
   {
    "duration": 181,
    "start_time": "2024-10-01T03:54:30.146Z"
   },
   {
    "duration": 4,
    "start_time": "2024-10-01T04:00:43.630Z"
   },
   {
    "duration": 774,
    "start_time": "2024-10-01T04:04:02.252Z"
   },
   {
    "duration": 275,
    "start_time": "2024-10-01T04:23:17.266Z"
   },
   {
    "duration": 2244,
    "start_time": "2024-10-01T04:23:17.543Z"
   },
   {
    "duration": 929,
    "start_time": "2024-10-01T04:23:19.789Z"
   },
   {
    "duration": 73,
    "start_time": "2024-10-01T04:23:20.720Z"
   },
   {
    "duration": 26,
    "start_time": "2024-10-01T04:23:20.796Z"
   },
   {
    "duration": 127,
    "start_time": "2024-10-01T04:23:20.824Z"
   },
   {
    "duration": 5,
    "start_time": "2024-10-01T04:23:20.953Z"
   },
   {
    "duration": 166,
    "start_time": "2024-10-01T04:23:20.961Z"
   },
   {
    "duration": 100,
    "start_time": "2024-10-01T04:23:21.129Z"
   },
   {
    "duration": 94,
    "start_time": "2024-10-01T04:23:21.231Z"
   },
   {
    "duration": 13,
    "start_time": "2024-10-01T04:23:21.328Z"
   },
   {
    "duration": 4,
    "start_time": "2024-10-01T04:23:21.343Z"
   },
   {
    "duration": 47,
    "start_time": "2024-10-01T04:23:21.349Z"
   },
   {
    "duration": 13,
    "start_time": "2024-10-01T04:23:21.399Z"
   },
   {
    "duration": 15,
    "start_time": "2024-10-01T04:23:21.414Z"
   },
   {
    "duration": 3,
    "start_time": "2024-10-01T04:23:21.431Z"
   },
   {
    "duration": 3,
    "start_time": "2024-10-01T04:23:21.436Z"
   },
   {
    "duration": 4,
    "start_time": "2024-10-01T04:23:21.441Z"
   },
   {
    "duration": 3,
    "start_time": "2024-10-01T04:23:21.447Z"
   },
   {
    "duration": 863,
    "start_time": "2024-10-01T04:23:21.451Z"
   },
   {
    "duration": 189,
    "start_time": "2024-10-01T04:23:22.317Z"
   },
   {
    "duration": 827,
    "start_time": "2024-10-01T04:23:22.508Z"
   },
   {
    "duration": 7,
    "start_time": "2024-10-01T04:24:17.667Z"
   },
   {
    "duration": 6,
    "start_time": "2024-10-01T04:24:34.612Z"
   },
   {
    "duration": 6,
    "start_time": "2024-10-01T04:26:40.323Z"
   },
   {
    "duration": 9,
    "start_time": "2024-10-01T04:28:51.525Z"
   },
   {
    "duration": 300,
    "start_time": "2024-10-01T04:29:18.230Z"
   },
   {
    "duration": 2369,
    "start_time": "2024-10-01T04:29:18.532Z"
   },
   {
    "duration": 944,
    "start_time": "2024-10-01T04:29:20.904Z"
   },
   {
    "duration": 80,
    "start_time": "2024-10-01T04:29:21.853Z"
   },
   {
    "duration": 26,
    "start_time": "2024-10-01T04:29:21.935Z"
   },
   {
    "duration": 147,
    "start_time": "2024-10-01T04:29:21.964Z"
   },
   {
    "duration": 7,
    "start_time": "2024-10-01T04:29:22.113Z"
   },
   {
    "duration": 176,
    "start_time": "2024-10-01T04:29:22.122Z"
   },
   {
    "duration": 115,
    "start_time": "2024-10-01T04:29:22.300Z"
   },
   {
    "duration": 119,
    "start_time": "2024-10-01T04:29:22.419Z"
   },
   {
    "duration": 13,
    "start_time": "2024-10-01T04:29:22.540Z"
   },
   {
    "duration": 5,
    "start_time": "2024-10-01T04:29:22.554Z"
   },
   {
    "duration": 41,
    "start_time": "2024-10-01T04:29:22.561Z"
   },
   {
    "duration": 15,
    "start_time": "2024-10-01T04:29:22.604Z"
   },
   {
    "duration": 16,
    "start_time": "2024-10-01T04:29:22.621Z"
   },
   {
    "duration": 4,
    "start_time": "2024-10-01T04:29:22.639Z"
   },
   {
    "duration": 43,
    "start_time": "2024-10-01T04:29:22.646Z"
   },
   {
    "duration": 4,
    "start_time": "2024-10-01T04:29:22.691Z"
   },
   {
    "duration": 4,
    "start_time": "2024-10-01T04:29:22.696Z"
   },
   {
    "duration": 924,
    "start_time": "2024-10-01T04:29:22.702Z"
   },
   {
    "duration": 229,
    "start_time": "2024-10-01T04:29:23.628Z"
   },
   {
    "duration": 196,
    "start_time": "2024-10-01T04:29:23.859Z"
   },
   {
    "duration": 0,
    "start_time": "2024-10-01T04:29:24.057Z"
   },
   {
    "duration": 0,
    "start_time": "2024-10-01T04:29:24.058Z"
   },
   {
    "duration": 0,
    "start_time": "2024-10-01T04:29:24.059Z"
   },
   {
    "duration": 0,
    "start_time": "2024-10-01T04:29:24.061Z"
   },
   {
    "duration": 343,
    "start_time": "2024-10-01T04:30:07.402Z"
   },
   {
    "duration": 2352,
    "start_time": "2024-10-01T04:30:07.747Z"
   },
   {
    "duration": 935,
    "start_time": "2024-10-01T04:30:10.100Z"
   },
   {
    "duration": 83,
    "start_time": "2024-10-01T04:30:11.036Z"
   },
   {
    "duration": 26,
    "start_time": "2024-10-01T04:30:11.122Z"
   },
   {
    "duration": 122,
    "start_time": "2024-10-01T04:30:11.150Z"
   },
   {
    "duration": 17,
    "start_time": "2024-10-01T04:30:11.274Z"
   },
   {
    "duration": 173,
    "start_time": "2024-10-01T04:30:11.292Z"
   },
   {
    "duration": 111,
    "start_time": "2024-10-01T04:30:11.467Z"
   },
   {
    "duration": 109,
    "start_time": "2024-10-01T04:30:11.586Z"
   },
   {
    "duration": 19,
    "start_time": "2024-10-01T04:30:11.697Z"
   },
   {
    "duration": 5,
    "start_time": "2024-10-01T04:30:11.719Z"
   },
   {
    "duration": 26,
    "start_time": "2024-10-01T04:30:11.726Z"
   },
   {
    "duration": 42,
    "start_time": "2024-10-01T04:30:11.756Z"
   },
   {
    "duration": 14,
    "start_time": "2024-10-01T04:30:11.800Z"
   },
   {
    "duration": 4,
    "start_time": "2024-10-01T04:30:11.816Z"
   },
   {
    "duration": 4,
    "start_time": "2024-10-01T04:30:11.821Z"
   },
   {
    "duration": 4,
    "start_time": "2024-10-01T04:30:11.827Z"
   },
   {
    "duration": 4,
    "start_time": "2024-10-01T04:30:11.833Z"
   },
   {
    "duration": 903,
    "start_time": "2024-10-01T04:30:11.838Z"
   },
   {
    "duration": 228,
    "start_time": "2024-10-01T04:30:12.743Z"
   },
   {
    "duration": 878,
    "start_time": "2024-10-01T04:30:12.973Z"
   },
   {
    "duration": 9,
    "start_time": "2024-10-01T04:30:13.854Z"
   },
   {
    "duration": 23,
    "start_time": "2024-10-01T04:30:13.864Z"
   },
   {
    "duration": 9,
    "start_time": "2024-10-01T04:30:13.889Z"
   },
   {
    "duration": 6,
    "start_time": "2024-10-01T04:30:13.899Z"
   },
   {
    "duration": 7,
    "start_time": "2024-10-01T04:30:30.368Z"
   },
   {
    "duration": 12,
    "start_time": "2024-10-01T04:31:21.710Z"
   },
   {
    "duration": 16,
    "start_time": "2024-10-01T04:31:34.581Z"
   },
   {
    "duration": 33,
    "start_time": "2024-10-01T04:32:41.355Z"
   },
   {
    "duration": 182,
    "start_time": "2024-10-01T04:36:32.720Z"
   },
   {
    "duration": 17,
    "start_time": "2024-10-01T04:38:47.654Z"
   },
   {
    "duration": 21,
    "start_time": "2024-10-01T04:39:39.723Z"
   },
   {
    "duration": 9,
    "start_time": "2024-10-01T04:40:34.042Z"
   },
   {
    "duration": 98,
    "start_time": "2024-10-01T04:41:10.648Z"
   },
   {
    "duration": 50,
    "start_time": "2024-10-01T04:41:29.999Z"
   },
   {
    "duration": 337,
    "start_time": "2024-10-01T04:41:38.999Z"
   },
   {
    "duration": 2404,
    "start_time": "2024-10-01T04:41:39.338Z"
   },
   {
    "duration": 949,
    "start_time": "2024-10-01T04:41:41.744Z"
   },
   {
    "duration": 69,
    "start_time": "2024-10-01T04:41:42.696Z"
   },
   {
    "duration": 38,
    "start_time": "2024-10-01T04:41:42.767Z"
   },
   {
    "duration": 126,
    "start_time": "2024-10-01T04:41:42.808Z"
   },
   {
    "duration": 6,
    "start_time": "2024-10-01T04:41:42.936Z"
   },
   {
    "duration": 165,
    "start_time": "2024-10-01T04:41:42.944Z"
   },
   {
    "duration": 115,
    "start_time": "2024-10-01T04:41:43.110Z"
   },
   {
    "duration": 99,
    "start_time": "2024-10-01T04:41:43.229Z"
   },
   {
    "duration": 12,
    "start_time": "2024-10-01T04:41:43.330Z"
   },
   {
    "duration": 4,
    "start_time": "2024-10-01T04:41:43.344Z"
   },
   {
    "duration": 48,
    "start_time": "2024-10-01T04:41:43.350Z"
   },
   {
    "duration": 14,
    "start_time": "2024-10-01T04:41:43.400Z"
   },
   {
    "duration": 16,
    "start_time": "2024-10-01T04:41:43.416Z"
   },
   {
    "duration": 4,
    "start_time": "2024-10-01T04:41:43.434Z"
   },
   {
    "duration": 4,
    "start_time": "2024-10-01T04:41:43.440Z"
   },
   {
    "duration": 41,
    "start_time": "2024-10-01T04:41:43.446Z"
   },
   {
    "duration": 5,
    "start_time": "2024-10-01T04:41:43.489Z"
   },
   {
    "duration": 880,
    "start_time": "2024-10-01T04:41:43.496Z"
   },
   {
    "duration": 218,
    "start_time": "2024-10-01T04:41:44.387Z"
   },
   {
    "duration": 870,
    "start_time": "2024-10-01T04:41:44.607Z"
   },
   {
    "duration": 9,
    "start_time": "2024-10-01T04:41:45.479Z"
   },
   {
    "duration": 7,
    "start_time": "2024-10-01T04:41:45.490Z"
   },
   {
    "duration": 7,
    "start_time": "2024-10-01T04:41:45.499Z"
   },
   {
    "duration": 5,
    "start_time": "2024-10-01T04:41:45.509Z"
   },
   {
    "duration": 6,
    "start_time": "2024-10-01T04:41:45.516Z"
   },
   {
    "duration": 12,
    "start_time": "2024-10-01T04:41:45.525Z"
   },
   {
    "duration": 17,
    "start_time": "2024-10-01T04:41:45.586Z"
   },
   {
    "duration": 35,
    "start_time": "2024-10-01T04:41:45.605Z"
   },
   {
    "duration": 52,
    "start_time": "2024-10-01T04:41:45.642Z"
   },
   {
    "duration": 8,
    "start_time": "2024-10-01T04:41:45.696Z"
   },
   {
    "duration": 37,
    "start_time": "2024-10-01T04:41:45.707Z"
   },
   {
    "duration": 6,
    "start_time": "2024-10-01T04:44:18.163Z"
   },
   {
    "duration": 2077,
    "start_time": "2024-10-01T04:47:34.003Z"
   },
   {
    "duration": 148,
    "start_time": "2024-10-01T04:50:37.351Z"
   },
   {
    "duration": 245,
    "start_time": "2024-10-01T04:52:25.477Z"
   },
   {
    "duration": 166,
    "start_time": "2024-10-01T23:29:29.679Z"
   },
   {
    "duration": 307,
    "start_time": "2024-10-01T23:29:48.999Z"
   },
   {
    "duration": 2262,
    "start_time": "2024-10-01T23:29:49.308Z"
   },
   {
    "duration": 953,
    "start_time": "2024-10-01T23:29:51.572Z"
   },
   {
    "duration": 65,
    "start_time": "2024-10-01T23:29:52.528Z"
   },
   {
    "duration": 35,
    "start_time": "2024-10-01T23:29:52.595Z"
   },
   {
    "duration": 126,
    "start_time": "2024-10-01T23:29:52.632Z"
   },
   {
    "duration": 7,
    "start_time": "2024-10-01T23:29:52.761Z"
   },
   {
    "duration": 174,
    "start_time": "2024-10-01T23:29:52.770Z"
   },
   {
    "duration": 97,
    "start_time": "2024-10-01T23:29:52.946Z"
   },
   {
    "duration": 126,
    "start_time": "2024-10-01T23:29:53.047Z"
   },
   {
    "duration": 17,
    "start_time": "2024-10-01T23:29:53.174Z"
   },
   {
    "duration": 12,
    "start_time": "2024-10-01T23:29:53.193Z"
   },
   {
    "duration": 23,
    "start_time": "2024-10-01T23:29:53.207Z"
   },
   {
    "duration": 14,
    "start_time": "2024-10-01T23:29:53.232Z"
   },
   {
    "duration": 16,
    "start_time": "2024-10-01T23:29:53.248Z"
   },
   {
    "duration": 3,
    "start_time": "2024-10-01T23:29:53.266Z"
   },
   {
    "duration": 5,
    "start_time": "2024-10-01T23:29:53.271Z"
   },
   {
    "duration": 4,
    "start_time": "2024-10-01T23:29:53.305Z"
   },
   {
    "duration": 3,
    "start_time": "2024-10-01T23:29:53.313Z"
   },
   {
    "duration": 787,
    "start_time": "2024-10-01T23:29:53.320Z"
   },
   {
    "duration": 223,
    "start_time": "2024-10-01T23:29:54.109Z"
   },
   {
    "duration": 810,
    "start_time": "2024-10-01T23:29:54.334Z"
   },
   {
    "duration": 9,
    "start_time": "2024-10-01T23:29:55.146Z"
   },
   {
    "duration": 6,
    "start_time": "2024-10-01T23:29:55.157Z"
   },
   {
    "duration": 6,
    "start_time": "2024-10-01T23:29:55.166Z"
   },
   {
    "duration": 6,
    "start_time": "2024-10-01T23:29:55.174Z"
   },
   {
    "duration": 7,
    "start_time": "2024-10-01T23:29:55.206Z"
   },
   {
    "duration": 15,
    "start_time": "2024-10-01T23:29:55.218Z"
   },
   {
    "duration": 27,
    "start_time": "2024-10-01T23:29:55.235Z"
   },
   {
    "duration": 52,
    "start_time": "2024-10-01T23:29:55.265Z"
   },
   {
    "duration": 22,
    "start_time": "2024-10-01T23:29:55.319Z"
   },
   {
    "duration": 7,
    "start_time": "2024-10-01T23:29:55.342Z"
   },
   {
    "duration": 55,
    "start_time": "2024-10-01T23:29:55.350Z"
   },
   {
    "duration": 7,
    "start_time": "2024-10-01T23:29:55.407Z"
   },
   {
    "duration": 2092,
    "start_time": "2024-10-01T23:29:55.415Z"
   },
   {
    "duration": 157,
    "start_time": "2024-10-01T23:29:57.509Z"
   },
   {
    "duration": 222,
    "start_time": "2024-10-01T23:29:57.668Z"
   },
   {
    "duration": 523,
    "start_time": "2024-10-01T23:30:02.537Z"
   },
   {
    "duration": 431,
    "start_time": "2024-10-01T23:30:19.414Z"
   },
   {
    "duration": 16,
    "start_time": "2024-10-01T23:30:23.005Z"
   },
   {
    "duration": 210,
    "start_time": "2024-10-01T23:31:28.478Z"
   },
   {
    "duration": 92,
    "start_time": "2024-10-01T23:32:46.598Z"
   },
   {
    "duration": 400,
    "start_time": "2024-10-01T23:34:37.719Z"
   },
   {
    "duration": 1048,
    "start_time": "2024-10-01T23:36:31.441Z"
   },
   {
    "duration": 110,
    "start_time": "2024-10-01T23:37:16.495Z"
   },
   {
    "duration": 312,
    "start_time": "2024-10-01T23:40:23.015Z"
   },
   {
    "duration": 2066,
    "start_time": "2024-10-01T23:40:23.329Z"
   },
   {
    "duration": 923,
    "start_time": "2024-10-01T23:40:25.397Z"
   },
   {
    "duration": 65,
    "start_time": "2024-10-01T23:40:26.322Z"
   },
   {
    "duration": 47,
    "start_time": "2024-10-01T23:40:26.390Z"
   },
   {
    "duration": 138,
    "start_time": "2024-10-01T23:40:26.439Z"
   },
   {
    "duration": 6,
    "start_time": "2024-10-01T23:40:26.578Z"
   },
   {
    "duration": 145,
    "start_time": "2024-10-01T23:40:26.586Z"
   },
   {
    "duration": 90,
    "start_time": "2024-10-01T23:40:26.733Z"
   },
   {
    "duration": 117,
    "start_time": "2024-10-01T23:40:26.825Z"
   },
   {
    "duration": 12,
    "start_time": "2024-10-01T23:40:26.944Z"
   },
   {
    "duration": 4,
    "start_time": "2024-10-01T23:40:26.960Z"
   },
   {
    "duration": 20,
    "start_time": "2024-10-01T23:40:26.967Z"
   },
   {
    "duration": 12,
    "start_time": "2024-10-01T23:40:27.006Z"
   },
   {
    "duration": 13,
    "start_time": "2024-10-01T23:40:27.020Z"
   },
   {
    "duration": 4,
    "start_time": "2024-10-01T23:40:27.035Z"
   },
   {
    "duration": 4,
    "start_time": "2024-10-01T23:40:27.040Z"
   },
   {
    "duration": 4,
    "start_time": "2024-10-01T23:40:27.048Z"
   },
   {
    "duration": 4,
    "start_time": "2024-10-01T23:40:27.053Z"
   },
   {
    "duration": 787,
    "start_time": "2024-10-01T23:40:27.059Z"
   },
   {
    "duration": 183,
    "start_time": "2024-10-01T23:40:27.849Z"
   },
   {
    "duration": 745,
    "start_time": "2024-10-01T23:40:28.035Z"
   },
   {
    "duration": 10,
    "start_time": "2024-10-01T23:40:28.782Z"
   },
   {
    "duration": 15,
    "start_time": "2024-10-01T23:40:28.794Z"
   },
   {
    "duration": 7,
    "start_time": "2024-10-01T23:40:28.811Z"
   },
   {
    "duration": 6,
    "start_time": "2024-10-01T23:40:28.819Z"
   },
   {
    "duration": 7,
    "start_time": "2024-10-01T23:40:28.826Z"
   },
   {
    "duration": 14,
    "start_time": "2024-10-01T23:40:28.835Z"
   },
   {
    "duration": 24,
    "start_time": "2024-10-01T23:40:28.851Z"
   },
   {
    "duration": 31,
    "start_time": "2024-10-01T23:40:28.905Z"
   },
   {
    "duration": 20,
    "start_time": "2024-10-01T23:40:28.938Z"
   },
   {
    "duration": 8,
    "start_time": "2024-10-01T23:40:28.960Z"
   },
   {
    "duration": 62,
    "start_time": "2024-10-01T23:40:28.969Z"
   },
   {
    "duration": 8,
    "start_time": "2024-10-01T23:40:29.034Z"
   },
   {
    "duration": 386,
    "start_time": "2024-10-01T23:40:29.044Z"
   },
   {
    "duration": 154,
    "start_time": "2024-10-01T23:40:29.432Z"
   },
   {
    "duration": 206,
    "start_time": "2024-10-01T23:40:29.587Z"
   },
   {
    "duration": 486,
    "start_time": "2024-10-01T23:40:29.795Z"
   },
   {
    "duration": 13,
    "start_time": "2024-10-01T23:40:30.283Z"
   },
   {
    "duration": 221,
    "start_time": "2024-10-01T23:40:30.298Z"
   },
   {
    "duration": 103,
    "start_time": "2024-10-01T23:40:30.524Z"
   },
   {
    "duration": 444,
    "start_time": "2024-10-01T23:40:30.629Z"
   },
   {
    "duration": 193,
    "start_time": "2024-10-01T23:40:31.075Z"
   },
   {
    "duration": 1143,
    "start_time": "2024-10-01T23:40:31.272Z"
   },
   {
    "duration": 293,
    "start_time": "2024-10-01T23:44:49.175Z"
   },
   {
    "duration": 1989,
    "start_time": "2024-10-01T23:44:49.472Z"
   },
   {
    "duration": 937,
    "start_time": "2024-10-01T23:44:51.463Z"
   },
   {
    "duration": 77,
    "start_time": "2024-10-01T23:44:52.404Z"
   },
   {
    "duration": 32,
    "start_time": "2024-10-01T23:44:52.482Z"
   },
   {
    "duration": 129,
    "start_time": "2024-10-01T23:44:52.516Z"
   },
   {
    "duration": 10,
    "start_time": "2024-10-01T23:44:52.647Z"
   },
   {
    "duration": 161,
    "start_time": "2024-10-01T23:44:52.660Z"
   },
   {
    "duration": 85,
    "start_time": "2024-10-01T23:44:52.823Z"
   },
   {
    "duration": 82,
    "start_time": "2024-10-01T23:44:52.911Z"
   },
   {
    "duration": 18,
    "start_time": "2024-10-01T23:44:53.004Z"
   },
   {
    "duration": 4,
    "start_time": "2024-10-01T23:44:53.025Z"
   },
   {
    "duration": 28,
    "start_time": "2024-10-01T23:44:53.031Z"
   },
   {
    "duration": 231,
    "start_time": "2024-10-01T23:44:58.145Z"
   },
   {
    "duration": 303,
    "start_time": "2024-10-01T23:45:43.645Z"
   },
   {
    "duration": 1960,
    "start_time": "2024-10-01T23:45:43.950Z"
   },
   {
    "duration": 906,
    "start_time": "2024-10-01T23:45:45.912Z"
   },
   {
    "duration": 65,
    "start_time": "2024-10-01T23:45:46.821Z"
   },
   {
    "duration": 35,
    "start_time": "2024-10-01T23:45:46.887Z"
   },
   {
    "duration": 98,
    "start_time": "2024-10-01T23:45:46.924Z"
   },
   {
    "duration": 5,
    "start_time": "2024-10-01T23:45:47.024Z"
   },
   {
    "duration": 159,
    "start_time": "2024-10-01T23:45:47.031Z"
   },
   {
    "duration": 101,
    "start_time": "2024-10-01T23:45:47.192Z"
   },
   {
    "duration": 96,
    "start_time": "2024-10-01T23:45:47.297Z"
   },
   {
    "duration": 17,
    "start_time": "2024-10-01T23:45:47.394Z"
   },
   {
    "duration": 4,
    "start_time": "2024-10-01T23:45:47.412Z"
   },
   {
    "duration": 21,
    "start_time": "2024-10-01T23:45:47.418Z"
   },
   {
    "duration": 15,
    "start_time": "2024-10-01T23:45:47.441Z"
   },
   {
    "duration": 17,
    "start_time": "2024-10-01T23:46:15.325Z"
   },
   {
    "duration": 310,
    "start_time": "2024-10-01T23:47:48.542Z"
   },
   {
    "duration": 2037,
    "start_time": "2024-10-01T23:47:48.854Z"
   },
   {
    "duration": 963,
    "start_time": "2024-10-01T23:47:50.893Z"
   },
   {
    "duration": 75,
    "start_time": "2024-10-01T23:47:51.857Z"
   },
   {
    "duration": 23,
    "start_time": "2024-10-01T23:47:51.934Z"
   },
   {
    "duration": 121,
    "start_time": "2024-10-01T23:47:51.959Z"
   },
   {
    "duration": 6,
    "start_time": "2024-10-01T23:47:52.082Z"
   },
   {
    "duration": 177,
    "start_time": "2024-10-01T23:47:52.090Z"
   },
   {
    "duration": 102,
    "start_time": "2024-10-01T23:47:52.269Z"
   },
   {
    "duration": 108,
    "start_time": "2024-10-01T23:47:52.372Z"
   },
   {
    "duration": 12,
    "start_time": "2024-10-01T23:47:52.482Z"
   },
   {
    "duration": 14,
    "start_time": "2024-10-01T23:47:52.495Z"
   },
   {
    "duration": 25,
    "start_time": "2024-10-01T23:47:52.511Z"
   },
   {
    "duration": 14,
    "start_time": "2024-10-01T23:47:52.540Z"
   },
   {
    "duration": 19,
    "start_time": "2024-10-01T23:48:15.326Z"
   },
   {
    "duration": 297,
    "start_time": "2024-10-01T23:53:37.547Z"
   },
   {
    "duration": 1985,
    "start_time": "2024-10-01T23:53:37.846Z"
   },
   {
    "duration": 895,
    "start_time": "2024-10-01T23:53:39.833Z"
   },
   {
    "duration": 75,
    "start_time": "2024-10-01T23:53:40.730Z"
   },
   {
    "duration": 24,
    "start_time": "2024-10-01T23:53:40.808Z"
   },
   {
    "duration": 105,
    "start_time": "2024-10-01T23:53:40.834Z"
   },
   {
    "duration": 5,
    "start_time": "2024-10-01T23:53:40.941Z"
   },
   {
    "duration": 139,
    "start_time": "2024-10-01T23:53:40.948Z"
   },
   {
    "duration": 85,
    "start_time": "2024-10-01T23:53:41.088Z"
   },
   {
    "duration": 103,
    "start_time": "2024-10-01T23:53:41.176Z"
   },
   {
    "duration": 12,
    "start_time": "2024-10-01T23:53:41.281Z"
   },
   {
    "duration": 12,
    "start_time": "2024-10-01T23:53:41.295Z"
   },
   {
    "duration": 21,
    "start_time": "2024-10-01T23:53:41.309Z"
   },
   {
    "duration": 12,
    "start_time": "2024-10-01T23:53:41.333Z"
   },
   {
    "duration": 201,
    "start_time": "2024-10-01T23:53:41.346Z"
   },
   {
    "duration": 7,
    "start_time": "2024-10-01T23:53:57.888Z"
   },
   {
    "duration": 5,
    "start_time": "2024-10-01T23:54:24.561Z"
   },
   {
    "duration": 19,
    "start_time": "2024-10-01T23:54:47.838Z"
   },
   {
    "duration": 6,
    "start_time": "2024-10-01T23:54:58.515Z"
   },
   {
    "duration": 7,
    "start_time": "2024-10-01T23:56:26.957Z"
   },
   {
    "duration": 17,
    "start_time": "2024-10-01T23:57:56.246Z"
   },
   {
    "duration": 306,
    "start_time": "2024-10-01T23:59:47.164Z"
   },
   {
    "duration": 2027,
    "start_time": "2024-10-01T23:59:47.473Z"
   },
   {
    "duration": 944,
    "start_time": "2024-10-01T23:59:49.505Z"
   },
   {
    "duration": 78,
    "start_time": "2024-10-01T23:59:50.452Z"
   },
   {
    "duration": 23,
    "start_time": "2024-10-01T23:59:50.532Z"
   },
   {
    "duration": 140,
    "start_time": "2024-10-01T23:59:50.558Z"
   },
   {
    "duration": 8,
    "start_time": "2024-10-01T23:59:50.700Z"
   },
   {
    "duration": 161,
    "start_time": "2024-10-01T23:59:50.709Z"
   },
   {
    "duration": 100,
    "start_time": "2024-10-01T23:59:50.872Z"
   },
   {
    "duration": 103,
    "start_time": "2024-10-01T23:59:50.974Z"
   },
   {
    "duration": 11,
    "start_time": "2024-10-01T23:59:51.079Z"
   },
   {
    "duration": 14,
    "start_time": "2024-10-01T23:59:51.092Z"
   },
   {
    "duration": 23,
    "start_time": "2024-10-01T23:59:55.167Z"
   },
   {
    "duration": 22,
    "start_time": "2024-10-02T00:00:35.446Z"
   },
   {
    "duration": 17,
    "start_time": "2024-10-02T00:00:48.707Z"
   },
   {
    "duration": 280,
    "start_time": "2024-10-02T00:01:34.070Z"
   },
   {
    "duration": 2065,
    "start_time": "2024-10-02T00:01:34.353Z"
   },
   {
    "duration": 976,
    "start_time": "2024-10-02T00:01:36.420Z"
   },
   {
    "duration": 66,
    "start_time": "2024-10-02T00:01:37.404Z"
   },
   {
    "duration": 41,
    "start_time": "2024-10-02T00:01:37.473Z"
   },
   {
    "duration": 133,
    "start_time": "2024-10-02T00:01:37.516Z"
   },
   {
    "duration": 5,
    "start_time": "2024-10-02T00:01:37.652Z"
   },
   {
    "duration": 181,
    "start_time": "2024-10-02T00:01:37.659Z"
   },
   {
    "duration": 108,
    "start_time": "2024-10-02T00:01:37.842Z"
   },
   {
    "duration": 102,
    "start_time": "2024-10-02T00:01:37.953Z"
   },
   {
    "duration": 15,
    "start_time": "2024-10-02T00:01:38.057Z"
   },
   {
    "duration": 4,
    "start_time": "2024-10-02T00:01:38.074Z"
   },
   {
    "duration": 43,
    "start_time": "2024-10-02T00:01:38.080Z"
   },
   {
    "duration": 12,
    "start_time": "2024-10-02T00:01:43.709Z"
   },
   {
    "duration": 15,
    "start_time": "2024-10-02T00:02:05.706Z"
   },
   {
    "duration": 292,
    "start_time": "2024-10-02T00:20:07.810Z"
   },
   {
    "duration": 2093,
    "start_time": "2024-10-02T00:20:08.104Z"
   },
   {
    "duration": 932,
    "start_time": "2024-10-02T00:20:10.207Z"
   },
   {
    "duration": 75,
    "start_time": "2024-10-02T00:20:11.142Z"
   },
   {
    "duration": 34,
    "start_time": "2024-10-02T00:20:11.219Z"
   },
   {
    "duration": 110,
    "start_time": "2024-10-02T00:20:11.256Z"
   },
   {
    "duration": 5,
    "start_time": "2024-10-02T00:20:11.368Z"
   },
   {
    "duration": 148,
    "start_time": "2024-10-02T00:20:11.375Z"
   },
   {
    "duration": 90,
    "start_time": "2024-10-02T00:20:11.525Z"
   },
   {
    "duration": 95,
    "start_time": "2024-10-02T00:20:11.620Z"
   },
   {
    "duration": 17,
    "start_time": "2024-10-02T00:20:11.717Z"
   },
   {
    "duration": 4,
    "start_time": "2024-10-02T00:20:11.735Z"
   },
   {
    "duration": 27,
    "start_time": "2024-10-02T00:20:11.741Z"
   },
   {
    "duration": 36,
    "start_time": "2024-10-02T00:20:11.770Z"
   },
   {
    "duration": 12,
    "start_time": "2024-10-02T00:20:11.809Z"
   },
   {
    "duration": 3,
    "start_time": "2024-10-02T00:20:11.823Z"
   },
   {
    "duration": 3,
    "start_time": "2024-10-02T00:20:11.829Z"
   },
   {
    "duration": 3,
    "start_time": "2024-10-02T00:20:11.834Z"
   },
   {
    "duration": 3,
    "start_time": "2024-10-02T00:20:11.839Z"
   },
   {
    "duration": 874,
    "start_time": "2024-10-02T00:20:11.844Z"
   },
   {
    "duration": 168,
    "start_time": "2024-10-02T00:20:12.725Z"
   },
   {
    "duration": 841,
    "start_time": "2024-10-02T00:20:12.895Z"
   },
   {
    "duration": 8,
    "start_time": "2024-10-02T00:20:13.739Z"
   },
   {
    "duration": 8,
    "start_time": "2024-10-02T00:20:13.749Z"
   },
   {
    "duration": 6,
    "start_time": "2024-10-02T00:20:13.759Z"
   },
   {
    "duration": 4,
    "start_time": "2024-10-02T00:20:13.767Z"
   },
   {
    "duration": 31,
    "start_time": "2024-10-02T00:20:13.774Z"
   },
   {
    "duration": 11,
    "start_time": "2024-10-02T00:20:13.809Z"
   },
   {
    "duration": 24,
    "start_time": "2024-10-02T00:20:13.823Z"
   },
   {
    "duration": 66,
    "start_time": "2024-10-02T00:20:13.849Z"
   },
   {
    "duration": 21,
    "start_time": "2024-10-02T00:20:13.917Z"
   },
   {
    "duration": 9,
    "start_time": "2024-10-02T00:20:13.940Z"
   },
   {
    "duration": 33,
    "start_time": "2024-10-02T00:20:13.950Z"
   },
   {
    "duration": 24,
    "start_time": "2024-10-02T00:20:13.985Z"
   },
   {
    "duration": 572,
    "start_time": "2024-10-02T00:20:22.169Z"
   },
   {
    "duration": 197,
    "start_time": "2024-10-02T00:21:46.489Z"
   },
   {
    "duration": 314,
    "start_time": "2024-10-02T00:22:56.211Z"
   },
   {
    "duration": 2024,
    "start_time": "2024-10-02T00:22:56.527Z"
   },
   {
    "duration": 925,
    "start_time": "2024-10-02T00:22:58.554Z"
   },
   {
    "duration": 72,
    "start_time": "2024-10-02T00:22:59.481Z"
   },
   {
    "duration": 24,
    "start_time": "2024-10-02T00:22:59.555Z"
   },
   {
    "duration": 112,
    "start_time": "2024-10-02T00:22:59.581Z"
   },
   {
    "duration": 12,
    "start_time": "2024-10-02T00:22:59.695Z"
   },
   {
    "duration": 143,
    "start_time": "2024-10-02T00:22:59.709Z"
   },
   {
    "duration": 89,
    "start_time": "2024-10-02T00:22:59.854Z"
   },
   {
    "duration": 99,
    "start_time": "2024-10-02T00:22:59.947Z"
   },
   {
    "duration": 15,
    "start_time": "2024-10-02T00:23:00.048Z"
   },
   {
    "duration": 4,
    "start_time": "2024-10-02T00:23:00.065Z"
   },
   {
    "duration": 38,
    "start_time": "2024-10-02T00:23:00.070Z"
   },
   {
    "duration": 11,
    "start_time": "2024-10-02T00:23:00.109Z"
   },
   {
    "duration": 12,
    "start_time": "2024-10-02T00:23:00.122Z"
   },
   {
    "duration": 3,
    "start_time": "2024-10-02T00:23:00.137Z"
   },
   {
    "duration": 4,
    "start_time": "2024-10-02T00:23:00.142Z"
   },
   {
    "duration": 4,
    "start_time": "2024-10-02T00:23:00.147Z"
   },
   {
    "duration": 4,
    "start_time": "2024-10-02T00:23:00.152Z"
   },
   {
    "duration": 782,
    "start_time": "2024-10-02T00:23:00.157Z"
   },
   {
    "duration": 222,
    "start_time": "2024-10-02T00:23:00.941Z"
   },
   {
    "duration": 802,
    "start_time": "2024-10-02T00:23:01.165Z"
   },
   {
    "duration": 8,
    "start_time": "2024-10-02T00:23:01.968Z"
   },
   {
    "duration": 5,
    "start_time": "2024-10-02T00:23:01.978Z"
   },
   {
    "duration": 24,
    "start_time": "2024-10-02T00:23:01.985Z"
   },
   {
    "duration": 4,
    "start_time": "2024-10-02T00:23:02.011Z"
   },
   {
    "duration": 6,
    "start_time": "2024-10-02T00:23:02.017Z"
   },
   {
    "duration": 11,
    "start_time": "2024-10-02T00:23:02.027Z"
   },
   {
    "duration": 16,
    "start_time": "2024-10-02T00:23:02.039Z"
   },
   {
    "duration": 63,
    "start_time": "2024-10-02T00:23:02.056Z"
   },
   {
    "duration": 21,
    "start_time": "2024-10-02T00:23:02.122Z"
   },
   {
    "duration": 7,
    "start_time": "2024-10-02T00:23:02.145Z"
   },
   {
    "duration": 59,
    "start_time": "2024-10-02T00:23:02.155Z"
   },
   {
    "duration": 6,
    "start_time": "2024-10-02T00:23:02.217Z"
   },
   {
    "duration": 392,
    "start_time": "2024-10-02T00:23:02.225Z"
   },
   {
    "duration": 159,
    "start_time": "2024-10-02T00:23:02.619Z"
   },
   {
    "duration": 214,
    "start_time": "2024-10-02T00:23:02.779Z"
   },
   {
    "duration": 464,
    "start_time": "2024-10-02T00:23:02.994Z"
   },
   {
    "duration": 9,
    "start_time": "2024-10-02T00:23:03.460Z"
   },
   {
    "duration": 286,
    "start_time": "2024-10-02T00:37:59.008Z"
   },
   {
    "duration": 2078,
    "start_time": "2024-10-02T00:37:59.296Z"
   },
   {
    "duration": 922,
    "start_time": "2024-10-02T00:38:01.376Z"
   },
   {
    "duration": 67,
    "start_time": "2024-10-02T00:38:02.300Z"
   },
   {
    "duration": 38,
    "start_time": "2024-10-02T00:38:02.369Z"
   },
   {
    "duration": 142,
    "start_time": "2024-10-02T00:38:02.409Z"
   },
   {
    "duration": 7,
    "start_time": "2024-10-02T00:38:02.553Z"
   },
   {
    "duration": 151,
    "start_time": "2024-10-02T00:38:02.562Z"
   },
   {
    "duration": 92,
    "start_time": "2024-10-02T00:38:02.715Z"
   },
   {
    "duration": 86,
    "start_time": "2024-10-02T00:38:02.809Z"
   },
   {
    "duration": 23,
    "start_time": "2024-10-02T00:38:02.897Z"
   },
   {
    "duration": 4,
    "start_time": "2024-10-02T00:38:02.922Z"
   },
   {
    "duration": 23,
    "start_time": "2024-10-02T00:38:02.927Z"
   },
   {
    "duration": 14,
    "start_time": "2024-10-02T00:38:02.954Z"
   },
   {
    "duration": 36,
    "start_time": "2024-10-02T00:38:02.970Z"
   },
   {
    "duration": 4,
    "start_time": "2024-10-02T00:38:03.008Z"
   },
   {
    "duration": 4,
    "start_time": "2024-10-02T00:38:03.014Z"
   },
   {
    "duration": 4,
    "start_time": "2024-10-02T00:38:03.020Z"
   },
   {
    "duration": 4,
    "start_time": "2024-10-02T00:38:03.026Z"
   },
   {
    "duration": 851,
    "start_time": "2024-10-02T00:38:03.032Z"
   },
   {
    "duration": 180,
    "start_time": "2024-10-02T00:38:03.885Z"
   },
   {
    "duration": 794,
    "start_time": "2024-10-02T00:38:04.067Z"
   },
   {
    "duration": 9,
    "start_time": "2024-10-02T00:38:04.863Z"
   },
   {
    "duration": 7,
    "start_time": "2024-10-02T00:38:04.875Z"
   },
   {
    "duration": 8,
    "start_time": "2024-10-02T00:38:04.885Z"
   },
   {
    "duration": 4,
    "start_time": "2024-10-02T00:38:04.906Z"
   },
   {
    "duration": 5,
    "start_time": "2024-10-02T00:38:04.912Z"
   },
   {
    "duration": 10,
    "start_time": "2024-10-02T00:38:04.919Z"
   },
   {
    "duration": 16,
    "start_time": "2024-10-02T00:38:04.931Z"
   },
   {
    "duration": 58,
    "start_time": "2024-10-02T00:38:04.949Z"
   },
   {
    "duration": 24,
    "start_time": "2024-10-02T00:38:05.011Z"
   },
   {
    "duration": 7,
    "start_time": "2024-10-02T00:38:05.037Z"
   },
   {
    "duration": 34,
    "start_time": "2024-10-02T00:38:05.046Z"
   },
   {
    "duration": 26,
    "start_time": "2024-10-02T00:38:05.082Z"
   },
   {
    "duration": 414,
    "start_time": "2024-10-02T00:38:05.111Z"
   },
   {
    "duration": 165,
    "start_time": "2024-10-02T00:38:05.527Z"
   },
   {
    "duration": 204,
    "start_time": "2024-10-02T00:38:05.695Z"
   },
   {
    "duration": 480,
    "start_time": "2024-10-02T00:38:05.905Z"
   },
   {
    "duration": 10,
    "start_time": "2024-10-02T00:38:06.387Z"
   },
   {
    "duration": 237,
    "start_time": "2024-10-02T00:38:06.399Z"
   },
   {
    "duration": 102,
    "start_time": "2024-10-02T00:38:06.641Z"
   },
   {
    "duration": 422,
    "start_time": "2024-10-02T00:38:06.746Z"
   },
   {
    "duration": 166,
    "start_time": "2024-10-02T00:38:07.169Z"
   },
   {
    "duration": 1129,
    "start_time": "2024-10-02T00:38:07.337Z"
   },
   {
    "duration": 156,
    "start_time": "2024-10-02T08:51:09.509Z"
   },
   {
    "duration": 350,
    "start_time": "2024-10-02T08:51:12.513Z"
   },
   {
    "duration": 2328,
    "start_time": "2024-10-02T08:51:12.865Z"
   },
   {
    "duration": 951,
    "start_time": "2024-10-02T08:51:15.194Z"
   },
   {
    "duration": 71,
    "start_time": "2024-10-02T08:51:16.147Z"
   },
   {
    "duration": 14,
    "start_time": "2024-10-02T08:51:16.222Z"
   },
   {
    "duration": 38,
    "start_time": "2024-10-02T08:51:16.238Z"
   },
   {
    "duration": 125,
    "start_time": "2024-10-02T08:51:16.278Z"
   },
   {
    "duration": 66,
    "start_time": "2024-10-02T08:51:16.405Z"
   },
   {
    "duration": 149,
    "start_time": "2024-10-02T08:51:16.472Z"
   },
   {
    "duration": 97,
    "start_time": "2024-10-02T08:51:16.623Z"
   },
   {
    "duration": 89,
    "start_time": "2024-10-02T08:51:16.722Z"
   },
   {
    "duration": 94,
    "start_time": "2024-10-02T08:51:16.813Z"
   },
   {
    "duration": 13,
    "start_time": "2024-10-02T08:51:16.908Z"
   },
   {
    "duration": 4,
    "start_time": "2024-10-02T08:51:16.925Z"
   },
   {
    "duration": 41,
    "start_time": "2024-10-02T08:51:16.930Z"
   },
   {
    "duration": 13,
    "start_time": "2024-10-02T08:51:16.973Z"
   },
   {
    "duration": 14,
    "start_time": "2024-10-02T08:51:16.988Z"
   },
   {
    "duration": 3,
    "start_time": "2024-10-02T08:51:17.004Z"
   },
   {
    "duration": 4,
    "start_time": "2024-10-02T08:51:17.009Z"
   },
   {
    "duration": 3,
    "start_time": "2024-10-02T08:51:17.015Z"
   },
   {
    "duration": 3,
    "start_time": "2024-10-02T08:51:17.020Z"
   },
   {
    "duration": 835,
    "start_time": "2024-10-02T08:51:17.025Z"
   },
   {
    "duration": 172,
    "start_time": "2024-10-02T08:51:17.862Z"
   },
   {
    "duration": 762,
    "start_time": "2024-10-02T08:51:18.036Z"
   },
   {
    "duration": 8,
    "start_time": "2024-10-02T08:51:18.799Z"
   },
   {
    "duration": 6,
    "start_time": "2024-10-02T08:51:18.809Z"
   },
   {
    "duration": 6,
    "start_time": "2024-10-02T08:51:18.816Z"
   },
   {
    "duration": 5,
    "start_time": "2024-10-02T08:51:18.824Z"
   },
   {
    "duration": 6,
    "start_time": "2024-10-02T08:51:18.831Z"
   },
   {
    "duration": 42,
    "start_time": "2024-10-02T08:51:18.838Z"
   },
   {
    "duration": 16,
    "start_time": "2024-10-02T08:51:18.881Z"
   },
   {
    "duration": 32,
    "start_time": "2024-10-02T08:51:18.898Z"
   },
   {
    "duration": 50,
    "start_time": "2024-10-02T08:51:18.932Z"
   },
   {
    "duration": 7,
    "start_time": "2024-10-02T08:51:18.983Z"
   },
   {
    "duration": 34,
    "start_time": "2024-10-02T08:51:18.992Z"
   },
   {
    "duration": 7,
    "start_time": "2024-10-02T08:51:19.028Z"
   },
   {
    "duration": 2071,
    "start_time": "2024-10-02T08:51:19.036Z"
   },
   {
    "duration": 155,
    "start_time": "2024-10-02T08:51:21.109Z"
   },
   {
    "duration": 207,
    "start_time": "2024-10-02T08:51:21.266Z"
   },
   {
    "duration": 516,
    "start_time": "2024-10-02T08:51:21.476Z"
   },
   {
    "duration": 11,
    "start_time": "2024-10-02T08:51:21.997Z"
   },
   {
    "duration": 193,
    "start_time": "2024-10-02T08:51:22.009Z"
   },
   {
    "duration": 104,
    "start_time": "2024-10-02T08:51:22.204Z"
   },
   {
    "duration": 424,
    "start_time": "2024-10-02T08:51:22.309Z"
   },
   {
    "duration": 134,
    "start_time": "2024-10-02T08:51:22.734Z"
   },
   {
    "duration": 1044,
    "start_time": "2024-10-02T08:51:22.871Z"
   },
   {
    "duration": 4,
    "start_time": "2024-10-02T08:53:24.384Z"
   },
   {
    "duration": 56,
    "start_time": "2024-10-02T08:58:13.222Z"
   },
   {
    "duration": 5,
    "start_time": "2024-10-02T08:58:17.651Z"
   },
   {
    "duration": 166,
    "start_time": "2024-10-04T19:44:55.984Z"
   },
   {
    "duration": 19,
    "start_time": "2024-10-04T19:45:23.274Z"
   },
   {
    "duration": 329,
    "start_time": "2024-10-04T19:45:36.538Z"
   },
   {
    "duration": 1031,
    "start_time": "2024-10-04T19:45:39.956Z"
   },
   {
    "duration": 71,
    "start_time": "2024-10-04T19:45:50.639Z"
   },
   {
    "duration": 78,
    "start_time": "2024-10-04T19:47:09.369Z"
   },
   {
    "duration": 35,
    "start_time": "2024-10-04T19:48:06.148Z"
   },
   {
    "duration": 28,
    "start_time": "2024-10-04T19:48:16.430Z"
   },
   {
    "duration": 33,
    "start_time": "2024-10-04T19:48:29.827Z"
   },
   {
    "duration": 96,
    "start_time": "2024-10-04T19:49:22.398Z"
   },
   {
    "duration": 79,
    "start_time": "2024-10-04T19:51:42.653Z"
   },
   {
    "duration": 96,
    "start_time": "2024-10-04T19:52:35.693Z"
   },
   {
    "duration": 100,
    "start_time": "2024-10-04T19:53:23.845Z"
   },
   {
    "duration": 76,
    "start_time": "2024-10-04T19:53:57.022Z"
   },
   {
    "duration": 21,
    "start_time": "2024-10-04T19:54:07.264Z"
   },
   {
    "duration": 22,
    "start_time": "2024-10-04T19:54:19.737Z"
   },
   {
    "duration": 22,
    "start_time": "2024-10-04T19:54:26.710Z"
   },
   {
    "duration": 22,
    "start_time": "2024-10-04T19:54:34.305Z"
   },
   {
    "duration": 24,
    "start_time": "2024-10-04T19:54:40.477Z"
   },
   {
    "duration": 24,
    "start_time": "2024-10-04T19:56:09.299Z"
   },
   {
    "duration": 82,
    "start_time": "2024-10-04T19:58:51.462Z"
   },
   {
    "duration": 163,
    "start_time": "2024-10-04T19:59:29.431Z"
   },
   {
    "duration": 69,
    "start_time": "2024-10-04T20:01:52.885Z"
   },
   {
    "duration": 13,
    "start_time": "2024-10-04T20:05:36.690Z"
   },
   {
    "duration": 5,
    "start_time": "2024-10-04T20:06:23.180Z"
   },
   {
    "duration": 4,
    "start_time": "2024-10-04T20:07:50.372Z"
   },
   {
    "duration": 316,
    "start_time": "2024-10-04T20:08:50.950Z"
   },
   {
    "duration": 862,
    "start_time": "2024-10-04T20:08:54.237Z"
   },
   {
    "duration": 83,
    "start_time": "2024-10-04T20:08:59.005Z"
   },
   {
    "duration": 11,
    "start_time": "2024-10-04T20:09:09.086Z"
   },
   {
    "duration": 37,
    "start_time": "2024-10-04T20:09:26.243Z"
   },
   {
    "duration": 6,
    "start_time": "2024-10-04T20:09:34.963Z"
   },
   {
    "duration": 35,
    "start_time": "2024-10-04T20:10:09.600Z"
   },
   {
    "duration": 88,
    "start_time": "2024-10-04T20:10:18.570Z"
   },
   {
    "duration": 22,
    "start_time": "2024-10-04T20:10:21.340Z"
   },
   {
    "duration": 10,
    "start_time": "2024-10-04T20:10:25.404Z"
   },
   {
    "duration": 160,
    "start_time": "2024-10-04T20:10:28.345Z"
   },
   {
    "duration": 69,
    "start_time": "2024-10-04T20:10:34.885Z"
   },
   {
    "duration": 4,
    "start_time": "2024-10-04T20:11:02.795Z"
   },
   {
    "duration": 4,
    "start_time": "2024-10-04T20:12:08.324Z"
   },
   {
    "duration": 4,
    "start_time": "2024-10-04T20:12:43.265Z"
   },
   {
    "duration": 6,
    "start_time": "2024-10-04T20:12:47.930Z"
   },
   {
    "duration": 4,
    "start_time": "2024-10-04T20:13:12.542Z"
   },
   {
    "duration": 339,
    "start_time": "2024-10-05T04:55:25.266Z"
   },
   {
    "duration": 896,
    "start_time": "2024-10-05T04:55:25.607Z"
   },
   {
    "duration": 87,
    "start_time": "2024-10-05T04:55:26.505Z"
   },
   {
    "duration": 10,
    "start_time": "2024-10-05T04:55:26.595Z"
   },
   {
    "duration": 55,
    "start_time": "2024-10-05T04:55:26.607Z"
   },
   {
    "duration": 117,
    "start_time": "2024-10-05T04:55:26.664Z"
   },
   {
    "duration": 26,
    "start_time": "2024-10-05T04:55:26.783Z"
   },
   {
    "duration": 7,
    "start_time": "2024-10-05T04:55:26.810Z"
   },
   {
    "duration": 192,
    "start_time": "2024-10-05T04:55:26.832Z"
   },
   {
    "duration": 79,
    "start_time": "2024-10-05T04:55:27.030Z"
   },
   {
    "duration": 104,
    "start_time": "2024-10-05T04:55:27.111Z"
   },
   {
    "duration": 18,
    "start_time": "2024-10-05T04:55:27.217Z"
   },
   {
    "duration": 6,
    "start_time": "2024-10-05T04:55:27.236Z"
   },
   {
    "duration": 24,
    "start_time": "2024-10-05T04:55:27.244Z"
   },
   {
    "duration": 6,
    "start_time": "2024-10-05T04:58:42.994Z"
   },
   {
    "duration": 9,
    "start_time": "2024-10-05T04:58:52.862Z"
   },
   {
    "duration": 7,
    "start_time": "2024-10-05T04:58:58.728Z"
   },
   {
    "duration": 19,
    "start_time": "2024-10-05T04:59:57.010Z"
   },
   {
    "duration": 5,
    "start_time": "2024-10-05T05:01:06.340Z"
   },
   {
    "duration": 4,
    "start_time": "2024-10-05T05:01:08.224Z"
   },
   {
    "duration": 6,
    "start_time": "2024-10-05T05:01:16.472Z"
   },
   {
    "duration": 4,
    "start_time": "2024-10-05T05:01:18.550Z"
   },
   {
    "duration": 821,
    "start_time": "2024-10-05T05:04:56.342Z"
   },
   {
    "duration": 810,
    "start_time": "2024-10-05T05:05:09.263Z"
   },
   {
    "duration": 814,
    "start_time": "2024-10-05T05:05:24.474Z"
   },
   {
    "duration": 772,
    "start_time": "2024-10-05T05:13:29.213Z"
   },
   {
    "duration": 3,
    "start_time": "2024-10-05T05:15:10.080Z"
   },
   {
    "duration": 4,
    "start_time": "2024-10-05T05:15:26.855Z"
   },
   {
    "duration": 5,
    "start_time": "2024-10-05T05:15:39.096Z"
   },
   {
    "duration": 3,
    "start_time": "2024-10-05T05:15:43.220Z"
   },
   {
    "duration": 3,
    "start_time": "2024-10-05T05:15:51.387Z"
   },
   {
    "duration": 4,
    "start_time": "2024-10-05T05:18:48.748Z"
   },
   {
    "duration": 4,
    "start_time": "2024-10-05T05:19:03.610Z"
   },
   {
    "duration": 4,
    "start_time": "2024-10-05T05:19:14.473Z"
   },
   {
    "duration": 5,
    "start_time": "2024-10-05T05:19:56.007Z"
   },
   {
    "duration": 4,
    "start_time": "2024-10-05T05:20:00.779Z"
   },
   {
    "duration": 834,
    "start_time": "2024-10-05T05:21:07.643Z"
   },
   {
    "duration": 331,
    "start_time": "2024-10-05T05:29:13.251Z"
   },
   {
    "duration": 888,
    "start_time": "2024-10-05T05:29:13.584Z"
   },
   {
    "duration": 101,
    "start_time": "2024-10-05T05:29:14.474Z"
   },
   {
    "duration": 10,
    "start_time": "2024-10-05T05:29:14.578Z"
   },
   {
    "duration": 56,
    "start_time": "2024-10-05T05:29:14.591Z"
   },
   {
    "duration": 102,
    "start_time": "2024-10-05T05:29:14.649Z"
   },
   {
    "duration": 28,
    "start_time": "2024-10-05T05:29:14.753Z"
   },
   {
    "duration": 6,
    "start_time": "2024-10-05T05:29:14.783Z"
   },
   {
    "duration": 200,
    "start_time": "2024-10-05T05:29:14.791Z"
   },
   {
    "duration": 83,
    "start_time": "2024-10-05T05:29:14.993Z"
   },
   {
    "duration": 96,
    "start_time": "2024-10-05T05:29:15.078Z"
   },
   {
    "duration": 14,
    "start_time": "2024-10-05T05:29:15.176Z"
   },
   {
    "duration": 5,
    "start_time": "2024-10-05T05:29:15.192Z"
   },
   {
    "duration": 41,
    "start_time": "2024-10-05T05:29:15.200Z"
   },
   {
    "duration": 8,
    "start_time": "2024-10-05T05:29:15.243Z"
   },
   {
    "duration": 17,
    "start_time": "2024-10-05T05:29:15.252Z"
   },
   {
    "duration": 6,
    "start_time": "2024-10-05T05:29:15.270Z"
   },
   {
    "duration": 5,
    "start_time": "2024-10-05T05:29:15.277Z"
   },
   {
    "duration": 4,
    "start_time": "2024-10-05T05:29:15.284Z"
   },
   {
    "duration": 5,
    "start_time": "2024-10-05T05:29:15.289Z"
   },
   {
    "duration": 40,
    "start_time": "2024-10-05T05:29:15.295Z"
   },
   {
    "duration": 839,
    "start_time": "2024-10-05T05:29:15.338Z"
   },
   {
    "duration": 829,
    "start_time": "2024-10-05T05:29:16.179Z"
   },
   {
    "duration": 6,
    "start_time": "2024-10-05T05:29:17.010Z"
   },
   {
    "duration": 19,
    "start_time": "2024-10-05T05:29:17.017Z"
   },
   {
    "duration": 7,
    "start_time": "2024-10-05T05:29:24.982Z"
   },
   {
    "duration": 9,
    "start_time": "2024-10-05T05:32:47.516Z"
   },
   {
    "duration": 11,
    "start_time": "2024-10-05T05:36:01.158Z"
   },
   {
    "duration": 10,
    "start_time": "2024-10-05T05:36:06.912Z"
   },
   {
    "duration": 10,
    "start_time": "2024-10-05T05:36:11.765Z"
   },
   {
    "duration": 10,
    "start_time": "2024-10-05T05:36:18.837Z"
   },
   {
    "duration": 10,
    "start_time": "2024-10-05T05:36:24.757Z"
   },
   {
    "duration": 476,
    "start_time": "2024-10-05T05:36:31.997Z"
   },
   {
    "duration": 10,
    "start_time": "2024-10-05T05:36:56.184Z"
   },
   {
    "duration": 5,
    "start_time": "2024-10-05T05:36:56.327Z"
   },
   {
    "duration": 310,
    "start_time": "2024-10-05T05:38:49.876Z"
   },
   {
    "duration": 889,
    "start_time": "2024-10-05T05:38:50.189Z"
   },
   {
    "duration": 102,
    "start_time": "2024-10-05T05:38:51.081Z"
   },
   {
    "duration": 10,
    "start_time": "2024-10-05T05:38:51.185Z"
   },
   {
    "duration": 51,
    "start_time": "2024-10-05T05:38:51.198Z"
   },
   {
    "duration": 106,
    "start_time": "2024-10-05T05:38:51.251Z"
   },
   {
    "duration": 29,
    "start_time": "2024-10-05T05:38:51.358Z"
   },
   {
    "duration": 7,
    "start_time": "2024-10-05T05:38:51.388Z"
   },
   {
    "duration": 206,
    "start_time": "2024-10-05T05:38:51.397Z"
   },
   {
    "duration": 86,
    "start_time": "2024-10-05T05:38:51.605Z"
   },
   {
    "duration": 89,
    "start_time": "2024-10-05T05:38:51.693Z"
   },
   {
    "duration": 14,
    "start_time": "2024-10-05T05:38:51.784Z"
   },
   {
    "duration": 4,
    "start_time": "2024-10-05T05:38:51.799Z"
   },
   {
    "duration": 42,
    "start_time": "2024-10-05T05:38:51.807Z"
   },
   {
    "duration": 7,
    "start_time": "2024-10-05T05:38:51.851Z"
   },
   {
    "duration": 14,
    "start_time": "2024-10-05T05:38:51.860Z"
   },
   {
    "duration": 4,
    "start_time": "2024-10-05T05:38:51.877Z"
   },
   {
    "duration": 4,
    "start_time": "2024-10-05T05:38:51.883Z"
   },
   {
    "duration": 4,
    "start_time": "2024-10-05T05:38:51.888Z"
   },
   {
    "duration": 40,
    "start_time": "2024-10-05T05:38:51.894Z"
   },
   {
    "duration": 5,
    "start_time": "2024-10-05T05:38:51.936Z"
   },
   {
    "duration": 889,
    "start_time": "2024-10-05T05:38:51.942Z"
   },
   {
    "duration": 815,
    "start_time": "2024-10-05T05:38:52.833Z"
   },
   {
    "duration": 6,
    "start_time": "2024-10-05T05:38:59.656Z"
   },
   {
    "duration": 323,
    "start_time": "2024-10-05T05:40:11.480Z"
   },
   {
    "duration": 889,
    "start_time": "2024-10-05T05:40:11.806Z"
   },
   {
    "duration": 97,
    "start_time": "2024-10-05T05:40:12.696Z"
   },
   {
    "duration": 13,
    "start_time": "2024-10-05T05:40:12.795Z"
   },
   {
    "duration": 51,
    "start_time": "2024-10-05T05:40:12.810Z"
   },
   {
    "duration": 114,
    "start_time": "2024-10-05T05:40:12.863Z"
   },
   {
    "duration": 27,
    "start_time": "2024-10-05T05:40:12.980Z"
   },
   {
    "duration": 7,
    "start_time": "2024-10-05T05:40:13.009Z"
   },
   {
    "duration": 209,
    "start_time": "2024-10-05T05:40:13.032Z"
   },
   {
    "duration": 90,
    "start_time": "2024-10-05T05:40:13.242Z"
   },
   {
    "duration": 99,
    "start_time": "2024-10-05T05:40:13.333Z"
   },
   {
    "duration": 15,
    "start_time": "2024-10-05T05:40:13.434Z"
   },
   {
    "duration": 4,
    "start_time": "2024-10-05T05:40:13.451Z"
   },
   {
    "duration": 21,
    "start_time": "2024-10-05T05:40:13.459Z"
   },
   {
    "duration": 7,
    "start_time": "2024-10-05T05:40:13.482Z"
   },
   {
    "duration": 48,
    "start_time": "2024-10-05T05:40:13.491Z"
   },
   {
    "duration": 5,
    "start_time": "2024-10-05T05:40:13.541Z"
   },
   {
    "duration": 4,
    "start_time": "2024-10-05T05:40:13.547Z"
   },
   {
    "duration": 4,
    "start_time": "2024-10-05T05:40:13.553Z"
   },
   {
    "duration": 4,
    "start_time": "2024-10-05T05:40:13.560Z"
   },
   {
    "duration": 4,
    "start_time": "2024-10-05T05:40:13.565Z"
   },
   {
    "duration": 903,
    "start_time": "2024-10-05T05:40:13.571Z"
   },
   {
    "duration": 846,
    "start_time": "2024-10-05T05:40:14.476Z"
   },
   {
    "duration": 7,
    "start_time": "2024-10-05T05:40:15.331Z"
   },
   {
    "duration": 6,
    "start_time": "2024-10-05T05:40:15.340Z"
   },
   {
    "duration": 6,
    "start_time": "2024-10-05T05:40:15.347Z"
   },
   {
    "duration": 9,
    "start_time": "2024-10-05T05:40:15.355Z"
   },
   {
    "duration": 5,
    "start_time": "2024-10-05T05:40:15.366Z"
   },
   {
    "duration": 15,
    "start_time": "2024-10-05T05:42:28.508Z"
   },
   {
    "duration": 31,
    "start_time": "2024-10-05T05:42:30.915Z"
   },
   {
    "duration": 27,
    "start_time": "2024-10-05T05:46:55.549Z"
   },
   {
    "duration": 67,
    "start_time": "2024-10-05T05:46:58.607Z"
   },
   {
    "duration": 5,
    "start_time": "2024-10-05T05:47:54.323Z"
   },
   {
    "duration": 3,
    "start_time": "2024-10-05T05:47:57.360Z"
   },
   {
    "duration": 66,
    "start_time": "2024-10-05T05:48:19.602Z"
   },
   {
    "duration": 635,
    "start_time": "2024-10-05T05:49:00.251Z"
   },
   {
    "duration": 67,
    "start_time": "2024-10-05T05:49:40.297Z"
   },
   {
    "duration": 15,
    "start_time": "2024-10-05T05:50:25.175Z"
   },
   {
    "duration": 4,
    "start_time": "2024-10-05T05:52:17.597Z"
   },
   {
    "duration": 33,
    "start_time": "2024-10-05T05:53:12.657Z"
   },
   {
    "duration": 333,
    "start_time": "2024-10-05T05:53:22.256Z"
   },
   {
    "duration": 895,
    "start_time": "2024-10-05T05:53:22.592Z"
   },
   {
    "duration": 103,
    "start_time": "2024-10-05T05:53:23.489Z"
   },
   {
    "duration": 13,
    "start_time": "2024-10-05T05:53:23.595Z"
   },
   {
    "duration": 57,
    "start_time": "2024-10-05T05:53:23.610Z"
   },
   {
    "duration": 115,
    "start_time": "2024-10-05T05:53:23.669Z"
   },
   {
    "duration": 27,
    "start_time": "2024-10-05T05:53:23.785Z"
   },
   {
    "duration": 19,
    "start_time": "2024-10-05T05:53:23.814Z"
   },
   {
    "duration": 186,
    "start_time": "2024-10-05T05:53:23.834Z"
   },
   {
    "duration": 74,
    "start_time": "2024-10-05T05:53:24.032Z"
   },
   {
    "duration": 95,
    "start_time": "2024-10-05T05:53:24.108Z"
   },
   {
    "duration": 13,
    "start_time": "2024-10-05T05:53:24.205Z"
   },
   {
    "duration": 12,
    "start_time": "2024-10-05T05:53:24.220Z"
   },
   {
    "duration": 22,
    "start_time": "2024-10-05T05:53:24.234Z"
   },
   {
    "duration": 7,
    "start_time": "2024-10-05T05:53:24.257Z"
   },
   {
    "duration": 14,
    "start_time": "2024-10-05T05:53:24.266Z"
   },
   {
    "duration": 4,
    "start_time": "2024-10-05T05:53:24.282Z"
   },
   {
    "duration": 4,
    "start_time": "2024-10-05T05:53:24.288Z"
   },
   {
    "duration": 43,
    "start_time": "2024-10-05T05:53:24.293Z"
   },
   {
    "duration": 5,
    "start_time": "2024-10-05T05:53:24.338Z"
   },
   {
    "duration": 5,
    "start_time": "2024-10-05T05:53:24.344Z"
   },
   {
    "duration": 877,
    "start_time": "2024-10-05T05:53:24.351Z"
   },
   {
    "duration": 801,
    "start_time": "2024-10-05T05:53:25.230Z"
   },
   {
    "duration": 6,
    "start_time": "2024-10-05T05:53:26.032Z"
   },
   {
    "duration": 6,
    "start_time": "2024-10-05T05:53:26.040Z"
   },
   {
    "duration": 6,
    "start_time": "2024-10-05T05:53:26.047Z"
   },
   {
    "duration": 9,
    "start_time": "2024-10-05T05:53:26.055Z"
   },
   {
    "duration": 4,
    "start_time": "2024-10-05T05:53:26.068Z"
   },
   {
    "duration": 7,
    "start_time": "2024-10-05T05:53:26.074Z"
   },
   {
    "duration": 52,
    "start_time": "2024-10-05T05:53:26.082Z"
   },
   {
    "duration": 16,
    "start_time": "2024-10-05T05:53:26.137Z"
   },
   {
    "duration": 31,
    "start_time": "2024-10-05T05:53:26.154Z"
   },
   {
    "duration": 45,
    "start_time": "2024-10-05T05:53:26.187Z"
   },
   {
    "duration": 67,
    "start_time": "2024-10-05T05:53:26.234Z"
   },
   {
    "duration": 5,
    "start_time": "2024-10-05T05:53:26.302Z"
   },
   {
    "duration": 44,
    "start_time": "2024-10-05T05:53:26.308Z"
   },
   {
    "duration": 285,
    "start_time": "2024-10-05T05:56:33.807Z"
   },
   {
    "duration": 893,
    "start_time": "2024-10-05T05:56:34.094Z"
   },
   {
    "duration": 109,
    "start_time": "2024-10-05T05:56:34.988Z"
   },
   {
    "duration": 13,
    "start_time": "2024-10-05T05:56:35.099Z"
   },
   {
    "duration": 38,
    "start_time": "2024-10-05T05:56:35.130Z"
   },
   {
    "duration": 131,
    "start_time": "2024-10-05T05:56:35.170Z"
   },
   {
    "duration": 33,
    "start_time": "2024-10-05T05:56:35.303Z"
   },
   {
    "duration": 6,
    "start_time": "2024-10-05T05:56:35.338Z"
   },
   {
    "duration": 210,
    "start_time": "2024-10-05T05:56:35.346Z"
   },
   {
    "duration": 92,
    "start_time": "2024-10-05T05:56:35.558Z"
   },
   {
    "duration": 100,
    "start_time": "2024-10-05T05:56:35.651Z"
   },
   {
    "duration": 15,
    "start_time": "2024-10-05T05:56:35.753Z"
   },
   {
    "duration": 4,
    "start_time": "2024-10-05T05:56:35.770Z"
   },
   {
    "duration": 21,
    "start_time": "2024-10-05T05:56:35.778Z"
   },
   {
    "duration": 32,
    "start_time": "2024-10-05T05:56:35.801Z"
   },
   {
    "duration": 15,
    "start_time": "2024-10-05T05:56:35.835Z"
   },
   {
    "duration": 5,
    "start_time": "2024-10-05T05:56:35.851Z"
   },
   {
    "duration": 4,
    "start_time": "2024-10-05T05:56:35.857Z"
   },
   {
    "duration": 4,
    "start_time": "2024-10-05T05:56:35.863Z"
   },
   {
    "duration": 5,
    "start_time": "2024-10-05T05:56:35.869Z"
   },
   {
    "duration": 4,
    "start_time": "2024-10-05T05:56:35.877Z"
   },
   {
    "duration": 913,
    "start_time": "2024-10-05T05:56:35.882Z"
   },
   {
    "duration": 826,
    "start_time": "2024-10-05T05:56:36.797Z"
   },
   {
    "duration": 11,
    "start_time": "2024-10-05T05:56:37.625Z"
   },
   {
    "duration": 6,
    "start_time": "2024-10-05T05:56:37.638Z"
   },
   {
    "duration": 9,
    "start_time": "2024-10-05T05:56:37.646Z"
   },
   {
    "duration": 13,
    "start_time": "2024-10-05T05:56:37.659Z"
   },
   {
    "duration": 8,
    "start_time": "2024-10-05T05:56:37.674Z"
   },
   {
    "duration": 6,
    "start_time": "2024-10-05T05:56:37.684Z"
   },
   {
    "duration": 15,
    "start_time": "2024-10-05T05:56:48.019Z"
   },
   {
    "duration": 6,
    "start_time": "2024-10-05T06:07:09.386Z"
   },
   {
    "duration": 263,
    "start_time": "2024-10-05T06:12:43.816Z"
   },
   {
    "duration": 894,
    "start_time": "2024-10-05T06:12:44.081Z"
   },
   {
    "duration": 101,
    "start_time": "2024-10-05T06:12:44.978Z"
   },
   {
    "duration": 10,
    "start_time": "2024-10-05T06:12:45.082Z"
   },
   {
    "duration": 54,
    "start_time": "2024-10-05T06:12:45.095Z"
   },
   {
    "duration": 105,
    "start_time": "2024-10-05T06:12:45.151Z"
   },
   {
    "duration": 29,
    "start_time": "2024-10-05T06:12:45.257Z"
   },
   {
    "duration": 6,
    "start_time": "2024-10-05T06:12:45.287Z"
   },
   {
    "duration": 207,
    "start_time": "2024-10-05T06:12:45.295Z"
   },
   {
    "duration": 100,
    "start_time": "2024-10-05T06:12:45.505Z"
   },
   {
    "duration": 97,
    "start_time": "2024-10-05T06:12:45.606Z"
   },
   {
    "duration": 13,
    "start_time": "2024-10-05T06:12:45.704Z"
   },
   {
    "duration": 4,
    "start_time": "2024-10-05T06:12:45.731Z"
   },
   {
    "duration": 22,
    "start_time": "2024-10-05T06:12:45.736Z"
   },
   {
    "duration": 7,
    "start_time": "2024-10-05T06:12:45.760Z"
   },
   {
    "duration": 15,
    "start_time": "2024-10-05T06:12:45.769Z"
   },
   {
    "duration": 4,
    "start_time": "2024-10-05T06:12:45.786Z"
   },
   {
    "duration": 4,
    "start_time": "2024-10-05T06:12:45.792Z"
   },
   {
    "duration": 4,
    "start_time": "2024-10-05T06:12:45.831Z"
   },
   {
    "duration": 4,
    "start_time": "2024-10-05T06:12:45.837Z"
   },
   {
    "duration": 4,
    "start_time": "2024-10-05T06:12:45.843Z"
   },
   {
    "duration": 844,
    "start_time": "2024-10-05T06:12:45.848Z"
   },
   {
    "duration": 838,
    "start_time": "2024-10-05T06:12:46.694Z"
   },
   {
    "duration": 6,
    "start_time": "2024-10-05T06:12:47.534Z"
   },
   {
    "duration": 6,
    "start_time": "2024-10-05T06:12:47.541Z"
   },
   {
    "duration": 7,
    "start_time": "2024-10-05T06:12:47.548Z"
   },
   {
    "duration": 10,
    "start_time": "2024-10-05T06:12:47.556Z"
   },
   {
    "duration": 5,
    "start_time": "2024-10-05T06:12:47.570Z"
   },
   {
    "duration": 7,
    "start_time": "2024-10-05T06:12:47.577Z"
   },
   {
    "duration": 56,
    "start_time": "2024-10-05T06:12:47.585Z"
   },
   {
    "duration": 302,
    "start_time": "2024-10-05T06:24:34.192Z"
   },
   {
    "duration": 888,
    "start_time": "2024-10-05T06:24:34.496Z"
   },
   {
    "duration": 104,
    "start_time": "2024-10-05T06:24:35.386Z"
   },
   {
    "duration": 11,
    "start_time": "2024-10-05T06:24:35.492Z"
   },
   {
    "duration": 51,
    "start_time": "2024-10-05T06:24:35.505Z"
   },
   {
    "duration": 115,
    "start_time": "2024-10-05T06:24:35.558Z"
   },
   {
    "duration": 28,
    "start_time": "2024-10-05T06:24:35.674Z"
   },
   {
    "duration": 6,
    "start_time": "2024-10-05T06:24:35.704Z"
   },
   {
    "duration": 194,
    "start_time": "2024-10-05T06:24:35.712Z"
   },
   {
    "duration": 87,
    "start_time": "2024-10-05T06:24:35.907Z"
   },
   {
    "duration": 90,
    "start_time": "2024-10-05T06:24:35.995Z"
   },
   {
    "duration": 12,
    "start_time": "2024-10-05T06:24:36.087Z"
   },
   {
    "duration": 4,
    "start_time": "2024-10-05T06:24:36.101Z"
   },
   {
    "duration": 33,
    "start_time": "2024-10-05T06:24:36.108Z"
   },
   {
    "duration": 7,
    "start_time": "2024-10-05T06:24:36.143Z"
   },
   {
    "duration": 14,
    "start_time": "2024-10-05T06:24:36.151Z"
   },
   {
    "duration": 3,
    "start_time": "2024-10-05T06:24:36.167Z"
   },
   {
    "duration": 4,
    "start_time": "2024-10-05T06:24:36.172Z"
   },
   {
    "duration": 4,
    "start_time": "2024-10-05T06:24:36.178Z"
   },
   {
    "duration": 4,
    "start_time": "2024-10-05T06:24:36.184Z"
   },
   {
    "duration": 45,
    "start_time": "2024-10-05T06:24:36.190Z"
   },
   {
    "duration": 803,
    "start_time": "2024-10-05T06:24:36.237Z"
   },
   {
    "duration": 819,
    "start_time": "2024-10-05T06:24:37.041Z"
   },
   {
    "duration": 5,
    "start_time": "2024-10-05T06:24:37.862Z"
   },
   {
    "duration": 5,
    "start_time": "2024-10-05T06:24:37.869Z"
   },
   {
    "duration": 6,
    "start_time": "2024-10-05T06:24:37.876Z"
   },
   {
    "duration": 9,
    "start_time": "2024-10-05T06:24:37.884Z"
   },
   {
    "duration": 38,
    "start_time": "2024-10-05T06:24:37.894Z"
   },
   {
    "duration": 8,
    "start_time": "2024-10-05T06:24:37.934Z"
   },
   {
    "duration": 15,
    "start_time": "2024-10-05T06:24:37.944Z"
   },
   {
    "duration": 15,
    "start_time": "2024-10-05T06:24:37.961Z"
   },
   {
    "duration": 58,
    "start_time": "2024-10-05T06:24:37.978Z"
   },
   {
    "duration": 26,
    "start_time": "2024-10-05T06:24:38.038Z"
   },
   {
    "duration": 84,
    "start_time": "2024-10-05T06:24:38.066Z"
   },
   {
    "duration": 4,
    "start_time": "2024-10-05T06:24:38.152Z"
   },
   {
    "duration": 28,
    "start_time": "2024-10-05T06:24:38.157Z"
   },
   {
    "duration": 6,
    "start_time": "2024-10-05T06:24:38.187Z"
   },
   {
    "duration": 1887,
    "start_time": "2024-10-05T06:25:01.740Z"
   },
   {
    "duration": 214,
    "start_time": "2024-10-05T06:25:09.651Z"
   },
   {
    "duration": 203,
    "start_time": "2024-10-05T06:26:12.536Z"
   },
   {
    "duration": 154,
    "start_time": "2024-10-05T06:29:33.232Z"
   },
   {
    "duration": 398,
    "start_time": "2024-10-05T06:30:29.415Z"
   },
   {
    "duration": 935,
    "start_time": "2024-10-05T06:30:29.815Z"
   },
   {
    "duration": 107,
    "start_time": "2024-10-05T06:30:30.752Z"
   },
   {
    "duration": 12,
    "start_time": "2024-10-05T06:30:30.861Z"
   },
   {
    "duration": 58,
    "start_time": "2024-10-05T06:30:30.875Z"
   },
   {
    "duration": 101,
    "start_time": "2024-10-05T06:30:30.935Z"
   },
   {
    "duration": 25,
    "start_time": "2024-10-05T06:30:31.038Z"
   },
   {
    "duration": 6,
    "start_time": "2024-10-05T06:30:31.065Z"
   },
   {
    "duration": 203,
    "start_time": "2024-10-05T06:30:31.072Z"
   },
   {
    "duration": 86,
    "start_time": "2024-10-05T06:30:31.277Z"
   },
   {
    "duration": 102,
    "start_time": "2024-10-05T06:30:31.364Z"
   },
   {
    "duration": 15,
    "start_time": "2024-10-05T06:30:31.467Z"
   },
   {
    "duration": 4,
    "start_time": "2024-10-05T06:30:31.484Z"
   },
   {
    "duration": 42,
    "start_time": "2024-10-05T06:30:31.491Z"
   },
   {
    "duration": 8,
    "start_time": "2024-10-05T06:30:31.535Z"
   },
   {
    "duration": 15,
    "start_time": "2024-10-05T06:30:31.545Z"
   },
   {
    "duration": 4,
    "start_time": "2024-10-05T06:30:31.562Z"
   },
   {
    "duration": 4,
    "start_time": "2024-10-05T06:30:31.569Z"
   },
   {
    "duration": 5,
    "start_time": "2024-10-05T06:30:31.575Z"
   },
   {
    "duration": 8,
    "start_time": "2024-10-05T06:30:31.582Z"
   },
   {
    "duration": 40,
    "start_time": "2024-10-05T06:30:31.592Z"
   },
   {
    "duration": 836,
    "start_time": "2024-10-05T06:30:31.634Z"
   },
   {
    "duration": 785,
    "start_time": "2024-10-05T06:30:32.472Z"
   },
   {
    "duration": 7,
    "start_time": "2024-10-05T06:30:33.259Z"
   },
   {
    "duration": 7,
    "start_time": "2024-10-05T06:30:33.269Z"
   },
   {
    "duration": 7,
    "start_time": "2024-10-05T06:30:33.277Z"
   },
   {
    "duration": 12,
    "start_time": "2024-10-05T06:30:33.286Z"
   },
   {
    "duration": 32,
    "start_time": "2024-10-05T06:30:33.299Z"
   },
   {
    "duration": 6,
    "start_time": "2024-10-05T06:30:33.333Z"
   },
   {
    "duration": 18,
    "start_time": "2024-10-05T06:30:33.341Z"
   },
   {
    "duration": 15,
    "start_time": "2024-10-05T06:30:33.360Z"
   },
   {
    "duration": 57,
    "start_time": "2024-10-05T06:30:33.376Z"
   },
   {
    "duration": 27,
    "start_time": "2024-10-05T06:30:33.435Z"
   },
   {
    "duration": 82,
    "start_time": "2024-10-05T06:30:33.465Z"
   },
   {
    "duration": 4,
    "start_time": "2024-10-05T06:30:33.549Z"
   },
   {
    "duration": 29,
    "start_time": "2024-10-05T06:30:33.555Z"
   },
   {
    "duration": 6,
    "start_time": "2024-10-05T06:30:33.586Z"
   },
   {
    "duration": 239,
    "start_time": "2024-10-05T06:30:33.594Z"
   },
   {
    "duration": 156,
    "start_time": "2024-10-05T06:30:33.835Z"
   },
   {
    "duration": 1142,
    "start_time": "2024-10-05T06:41:37.535Z"
   },
   {
    "duration": 159,
    "start_time": "2024-10-05T14:21:35.490Z"
   },
   {
    "duration": 2250,
    "start_time": "2024-10-05T14:31:37.846Z"
   },
   {
    "duration": 1041,
    "start_time": "2024-10-05T14:31:40.099Z"
   },
   {
    "duration": 96,
    "start_time": "2024-10-05T14:31:41.142Z"
   },
   {
    "duration": 30,
    "start_time": "2024-10-05T14:31:41.241Z"
   },
   {
    "duration": 37,
    "start_time": "2024-10-05T14:31:41.273Z"
   },
   {
    "duration": 115,
    "start_time": "2024-10-05T14:31:41.312Z"
   },
   {
    "duration": 25,
    "start_time": "2024-10-05T14:31:41.429Z"
   },
   {
    "duration": 18,
    "start_time": "2024-10-05T14:31:41.456Z"
   },
   {
    "duration": 197,
    "start_time": "2024-10-05T14:31:41.476Z"
   },
   {
    "duration": 98,
    "start_time": "2024-10-05T14:31:41.676Z"
   },
   {
    "duration": 82,
    "start_time": "2024-10-05T14:31:41.776Z"
   },
   {
    "duration": 13,
    "start_time": "2024-10-05T14:31:41.870Z"
   },
   {
    "duration": 4,
    "start_time": "2024-10-05T14:31:41.885Z"
   },
   {
    "duration": 20,
    "start_time": "2024-10-05T14:31:41.891Z"
   },
   {
    "duration": 7,
    "start_time": "2024-10-05T14:31:41.913Z"
   },
   {
    "duration": 16,
    "start_time": "2024-10-05T14:31:41.922Z"
   },
   {
    "duration": 4,
    "start_time": "2024-10-05T14:31:41.971Z"
   },
   {
    "duration": 4,
    "start_time": "2024-10-05T14:31:41.977Z"
   },
   {
    "duration": 3,
    "start_time": "2024-10-05T14:31:41.983Z"
   },
   {
    "duration": 4,
    "start_time": "2024-10-05T14:31:41.988Z"
   },
   {
    "duration": 4,
    "start_time": "2024-10-05T14:31:41.994Z"
   },
   {
    "duration": 834,
    "start_time": "2024-10-05T14:31:41.999Z"
   },
   {
    "duration": 829,
    "start_time": "2024-10-05T14:31:42.836Z"
   },
   {
    "duration": 6,
    "start_time": "2024-10-05T14:31:43.671Z"
   },
   {
    "duration": 6,
    "start_time": "2024-10-05T14:31:43.679Z"
   },
   {
    "duration": 7,
    "start_time": "2024-10-05T14:31:43.686Z"
   },
   {
    "duration": 10,
    "start_time": "2024-10-05T14:31:43.695Z"
   },
   {
    "duration": 5,
    "start_time": "2024-10-05T14:31:43.709Z"
   },
   {
    "duration": 8,
    "start_time": "2024-10-05T14:31:43.715Z"
   },
   {
    "duration": 55,
    "start_time": "2024-10-05T14:31:43.724Z"
   },
   {
    "duration": 16,
    "start_time": "2024-10-05T14:31:43.781Z"
   },
   {
    "duration": 32,
    "start_time": "2024-10-05T14:31:43.799Z"
   },
   {
    "duration": 51,
    "start_time": "2024-10-05T14:31:43.833Z"
   },
   {
    "duration": 67,
    "start_time": "2024-10-05T14:31:43.886Z"
   },
   {
    "duration": 17,
    "start_time": "2024-10-05T14:31:43.955Z"
   },
   {
    "duration": 26,
    "start_time": "2024-10-05T14:31:43.974Z"
   },
   {
    "duration": 6,
    "start_time": "2024-10-05T14:31:44.002Z"
   },
   {
    "duration": 231,
    "start_time": "2024-10-05T14:31:44.010Z"
   },
   {
    "duration": 163,
    "start_time": "2024-10-05T14:31:44.243Z"
   },
   {
    "duration": 210,
    "start_time": "2024-10-05T14:31:44.408Z"
   },
   {
    "duration": 476,
    "start_time": "2024-10-05T14:31:44.619Z"
   },
   {
    "duration": 10,
    "start_time": "2024-10-05T14:31:45.098Z"
   },
   {
    "duration": 199,
    "start_time": "2024-10-05T14:31:45.110Z"
   },
   {
    "duration": 102,
    "start_time": "2024-10-05T14:31:45.311Z"
   },
   {
    "duration": 434,
    "start_time": "2024-10-05T14:31:45.415Z"
   },
   {
    "duration": 130,
    "start_time": "2024-10-05T14:31:45.851Z"
   },
   {
    "duration": 1136,
    "start_time": "2024-10-05T14:31:45.983Z"
   },
   {
    "duration": 160,
    "start_time": "2024-10-05T20:02:15.016Z"
   },
   {
    "duration": 2260,
    "start_time": "2024-10-05T20:02:29.891Z"
   },
   {
    "duration": 1050,
    "start_time": "2024-10-05T20:02:32.153Z"
   },
   {
    "duration": 102,
    "start_time": "2024-10-05T20:02:33.205Z"
   },
   {
    "duration": 11,
    "start_time": "2024-10-05T20:02:33.309Z"
   },
   {
    "duration": 52,
    "start_time": "2024-10-05T20:02:33.321Z"
   },
   {
    "duration": 110,
    "start_time": "2024-10-05T20:02:33.375Z"
   },
   {
    "duration": 26,
    "start_time": "2024-10-05T20:02:33.487Z"
   },
   {
    "duration": 6,
    "start_time": "2024-10-05T20:02:33.515Z"
   },
   {
    "duration": 185,
    "start_time": "2024-10-05T20:02:33.523Z"
   },
   {
    "duration": 82,
    "start_time": "2024-10-05T20:02:33.711Z"
   },
   {
    "duration": 91,
    "start_time": "2024-10-05T20:02:33.795Z"
   },
   {
    "duration": 13,
    "start_time": "2024-10-05T20:02:33.887Z"
   },
   {
    "duration": 4,
    "start_time": "2024-10-05T20:02:33.902Z"
   },
   {
    "duration": 58,
    "start_time": "2024-10-05T20:02:33.908Z"
   },
   {
    "duration": 6,
    "start_time": "2024-10-05T20:02:58.958Z"
   },
   {
    "duration": 16,
    "start_time": "2024-10-05T20:03:06.951Z"
   },
   {
    "duration": 420,
    "start_time": "2024-10-05T20:04:15.983Z"
   },
   {
    "duration": 906,
    "start_time": "2024-10-05T20:04:16.405Z"
   },
   {
    "duration": 98,
    "start_time": "2024-10-05T20:04:17.312Z"
   },
   {
    "duration": 11,
    "start_time": "2024-10-05T20:04:17.413Z"
   },
   {
    "duration": 36,
    "start_time": "2024-10-05T20:04:17.443Z"
   },
   {
    "duration": 108,
    "start_time": "2024-10-05T20:04:17.480Z"
   },
   {
    "duration": 22,
    "start_time": "2024-10-05T20:04:17.590Z"
   },
   {
    "duration": 6,
    "start_time": "2024-10-05T20:04:17.614Z"
   },
   {
    "duration": 189,
    "start_time": "2024-10-05T20:04:17.621Z"
   },
   {
    "duration": 83,
    "start_time": "2024-10-05T20:04:17.814Z"
   },
   {
    "duration": 86,
    "start_time": "2024-10-05T20:04:17.899Z"
   },
   {
    "duration": 12,
    "start_time": "2024-10-05T20:04:17.987Z"
   },
   {
    "duration": 5,
    "start_time": "2024-10-05T20:04:18.000Z"
   },
   {
    "duration": 57,
    "start_time": "2024-10-05T20:04:18.007Z"
   },
   {
    "duration": 6,
    "start_time": "2024-10-05T20:04:18.065Z"
   },
   {
    "duration": 12,
    "start_time": "2024-10-05T20:04:18.073Z"
   },
   {
    "duration": 4,
    "start_time": "2024-10-05T20:04:18.087Z"
   },
   {
    "duration": 4,
    "start_time": "2024-10-05T20:04:18.092Z"
   },
   {
    "duration": 4,
    "start_time": "2024-10-05T20:04:18.098Z"
   },
   {
    "duration": 40,
    "start_time": "2024-10-05T20:04:18.104Z"
   },
   {
    "duration": 4,
    "start_time": "2024-10-05T20:04:18.145Z"
   },
   {
    "duration": 788,
    "start_time": "2024-10-05T20:04:18.151Z"
   },
   {
    "duration": 810,
    "start_time": "2024-10-05T20:04:18.943Z"
   },
   {
    "duration": 6,
    "start_time": "2024-10-05T20:04:19.755Z"
   },
   {
    "duration": 6,
    "start_time": "2024-10-05T20:04:19.763Z"
   },
   {
    "duration": 5,
    "start_time": "2024-10-05T20:04:19.771Z"
   },
   {
    "duration": 10,
    "start_time": "2024-10-05T20:04:19.778Z"
   },
   {
    "duration": 4,
    "start_time": "2024-10-05T20:04:19.792Z"
   },
   {
    "duration": 47,
    "start_time": "2024-10-05T20:04:19.798Z"
   },
   {
    "duration": 16,
    "start_time": "2024-10-05T20:04:19.846Z"
   },
   {
    "duration": 15,
    "start_time": "2024-10-05T20:04:19.864Z"
   },
   {
    "duration": 31,
    "start_time": "2024-10-05T20:04:19.881Z"
   },
   {
    "duration": 54,
    "start_time": "2024-10-05T20:04:19.914Z"
   },
   {
    "duration": 76,
    "start_time": "2024-10-05T20:04:19.970Z"
   },
   {
    "duration": 4,
    "start_time": "2024-10-05T20:04:20.047Z"
   },
   {
    "duration": 27,
    "start_time": "2024-10-05T20:04:20.053Z"
   },
   {
    "duration": 6,
    "start_time": "2024-10-05T20:04:20.082Z"
   },
   {
    "duration": 231,
    "start_time": "2024-10-05T20:04:20.090Z"
   },
   {
    "duration": 149,
    "start_time": "2024-10-05T20:04:20.323Z"
   },
   {
    "duration": 223,
    "start_time": "2024-10-05T20:04:20.473Z"
   },
   {
    "duration": 482,
    "start_time": "2024-10-05T20:04:20.698Z"
   },
   {
    "duration": 11,
    "start_time": "2024-10-05T20:04:21.181Z"
   },
   {
    "duration": 200,
    "start_time": "2024-10-05T20:04:21.194Z"
   },
   {
    "duration": 98,
    "start_time": "2024-10-05T20:04:21.396Z"
   },
   {
    "duration": 433,
    "start_time": "2024-10-05T20:04:21.496Z"
   },
   {
    "duration": 137,
    "start_time": "2024-10-05T20:04:21.931Z"
   },
   {
    "duration": 1094,
    "start_time": "2024-10-05T20:04:22.070Z"
   }
  ],
  "kernelspec": {
   "display_name": "Python 3 (ipykernel)",
   "language": "python",
   "name": "python3"
  },
  "language_info": {
   "codemirror_mode": {
    "name": "ipython",
    "version": 3
   },
   "file_extension": ".py",
   "mimetype": "text/x-python",
   "name": "python",
   "nbconvert_exporter": "python",
   "pygments_lexer": "ipython3",
   "version": "3.9.19"
  },
  "toc": {
   "base_numbering": 1,
   "nav_menu": {},
   "number_sections": true,
   "sideBar": true,
   "skip_h1_title": true,
   "title_cell": "Table of Contents",
   "title_sidebar": "Contents",
   "toc_cell": false,
   "toc_position": {
    "height": "calc(100% - 180px)",
    "left": "10px",
    "top": "150px",
    "width": "165px"
   },
   "toc_section_display": true,
   "toc_window_display": true
  },
  "vscode": {
   "interpreter": {
    "hash": "01a7be9ec63e704a62cefc5fe7a4756944464ee731be31632bdf42a4cb4688cf"
   }
  }
 },
 "nbformat": 4,
 "nbformat_minor": 5
}
